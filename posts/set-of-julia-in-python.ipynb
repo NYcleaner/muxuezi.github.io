{
 "metadata": {
  "language": "Julia",
  "name": "",
  "signature": "sha256:8cf68b08ea3b1ae732ffd32ebac09db2ca4eff2a034b1cdadcbed7b72a396601"
 },
 "nbformat": 3,
 "nbformat_minor": 0,
 "worksheets": [
  {
   "cells": [
    {
     "cell_type": "markdown",
     "metadata": {},
     "source": [
      "[\u6f14\u793a\u5206\u5f62\u51e0\u4f55\uff08fractal geometry\uff09](../portfolio/fractals.slides.html)\u5bf9\u6bd4Python\u548cJulia\u7684\u6027\u80fd\n",
      "\n",
      "<!-- TEASER_END -->"
     ]
    },
    {
     "cell_type": "heading",
     "level": 1,
     "metadata": {},
     "source": [
      "Python"
     ]
    },
    {
     "cell_type": "code",
     "collapsed": false,
     "input": [
      "def julia(z, c, maxiter=200):\n",
      "    for n in xrange(maxiter):\n",
      "        if abs(z) > 4:\n",
      "            return n-1\n",
      "        \n",
      "        z = z*z + c\n",
      "    \n",
      "    return maxiter"
     ],
     "language": "python",
     "metadata": {},
     "outputs": [],
     "prompt_number": 1
    },
    {
     "cell_type": "code",
     "collapsed": false,
     "input": [
      "import numpy as np"
     ],
     "language": "python",
     "metadata": {},
     "outputs": [],
     "prompt_number": 2
    },
    {
     "cell_type": "code",
     "collapsed": false,
     "input": [
      "%%time\n",
      "for i in np.r_[1:-1:-.002]:\n",
      "    for r in np.r_[-1.5:1.5:0.002]:\n",
      "        julia(complex(r,i), complex(-.06, .67))\n",
      "        "
     ],
     "language": "python",
     "metadata": {},
     "outputs": [
      {
       "output_type": "stream",
       "stream": "stdout",
       "text": [
        "CPU times: user 10.6 s, sys: 59.6 ms, total: 10.6 s\n",
        "Wall time: 10.6 s\n"
       ]
      }
     ],
     "prompt_number": 3
    },
    {
     "cell_type": "heading",
     "level": 1,
     "metadata": {},
     "source": [
      "Julia"
     ]
    },
    {
     "cell_type": "code",
     "collapsed": false,
     "input": [
      "# julia set\n",
      "# (the familiar mandelbrot set is obtained by setting c==z initially)\n",
      "# function julia(z, c; maxiter=1000)\n",
      "#     for n = 1:maxiter\n",
      "#         if abs2(z) > 4\n",
      "#             return n-1\n",
      "#         end\n",
      "#         z = z*z + c\n",
      "#     end\n",
      "#     return maxiter\n",
      "# end"
     ],
     "language": "python",
     "metadata": {},
     "outputs": [],
     "prompt_number": 2
    },
    {
     "cell_type": "code",
     "collapsed": false,
     "input": [
      "#@time m = [ uint8(julia(complex(r,i), complex(-.06,.67))) for i=1:-.002:-1, r=-1.5:.002:1.5 ];"
     ],
     "language": "python",
     "metadata": {},
     "outputs": [],
     "prompt_number": 5
    },
    {
     "cell_type": "code",
     "collapsed": false,
     "input": [
      "#X, Y = np.ogrid[1:-1:-.002, -1.5:1.5:.002]\n",
      "#m = [[ int(julia(complex(r,i), complex(-.06,.67))) for i in np.arange(1, 1,-.002)] \n",
      "#     for r in np.arange(-1.5, 1.5, 0.002)];"
     ],
     "language": "python",
     "metadata": {},
     "outputs": []
    },
    {
     "cell_type": "code",
     "collapsed": false,
     "input": [
      "# elapsed time: 0.247828677 seconds (1502560 bytes allocated)"
     ],
     "language": "python",
     "metadata": {},
     "outputs": [],
     "prompt_number": 6
    },
    {
     "cell_type": "heading",
     "level": 1,
     "metadata": {},
     "source": [
      "Time cost"
     ]
    },
    {
     "cell_type": "code",
     "collapsed": false,
     "input": [
      "10.6 / 0.247828677"
     ],
     "language": "python",
     "metadata": {},
     "outputs": [
      {
       "metadata": {},
       "output_type": "pyout",
       "prompt_number": 1,
       "text": [
        "42.771482817543344"
       ]
      }
     ],
     "prompt_number": 1
    }
   ],
   "metadata": {}
  }
 ]
}