{
 "metadata": {
  "name": "",
  "signature": "sha256:4d6298438983ed997e39eeda795bd4e1b93b69d9e90ae70c01eefa2769c03652"
 },
 "nbformat": 3,
 "nbformat_minor": 0,
 "worksheets": [
  {
   "cells": [
    {
     "cell_type": "heading",
     "level": 1,
     "metadata": {},
     "source": [
      "\u9891\u7387\u4e3b\u4e49 vs \u8d1d\u53f6\u65af\u4e3b\u4e49 III\uff1a\u7f6e\u4fe1(Confidence)\u4e0e\u53ef\u4fe1(Credibility)\uff0c\u9891\u7387\u4e3b\u4e49\u4e0e\u79d1\u5b66\uff0c\u4e0d\u80fd\u6df7\u4e3a\u4e00\u8c08"
     ]
    },
    {
     "cell_type": "markdown",
     "metadata": {},
     "source": [
      "*\u8fd9\u4e2anotebook\u51fa\u81ea[Pythonic Perambulations](http://jakevdp.github.io)\u7684[\u535a\u6587](http://jakevdp.github.io/blog/2014/06/12/frequentism-and-bayesianism-3-confidence-credibility/) . The content is BSD licensed.*"
     ]
    },
    {
     "cell_type": "markdown",
     "metadata": {},
     "source": [
      "*\u8fd9\u4e2a\u7cfb\u5217\u51714\u4e2a\u90e8\u5206\uff1a\u4e2d\u6587\u7248[Part I](http://muxuezi.github.io/posts/frequentism-and-bayesianism-chs)  [Part II](http://muxuezi.github.io/posts/frequentism-and-bayesianism-chs-ii)  [Part III](http://muxuezi.github.io/posts/frequentism-and-bayesianism-chs-iii)  [Part IV](http://muxuezi.github.io/posts/frequentism-and-bayesianism-chs-iv)\uff0c\u82f1\u6587\u7248[Part I](http://jakevdp.github.io/blog/2014/03/11/frequentism-and-bayesianism-a-practical-intro/)  [Part II](http://jakevdp.github.io/blog/2014/06/06/frequentism-and-bayesianism-2-when-results-differ/)  [Part III](http://jakevdp.github.io/blog/2014/06/12/frequentism-and-bayesianism-3-confidence-credibility/)  [Part IV](http://jakevdp.github.io/blog/2014/06/14/frequentism-and-bayesianism-4-bayesian-in-python/)*\n",
      "\n",
      "<!-- TEASER_END -->"
     ]
    },
    {
     "cell_type": "markdown",
     "metadata": {},
     "source": [
      "\u5728\u9053\u683c\u62c9\u65af\u00b7\u4e9a\u5f53\u65af(Douglas Adams)\u7684\u7ecf\u5178\u8457\u4f5c*\u300a\u94f6\u6cb3\u7cfb\u6f2b\u6e38\u6307\u5357\u300b*\u4e2d\uff0c\u6709\u4e00\u79cd\u8d85\u667a\u6167\u751f\u7269(\u8001\u9f20)\u5efa\u9020\u4e86\u4e00\u90e8\u8d85\u7ea7\u7535\u8111\uff0c\u540d\u6df1\u601d(Deep Thought)\uff0c\u5b83\u4eec\u95ee\u8d85\u7ea7\u7535\u8111\uff0c\u201c\u751f\u547d\u3001\u5b87\u5b99\u4ee5\u53ca\u4efb\u4f55\u4e8b\u60c5\u7684\u7ec8\u6781\u7b54\u6848\u662f\u4ec0\u4e48\u201d\u3002\u7ecf\u8fc7750\u4e07\u5e74\u7684\u8ba1\u7b97\uff0c\u6df1\u601d\u544a\u8bc9\u8001\u9f20\u7684\u7b54\u6848\u662f\uff1a\n",
      "\n",
      "**42**\n",
      "\n",
      "\u5931\u671b\u7684\u5de5\u7a0b\u5e08\u4eec\uff0c\u6298\u817e\u4e86\u4e00\u8f88\u5b50\u5c31\u7b49\u5230\u8fd9\u6837\u7684\u56de\u7b54\uff0c\u90fd\u5446\u4f4f\u4e86\u3002\u4ed6\u4eec\u4e0d\u505c\u7684\u8ffd\u95ee\u6df1\u601d\u66f4\u591a\u7684\u4fe1\u606f\uff0c\u6700\u540e\u6df1\u601d\u8bf4\uff1a\u201c\u53ea\u8981\u7406\u89e3\u4e86\u95ee\u9898\u7684\u672c\u8d28\uff0c\u4f60\u5c31\u80fd\u627e\u5230\u7b54\u6848\u3002\u201d\n",
      "\n",
      "\u4e5f\u5c31\u662f\u8bf4\uff0c\u5982\u679c\u4f60\u4e0d\u660e\u767d\u95ee\u9898\uff0c\u90a3\u4e48\u7b54\u6848\u4e5f\u4e0d\u4f1a\u9760\u8c31\u3002\n",
      "\n",
      "\u6211\u89c9\u5f97\u8fd9\u4e2a\u6545\u4e8b\u5728\u79d1\u5b66\u7edf\u8ba1\u5de5\u4f5c\u4e2d\u662f\u4e2a\u6070\u5f53\u7684\u6bd4\u55bb\u3002\u5f53\u4f30\u8ba1\u672a\u77e5\u53c2\u6570\u65f6\uff0c\u9891\u7387\u8bba\u65b9\u6cd5\u503e\u5411\u4e8e**\u7f6e\u4fe1\u533a\u95f4(confidence interval)** (CI)\uff0c\u800c\u8d1d\u53f6\u65af\u7406\u8bba\u5219\u7528**\u53ef\u4fe1\u8303\u56f4(credible region)** (CR)\u3002\u5c3d\u7ba1\u542c\u8d77\u6765\u6ca1\u5565\u533a\u522b\uff0c\u4f46\u662f\u5728\u5904\u7406\u4e00\u4e9b\u57fa\u672c\u95ee\u9898\u65f6\uff0c\u4e24\u8005\u7684\u5dee\u5f02\u53d8\u5f97\u81f3\u5173\u91cd\u8981\u3002\n",
      "\n",
      "\u5c31\u50cf\u9053\u683c\u62c9\u65af\u00b7\u4e9a\u5f53\u65af\u5b87\u5b99\u4e2d\u53ef\u601c\u7684\u751f\u547d\u5e0c\u671b\u5f97\u5230\u542f\u793a(enlightenment)\uff0c\u79d1\u5b66\u5bb6\u4eec\u5e38\u5e38\u60f3\u8fd0\u7528\u9891\u7387\u4e3b\u4e49\u83b7\u5f97\u6b63\u786e\u7ed3\u679c\uff0c\u4f46\u8fd9\u4e48\u505a\u5374\u5ffd\u7565\u4e86\u79d1\u5b66\u7684\u4e8b\u5b9e\uff0c\u90a3\u5c31\u662f**\u9891\u7387\u4e3b\u4e49\u901a\u5e38\u5728\u56de\u7b54\u9519\u8bef\u7684\u95ee\u9898**\u3002\u8fd9\u7edd\u4e0d\u662f\u7b80\u5355\u7684\u7eb8\u4e0a\u8c08\u5175\uff1a\u53ea\u8981\u6211\u660e\u767d\u4e86\u89c2\u5bdf\u6570\u636e\uff0c\u5c31\u53ef\u4ee5\u4ece\u4e2d\u83b7\u5f97\u6b63\u786e\u7684\u7b54\u6848\u3002"
     ]
    },
    {
     "cell_type": "heading",
     "level": 1,
     "metadata": {},
     "source": [
      "\u7f6e\u4fe1 vs. \u53ef\u4fe1"
     ]
    },
    {
     "cell_type": "markdown",
     "metadata": {},
     "source": [
      "\u5728[\u7b2c\u4e00\u8282](http://jakevdp.github.io/blog/2014/03/11/frequentism-and-bayesianism-a-practical-intro/)\u4e2d\uff0c\u6211\u4eec\u8ba8\u8bba\u4e86\u9891\u7387\u4e3b\u4e49\u4e0e\u8d1d\u53f6\u65af\u4e3b\u4e49\u57fa\u672c\u7406\u8bba\u7684\u5dee\u5f02\uff1a\u9891\u7387\u8bba\u8ba4\u4e3a\u6982\u7387\u662f**\u91cd\u590d\u4e8b\u4ef6(\u5047\u8bbe)\u53d1\u751f\u7684\u9891\u7387**\uff1b\u8d1d\u53f6\u65af\u8ba4\u4e3a\u6982\u7387\u662f**\u6570\u503c\u7684\u53ef\u4fe1\u7a0b\u5ea6**\u3002\u66f4\u4e00\u822c\u7684\u7ed3\u8bba\u662f\uff0c\u9891\u7387\u8bba\u8ba4\u4e3a**\u6a21\u578b\u53c2\u6570\u662f\u56fa\u5b9a\u7684\uff0c\u800c\u6570\u636e\u662f\u968f\u673a\u7684**\uff0c\u800c\u8d1d\u53f6\u65af\u8ba4\u4e3a**\u6a21\u578b\u53c2\u6570\u662f\u968f\u673a\u7684\uff0c\u800c\u6570\u636e\u662f\u56fa\u5b9a\u7684**\u3002\n",
      "\n",
      "\u57fa\u7840\u7406\u8bba\u7684\u5dee\u5f02\u5f71\u54cd\u4e24\u79cd\u65b9\u6cd5\u9009\u62e9\u6a21\u578b\u53c2\u6570\u6570\u636e\u8fb9\u754c\u7684\u65b9\u5f0f\u3002\u56e0\u4e3a\u5dee\u5f02\u5f88\u5c0f\uff0c\u6211\u5c31\u7528\u4e00\u4e2a\u7b80\u5355\u7684\u4f8b\u5b50\u6765\u8bba\u8ff0\u4e00\u4e0b\u9891\u7387\u8bba\u7f6e\u4fe1\u533a\u95f4\u4e0e\u8d1d\u53f6\u65af\u53ef\u4fe1\u8303\u56f4\u7684\u5dee\u5f02\u3002"
     ]
    },
    {
     "cell_type": "heading",
     "level": 1,
     "metadata": {},
     "source": [
      "\u4f8b 1: \u6b63\u6001\u5206\u5e03\u5747\u503c"
     ]
    },
    {
     "cell_type": "markdown",
     "metadata": {},
     "source": [
      "\u8ba9\u6211\u4eec\u7528\u4e00\u4e2a\u7b80\u5355\u7684\u4f8b\u5b50\u6765\u9a8c\u8bc1\u4e00\u4e0b\uff1b\u6b64\u4f8b\u540c[\u7b2c\u4e00\u8282](http://jakevdp.github.io/blog/2014/03/11/frequentism-and-bayesianism-a-practical-intro/) \u4e2d\u8ba1\u7b97\u6b63\u6001\u5206\u5e03\u5747\u503c\u3002 \u4e4b\u524d\u6211\u4eec\u7b80\u5355\u7684\u5206\u6790\u4e86(\u9891\u7387\u8bba) \u6700\u5927\u4f3c\u7136\u4f30\u8ba1\u548c(\u8d1d\u53f6\u65af) \u6700\u5927\u540e\u9a8c\u4f30\u8ba1(posteriori estimates)\uff1b\u8fd9\u91cc\u6211\u4eec\u62d3\u5c55\u4e00\u4e0b\uff1a\u770b\u770b\u9891\u7387\u8bba\u7f6e\u4fe1\u533a\u95f4\u4e0e\u8d1d\u53f6\u65af\u53ef\u4fe1\u8303\u56f4\u7684\u5dee\u5f02\u3002\n",
      "\n",
      "\u95ee\u9898\u662f\uff1a\u4f60\u5728\u89c2\u5bdf\u4e00\u9897\u661f\u661f\uff0c\u4f60\u8ba4\u4e3a\u5b83\u7684\u4eae\u5ea6\u662f\u6052\u5b9a\u7684\u3002\u4e3a\u4e86\u7b80\u5316\uff0c\u6211\u4eec\u53ef\u4ee5\u8ba4\u4e3a\u5176\u4eae\u5ea6\u5c31\u662f\u6bcf\u79d2\u5230\u8fbe\u6211\u4eec\u671b\u8fdc\u955c\u7684\u5149\u91cf\u5b50\u6570\u91cf\u3002\u4efb\u4f55\u89c2\u5bdf\u503c\u90fd\u4f1a\u6709\u8bef\u5dee\uff1a\u867d\u7136\u5728\u6b64\u4f8b\u4e2d\u8fd9\u4e9b\u8bef\u5dee\u5e76\u4e0d\u91cd\u8981\uff0c\u4f46\u662f\u6211\u4eec\u5047\u8bbe\u89c2\u5bdf\u503c$x_i$\u670d\u4ece\u6b63\u6001\u5206\u5e03\uff0c\u4e14\u6807\u51c6\u5dee\u5df2\u77e5\u4e3a$\\sigma_x$\u3002\n",
      "\n",
      "\u5bf9\u4e00\u7ec4\u89c2\u5bdf\u503c\uff0c\u4eae\u5ea6\u7f6e\u4fe1\u6c34\u5e7395%(\u53732\\sigma$)\u7684\u7f6e\u4fe1\u533a\u95f4\u662f\u591a\u5c11\uff1f"
     ]
    },
    {
     "cell_type": "heading",
     "level": 2,
     "metadata": {},
     "source": [
      "1. \u9891\u7387\u8bba\u65b9\u6cd5"
     ]
    },
    {
     "cell_type": "markdown",
     "metadata": {},
     "source": [
      "\u8fd9\u4e2a\u95ee\u9898\u662f\u9891\u7387\u8bba\u65b9\u6cd5\u7684\u7ecf\u5178\u6848\u4f8b\uff0c\u5206\u6790\u5982\u4e0b\uff1a\n",
      "\n",
      "\u5bf9\u4efb\u610f$N$\u4e2a\u503c\u7684$D = \\{x_i\\}_{i=1}^N$\uff0c\u5206\u5e03\u7684\u65e0\u504f\u4f30\u8ba1\u5747\u503c$\\mu$\u662f \n",
      "\n",
      "$$\n",
      "\\bar{x} = \\frac{1}{N}\\sum_{i=1}^N x_i\n",
      "$$\n",
      "\n",
      "**\u6837\u672c\u5206\u5e03(sampling)**\u63cf\u8ff0\u4e86\u5747\u503c\u4f30\u8ba1\u7684\u9891\u7387\uff1b\u901a\u8fc7\u4e2d\u5fc3\u6781\u9650\u5b9a\u7406(central limit theorem)\u6211\u4eec\u53ef\u4ee5\u5f97\u51fa\u6837\u672c\u5206\u5e03\u662f\u6b63\u6001\u5206\u5e03\uff1a\n",
      "\n",
      "$$\n",
      "f(\\bar{x}~||~\\mu) \\propto \\exp\\left[\\frac{-(\\bar{x} - \\mu)^2}{2\\sigma_\\mu^2}\\right]\n",
      "$$\n",
      "\n",
      "\u8fd9\u91cc\u6211\u4eec\u4f7f\u7528**\u5747\u503c\u6807\u51c6\u8bef\u5dee(standard error of the mean)**,\n",
      "\n",
      "$$\n",
      "\\sigma_\\mu = \\sigma_x / \\sqrt{N}\n",
      "$$\n",
      "\n",
      "\u4e2d\u5fc3\u6781\u9650\u5b9a\u7406\u544a\u8bc9\u6211\u4eec\u5982\u679c$N$\u8db3\u591f\u5927\uff0c\u4efb\u4f55\u5206\u5e03\u90fd\u53ef\u4ee5\u5f97\u5230\u5408\u7406\u7684\u8fd1\u4f3c\u503c\uff1b\u5982\u679c\u5206\u5e03\u5448\u6b63\u6001\u5206\u5e03\uff0c$N$\u5c31\u53ef\u4ee5\u7f29\u5c0f\u52302\u3002\n",
      "\n",
      "\u8ba9\u6211\u4eec\u8d76\u7d27\u6765\u9a8c\u8bc1\u8fd9\u6761\u7ecf\u9a8c\uff0c\u770b\u770b5\u7ec4$10^6$\u4e2a\u6837\u672c\u7684\u5747\u503c\u60c5\u51b5\uff1a"
     ]
    },
    {
     "cell_type": "code",
     "collapsed": false,
     "input": [
      "import numpy as np\n",
      "\n",
      "N = 5\n",
      "Nsamp = 10 ** 6\n",
      "sigma_x = 2\n",
      "\n",
      "np.random.seed(0)\n",
      "x = np.random.normal(0, sigma_x, size=(Nsamp, N))\n",
      "mu_samp = x.mean(1)\n",
      "sig_samp = sigma_x * N ** -0.5\n",
      "\n",
      "print(\"{0:.3f} should equal {1:.3f}\".format(np.std(mu_samp), sig_samp))"
     ],
     "language": "python",
     "metadata": {},
     "outputs": [
      {
       "output_type": "stream",
       "stream": "stdout",
       "text": [
        "0.894 should equal 0.894\n"
       ]
      }
     ],
     "prompt_number": 1
    },
    {
     "cell_type": "markdown",
     "metadata": {},
     "source": [
      "\u5982\u524d\u6240\u8ff0\uff0c\u89c2\u5bdf\u503c\u7684\u6807\u51c6\u5dee\u7b49\u4e8e$\\sigma_x N^{-1/2}$\u3002\n",
      "\n",
      "\u4ece\u6837\u672c\u7684\u6b63\u6001\u5206\u5e03\u4e2d\uff0c\u6211\u4eec\u53ef\u4ee5\u8f7b\u6613\u5f97\u51fa95%\u7f6e\u4fe1\u6c34\u5e73\u4e0b\u7684\u7f6e\u4fe1\u533a\u95f4(\u60f3\u60f3\u90a3\u6761\u949f\u5f62\u7ebf)\uff1a\n",
      "\n",
      "$$\n",
      "CI_{\\mu} =  \\left(\\bar{x} - 2\\sigma_\\mu,~\\bar{x} + 2\\sigma_\\mu\\right)\n",
      "$$"
     ]
    },
    {
     "cell_type": "markdown",
     "metadata": {},
     "source": [
      "\u6211\u4eec\u518d\u770b\u770b\uff1a\u5982\u679c\u73b0\u5728\u4e09\u4e2a\u89c2\u5bdf\u503c\u6807\u51c6\u5dee($\\sigma_x$)\u662f10\u3002\u90a3\u4e48\u5747\u503c\u768495%\u7f6e\u4fe1\u533a\u95f4\u662f\u591a\u5c11\uff1f\n",
      "\n",
      "\u6211\u4eec\u5047\u8bbe\u771f\u5b9e\u503c\u662f100:"
     ]
    },
    {
     "cell_type": "code",
     "collapsed": false,
     "input": [
      "true_B = 100\n",
      "sigma_x = 10\n",
      "\n",
      "np.random.seed(1)\n",
      "D = np.random.normal(true_B, sigma_x, size=3)\n",
      "print(D)"
     ],
     "language": "python",
     "metadata": {},
     "outputs": [
      {
       "output_type": "stream",
       "stream": "stdout",
       "text": [
        "[ 116.24345364   93.88243586   94.71828248]\n"
       ]
      }
     ],
     "prompt_number": 2
    },
    {
     "cell_type": "markdown",
     "metadata": {},
     "source": [
      "\u4e0b\u9762\u6211\u4eec\u521b\u5efa\u4e00\u4e2a\u51fd\u6570\u6765\u7b97\u7f6e\u4fe1\u533a\u95f4\uff1a"
     ]
    },
    {
     "cell_type": "code",
     "collapsed": false,
     "input": [
      "from scipy.special import erfinv\n",
      "\n",
      "def freq_CI_mu(D, sigma, frac=0.95):\n",
      "    \"\"\"Compute the confidence interval on the mean\"\"\"\n",
      "    # we'll compute Nsigma from the desired percentage\n",
      "    Nsigma = np.sqrt(2) * erfinv(frac)\n",
      "    mu = D.mean()\n",
      "    sigma_mu = sigma * D.size ** -0.5\n",
      "    return mu - Nsigma * sigma_mu, mu + Nsigma * sigma_mu\n",
      "\n",
      "print(\"95% Confidence Interval: [{0:.0f}, {1:.0f}]\".format(*freq_CI_mu(D, 10)))"
     ],
     "language": "python",
     "metadata": {},
     "outputs": [
      {
       "output_type": "stream",
       "stream": "stdout",
       "text": [
        "95% Confidence Interval: [90, 113]\n"
       ]
      }
     ],
     "prompt_number": 3
    },
    {
     "cell_type": "markdown",
     "metadata": {},
     "source": [
      "\u6ce8\u610f\u6211\u4eec\u5047\u8bbe$\\sigma_x$\u662f\u5df2\u77e5\u7684\uff0c\u8fd9\u53ef\u4ee5\u901a\u8fc7\u5747\u503c$\\mu$\u6765\u4f30\u8ba1\uff0c\u4f46\u8fd9\u91cc\u7b80\u5355\u8d77\u89c1\u3002"
     ]
    },
    {
     "cell_type": "heading",
     "level": 2,
     "metadata": {},
     "source": [
      "2. \u8d1d\u53f6\u65af\u65b9\u6cd5"
     ]
    },
    {
     "cell_type": "markdown",
     "metadata": {},
     "source": [
      "\u7528\u8d1d\u53f6\u65af\u65b9\u6cd5\u5c31\u5f97\u4ece\u8d1d\u53f6\u65af\u5b9a\u7406\u5f00\u59cb\uff1a\n",
      "\n",
      "$$\n",
      "P(\\mu~|~D) = \\frac{P(D~|~\\mu)P(\\mu)}{P(D)}\n",
      "$$\n",
      "\n",
      "\u6211\u4eec\u5bf9$\\mu$\u7528\u6241\u5e73\u5148\u9a8c(flat prior) (\u5982\uff0c\u6574\u4e2a\u533a\u95f4\u6ee1\u8db3$P(\\mu) \\propto 1$) \uff0c\u7136\u540e\u7528\u4f3c\u7136\u4f30\u8ba1\n",
      "\n",
      "$$\n",
      "P(D~|~\\mu) = \\prod_{i=1}^N \\frac{1}{\\sqrt{2\\pi\\sigma_x^2}}\\exp\\left[\\frac{(\\mu - x_i)^2}{2\\sigma_x^2}\\right]\n",
      "$$\n",
      "\n",
      "\u8ba1\u7b97\u4e58\u79ef\u7136\u540e\u8fdb\u884c\u53d8\u6362\uff0c\u53ef\u4ee5\u5f97\u51fa\n",
      "\n",
      "$$\n",
      "P(\\mu~|~D) \\propto \\exp\\left[\\frac{-(\\mu - \\bar{x})^2}{2\\sigma_\\mu^2}\\right]\n",
      "$$\n",
      "\n",
      "\u4e5f\u53ef\u4ee5\u770b\u4f5c\u662f\u5747\u503c\u4e3a$\\bar{x}$\uff0c\u6807\u51c6\u5dee\u4e3a$\\sigma_\\mu$\u7684\u6b63\u6001\u5206\u5e03\u3002\n",
      "\n",
      "\u4e5f\u5c31\u662f\u8bf4\uff0c**\u6b64\u4f8b\u4e2d$\\mu$\u7684\u8d1d\u53f6\u65af\u540e\u9a8c\u7ed3\u679c\u7b49\u4e8e\u9891\u7387\u8bba\u7684\u6837\u672c\u5206\u5e03\u5747\u503c$\\mu$**\u3002"
     ]
    },
    {
     "cell_type": "markdown",
     "metadata": {},
     "source": [
      "\u4ece\u540e\u9a8c\u7ed3\u679c\u53ef\u4ee5\u8ba1\u7b97\u51fa\u8d1d\u53f6\u65af\u53ef\u4fe1\u8303\u56f4\u662f95%\u53ef\u80fd\u7684\u6700\u77ed\u533a\u95f4\u3002\u770b\u8d77\u6765\u548c\u9891\u7387\u8bba\u7684\u7f6e\u4fe1\u533a\u95f4\u5f88\u50cf\uff1a\n",
      "\n",
      "$$\n",
      "CR_{\\mu} =  \\left(\\bar{x} - 2\\sigma_\\mu,~\\bar{x} + 2\\sigma_\\mu\\right)\n",
      "$$\n",
      "\n",
      "\u6211\u4eec\u8bbe\u8ba1\u4e00\u4e2a\u51fd\u6570\u6765\u89e3\u53f6\u65af\u53ef\u4fe1\u8303\u56f4\uff1a"
     ]
    },
    {
     "cell_type": "code",
     "collapsed": false,
     "input": [
      "def bayes_CR_mu(D, sigma, frac=0.95):\n",
      "    \"\"\"Compute the credible region on the mean\"\"\"\n",
      "    Nsigma = np.sqrt(2) * erfinv(frac)\n",
      "    mu = D.mean()\n",
      "    sigma_mu = sigma * D.size ** -0.5\n",
      "    return mu - Nsigma * sigma_mu, mu + Nsigma * sigma_mu\n",
      "\n",
      "print(\"95% Credible Region: [{0:.0f}, {1:.0f}]\".format(*bayes_CR_mu(D, 10)))"
     ],
     "language": "python",
     "metadata": {},
     "outputs": [
      {
       "output_type": "stream",
       "stream": "stdout",
       "text": [
        "95% Credible Region: [90, 113]\n"
       ]
      }
     ],
     "prompt_number": 4
    },
    {
     "cell_type": "heading",
     "level": 2,
     "metadata": {},
     "source": [
      "\u5230\u5e95\u6709\u5565\u533a\u522b\uff1f"
     ]
    },
    {
     "cell_type": "markdown",
     "metadata": {},
     "source": [
      "\u4e0a\u9762\u7684\u8bba\u8bc1\u8fc7\u7a0b\u5c31\u662f\u9891\u7387\u8bba\u7f6e\u4fe1\u533a\u95f4\u4e0e\u8d1d\u53f6\u65af\u53ef\u4fe1\u8303\u56f4\u4ee4\u4eba\u6df7\u4e71\u7684\u5730\u65b9\u3002\u5728\u5f88\u591a\u7b80\u5355\u95ee\u9898\u4e2d\uff0c\u5b83\u4eec\u5b8c\u5168\u76f8\u7b49\u3002\u4f46\u662f\u6211\u4eec\u5fc5\u987b\u6e05\u695a\u4e00\u70b9\uff1a**\u6570\u91cf\u76f8\u7b49\uff0c\u4f46\u662f\u542b\u4e49\u4e0d\u540c**\u3002\n",
      "\n",
      "\u8d1d\u53f6\u65af\u7684\u6982\u7387\u53cd\u6620\u6211\u4eec\u76f8\u4fe1\u7684\u7a0b\u5ea6\u3002\u6240\u4ee5\u5f53\u6211\u4eec\u8ba1\u7b97\u53ef\u4fe1\u8303\u56f4\u65f6\uff0c\u5176\u5b9e\u5c31\u662f\n",
      "\n",
      "> \u201c\u5bf9\u8fd9\u4e2a\u89c2\u5bdf\u6570\u636e\uff0c\u771f\u5b9e\u503c$\\mu$\u4f1a\u843d\u5728\u53ef\u4fe1\u8303\u56f4$CR_\\mu$(\u56fa\u5b9a\u7684)\u5185\u670995%\u7684\u53ef\u80fd\u6027\u201d\u2014\u2014\u8d1d\u53f6\u65af\u4e3b\u4e49\n",
      "\n",
      "\u800c\u9891\u7387\u8bba\u8ba4\u4e3a$\\mu$\u662f\u4e00\u4e2a\u56fa\u5b9a\u503c\uff0c\u800c\u6570\u636e(\u4ee5\u53ca\u6240\u6709\u6570\u636e\u6d3e\u751f\u7684\u53d8\u91cf\uff0c\u5305\u62ec\u7f6e\u4fe1\u533a\u95f4\u7684\u8fb9\u754c)\u662f\u968f\u673a\u7684\u3002\u56e0\u6b64\uff0c\u9891\u7387\u8bba\u7f6e\u4fe1\u533a\u95f4\u5c31\u662f\n",
      "\n",
      "> \u201c\u5f53\u6211\u4eec\u4ece\u8fd9\u4e9b\u6570\u636e(\u800c\u4e0d\u662f\u90a3\u4e9b\u6570\u636e)\u4e2d\u8ba1\u7b97$CI_\\mu$\u65f6\uff0c\u670995%\u7684\u53ef\u80fd\u6027\uff0c\u771f\u5b9e\u503c$\\mu$\u4f1a\u843d\u5728$CI_\\mu$\u5185\u201d\u2014\u2014\u9891\u7387\u4e3b\u4e49\n",
      "\n",
      "\u6ce8\u610f\u533a\u522b\uff1a\u8d1d\u53f6\u65af\u65b9\u6cd5\u662f\u5bf9\u5177\u6709\u56fa\u5b9a\u8fb9\u754c\u7684\u53c2\u6570\u503c\u7684\u6982\u7387\u8868\u8ff0(a statement of probability about the parameter value given fixed bounds)\uff0c\u800c\u9891\u7387\u8bba\u65b9\u6cd5\u662f\u5bf9\u56fa\u5b9a\u53c2\u6570\u503c\u7684\u8fb9\u754c\u7684\u6982\u7387\u8868\u8ff0(a probability about the bounds given a fixed parameter value.)\u3002\n",
      "\n",
      "\u5dee\u522b\u5f88\u5c0f\uff0c\u4f46\u662f\u6211\u4eec\u4e0b\u9762\u4f1a\u8bb2\uff0c\u8fd9\u5c06\u9020\u6210\u6781\u5927\u5dee\u8ddd\u3002\u9996\u5148\uff0c\u8ba9\u6211\u4eec\u8fdb\u4e00\u6b65\u7528\u4eff\u771f\u65b9\u6cd5\u6765\u9a8c\u8bc1\u3002"
     ]
    },
    {
     "cell_type": "heading",
     "level": 3,
     "metadata": {},
     "source": [
      "\u786e\u5b9a\u8d1d\u53f6\u65af\u53ef\u4fe1\u8303\u56f4"
     ]
    },
    {
     "cell_type": "markdown",
     "metadata": {},
     "source": [
      "\u786e\u5b9a\u8d1d\u53f6\u65af\u53ef\u4fe1\u8303\u56f4\uff0c\u6b65\u9aa4\u5982\u4e0b\uff1a\n",
      "\n",
      "1. \u5148\u9a8c\u6837\u672c\u5747\u503c$\\mu$\u662f\u968f\u673a\u7684\n",
      "2. \u6bcf\u4e2a$\\mu$\u6709\u968f\u673a\u7684\u6570\u636e\u96c6\u5408\n",
      "3. \u9009\u53d6\u7b26\u5408\u89c2\u5bdf\u503c\u7684\u6570\u636e\u70b9\n",
      "3. \u770b\u770b\u54ea\u4e9b$\\mu$\u7684\u503c\u843d\u5728\u6211\u4eec\u7684\u53ef\u4fe1\u8303\u56f4\u5185\n",
      "\n",
      "\u4ee3\u7801\u5982\u4e0b\uff1a"
     ]
    },
    {
     "cell_type": "code",
     "collapsed": false,
     "input": [
      "# first define some quantities that we need \n",
      "Nsamples = 2E7\n",
      "N = len(D)\n",
      "sigma_x = 10\n",
      "\n",
      "# if someone changes N, this could easily cause a memory error\n",
      "if N * Nsamples > 1E8:\n",
      "    raise ValueError(\"Are you sure you want this many samples?\")\n",
      "    \n",
      "# eps tells us how close to D we need to be to consider\n",
      "# it a matching sample. The value encodes the tradeoff\n",
      "# between bias and variance of our simulation\n",
      "eps = 0.5\n",
      "\n",
      "# Generate some mean values from the (flat) prior in a reasonable range\n",
      "np.random.seed(0)\n",
      "mu = 80 + 40 * np.random.random(Nsamples)\n",
      "\n",
      "# Generate data for each of these mean values\n",
      "x = np.random.normal(mu, sigma_x, (N, Nsamples)).T\n",
      "\n",
      "# find data which matches our \"observed\" data\n",
      "x.sort(1)\n",
      "D.sort()\n",
      "i = np.all(abs(x - D) < eps, 1)\n",
      "print(\"number of suitable samples: {0}\".format(i.sum()))"
     ],
     "language": "python",
     "metadata": {},
     "outputs": [
      {
       "output_type": "stream",
       "stream": "stdout",
       "text": [
        "number of suitable samples: 528\n"
       ]
      }
     ],
     "prompt_number": 5
    },
    {
     "cell_type": "code",
     "collapsed": false,
     "input": [
      "# Now we ask how many of these mu values fall in our credible region\n",
      "mu_good = mu[i]\n",
      "CR = bayes_CR_mu(D, 10)\n",
      "within_CR = (CR[0] < mu_good) & (mu_good < CR[1])\n",
      "print \"Fraction of means in Credible Region: {0:.3f}\".format(within_CR.sum() * 1. / within_CR.size)"
     ],
     "language": "python",
     "metadata": {},
     "outputs": [
      {
       "output_type": "stream",
       "stream": "stdout",
       "text": [
        "Fraction of means in Credible Region: 0.949\n"
       ]
      }
     ],
     "prompt_number": 6
    },
    {
     "cell_type": "markdown",
     "metadata": {},
     "source": [
      "\u8ddf\u60f3\u7684\u4e00\u6837\uff0c95%\u53ef\u80fd\u7684$\\mu$\u7684\u503c\u843d\u5728\u6211\u4eec\u7684\u53ef\u4fe1\u8303\u56f4\u5185\u3002\n",
      "\n",
      "\u8fd9\u91cc\uff0c\u5173\u952e\u662f\u660e\u767d\u54ea\u4e9b\u53d8\u91cf\u662f\u968f\u673a\u7684\uff0c\u54ea\u4e9b\u662f\u56fa\u5b9a\u7684\u3002\u5728\u8d1d\u53f6\u65af\u65b9\u6cd5\u4e2d\uff0c\u6211\u4eec**\u4ece\u6211\u4eec\u7684\u6570\u636e\u91cc\u8ba1\u7b97\u51fa\u4e00\u4e2a\u5355\u72ec\u7684\u53ef\u4fe1\u8303\u56f4**\uff0c\u7136\u540e\u6211\u4eec\u628a\u5b83\u5f53\u4f5c\u662f**$\\mu$\u7684\u591a\u4e2a\u968f\u673a\u70b9\u753b\u51fa\u7684\u56fe\u50cf**\u3002"
     ]
    },
    {
     "cell_type": "heading",
     "level": 3,
     "metadata": {},
     "source": [
      "\u786e\u5b9a\u9891\u7387\u8bba\u7f6e\u4fe1\u533a\u95f4"
     ]
    },
    {
     "cell_type": "markdown",
     "metadata": {},
     "source": [
      "\u786e\u5b9a\u9891\u7387\u8bba\u7f6e\u4fe1\u533a\u95f4\u6709\u70b9\u5c0f\u590d\u6742\uff0c\u6b65\u9aa4\u5982\u4e0b\uff1a\n",
      "\n",
      "1. \u4ece\u552f\u4e00\u7684\u771f\u5b9e\u503c$\\mu$\u5b9a\u4e49\u7684\u5206\u5e03\u4e2d\u753b\u51fa\u6570\u636e\u96c6\u5408\n",
      "2. \u5bf9\u6bcf\u7ec4\u6570\u636e\uff0c\u8ba1\u7b97\u4e00\u4e2a\u65b0\u7684\u7f6e\u4fe1\u533a\u95f4\n",
      "3. \u770b\u770b\u54ea\u4e9b\u7f6e\u4fe1\u533a\u95f4\u5305\u542b$\\mu$\n",
      "\n",
      "\u4ee3\u7801\u5982\u4e0b\uff1a"
     ]
    },
    {
     "cell_type": "code",
     "collapsed": false,
     "input": [
      "# define some quantities we need\n",
      "N = len(D)\n",
      "Nsamples = 1E4\n",
      "mu = 100\n",
      "sigma_x = 10\n",
      "\n",
      "# Draw datasets from the true distribution\n",
      "np.random.seed(0)\n",
      "x = np.random.normal(mu, sigma_x, (Nsamples, N))\n",
      "\n",
      "# Compute a confidence interval from each dataset\n",
      "CIs = np.array([freq_CI_mu(Di, sigma_x) for Di in x])\n",
      "\n",
      "# find which confidence intervals contain the mean\n",
      "contains_mu = (CIs[:, 0] < mu) & (mu < CIs[:, 1])\n",
      "print \"Fraction of Confidence Intervals containing the mean: {0:.3f}\".format(contains_mu.sum() * 1. / contains_mu.size)"
     ],
     "language": "python",
     "metadata": {},
     "outputs": [
      {
       "output_type": "stream",
       "stream": "stdout",
       "text": [
        "Fraction of Confidence Intervals containing the mean: 0.951\n"
       ]
      }
     ],
     "prompt_number": 7
    },
    {
     "cell_type": "markdown",
     "metadata": {},
     "source": [
      "\u8ddf\u60f3\u7684\u4e00\u6837\uff0c95%\u7f6e\u4fe1\u533a\u95f4\u5305\u542b\u03bc\u7684\u771f\u5b9e\u503c\u3002\n",
      "\n",
      "\u540c\u7406\uff0c\u5173\u952e\u662f\u660e\u767d\u54ea\u4e9b\u53d8\u91cf\u662f\u968f\u673a\u7684\uff0c\u54ea\u4e9b\u662f\u56fa\u5b9a\u7684\u3002\u6211\u4eec\u628a**\u552f\u4e00\u503c$\\mu$**\u770b\u4f5c\u662f**\u591a\u4e2a\u968f\u673a\u6837\u672c\u4e2d\u7684\u4e0d\u540c\u7f6e\u4fe1\u533a\u95f4\u6784\u6210\u7684**\u3002"
     ]
    },
    {
     "cell_type": "heading",
     "level": 2,
     "metadata": {},
     "source": [
      "\u8ba8\u8bba"
     ]
    },
    {
     "cell_type": "markdown",
     "metadata": {},
     "source": [
      "\u6211\u4eec\u5e94\u8be5\u518d\u4e00\u6b21\u63d0\u9192\u81ea\u5df1\u4e24\u8005\u7684\u5dee\u5f02\uff1a\n",
      "\n",
      "- \u8d1d\u53f6\u65af\u65b9\u6cd5\u56fa\u5b9a\u4e86\u53ef\u4fe1\u8303\u56f4\uff0c\u4fdd\u8bc1$\\mu$95%\u7684\u53ef\u80fd\u503c\u843d\u5728\u53ef\u4fe1\u8303\u56f4\u5185\u3002\n",
      "- \u9891\u7387\u8bba\u65b9\u6cd5\u56fa\u5b9a\u4e86\u53c2\u6570$\\mu$\uff0c \u4fdd\u8bc195%\u7f6e\u4fe1\u533a\u95f4\u5305\u542b$\\mu$\u3002\n",
      "\n",
      "\u6bd4\u8f83\u4e0a\u9762\u4e24\u8005\u7684\u7ed3\u8bba\uff0c\u6211\u4eec\u4f1a\u53d1\u73b0\u4e24\u8005\u6e90\u81ea\u6982\u7387\u5b9a\u4e49\u7684\u533a\u522b\u3002\n",
      "\n",
      "- \u8d1d\u53f6\u65af\u4e3b\u4e49\u8ba4\u4e3a\u53c2\u6570 (\u5982$\\mu$) \u662f\u968f\u673a\u53d8\u91cf\uff0c\u800c\u9891\u7387\u4e3b\u4e49\u8ba4\u4e3a\u662f\u56fa\u5b9a\u7684\u3002\n",
      "- \u8d1d\u53f6\u65af\u4e3b\u4e49\u8ba4\u4e3a\u89c2\u5bdf\u503c(\u5982$D$)\u662f\u56fa\u5b9a\u7684\uff0c\u800c\u9891\u7387\u4e3b\u4e49\u8ba4\u4e3a\u662f\u968f\u673a\u53d8\u91cf\u3002\n",
      "- \u8d1d\u53f6\u65af\u4e3b\u4e49\u8ba4\u4e3a\u53c2\u6570\u7ea6\u675f(parameter constraints\uff0c\u5982$CR_\\mu$)\u662f\u56fa\u5b9a\u7684\uff0c\u800c\u9891\u7387\u4e3b\u4e49\u8ba4\u4e3a(\u5982$CI_\\mu$)\u662f\u662f\u968f\u673a\u53d8\u91cf\u3002\n",
      "\n",
      "\u5f88\u591a\u7b80\u5355\u95ee\u9898\u90fd\u548c\u4e0a\u9762\u7684\u4f8b\u5b50\u4e00\u6837\uff0c\u7f6e\u4fe1\u6c34\u5e73\u548c\u53ef\u4fe1\u8303\u56f4\u5b8c\u5168\u76f8\u7b49\uff0c\u6240\u4ee5\u8fd9\u79cd\u5dee\u5f02\u4e00\u822c\u4e0d\u592a\u91cd\u8981\u3002\u4f46\u662f\uff0c\u79d1\u5b66\u8ba1\u7b97\u4e0d\u662f\u7b80\u5355\u95ee\u9898\uff1b\u4e0b\u9762\u6211\u4eec\u5c31\u770b\u4e2a\u590d\u6742\u7684\u4f8b\u5b50\uff0c\u6765\u611f\u53d7\u4e00\u4e0b\u8fd9\u79cd\u5dee\u5f02\u3002"
     ]
    },
    {
     "cell_type": "heading",
     "level": 1,
     "metadata": {},
     "source": [
      "\u4f8b 2\uff1aJaynes\u622a\u65ad\u5206\u5e03(Truncated Exponential)"
     ]
    },
    {
     "cell_type": "markdown",
     "metadata": {},
     "source": [
      "\u8981\u627e\u4e00\u4e2a\u5448\u73b0\u4e24\u8005\u5dee\u5f02\u7684\u4f8b\u5b50\uff0c\u6211\u6253\u7b97\u7528E.T. Jaynes\uff0c\u4e00\u4e2a20\u4e16\u7eaa\u7684\u7269\u7406\u5b66\u5bb6\uff0c\u505a\u4e86\u5927\u91cf\u7edf\u8ba1\u5de5\u4f5c\u3002\u5728\u4ed6\u7684\u4e66*Confidence Intervals vs. Bayesian Intervals* ([pdf](http://bayes.wustl.edu/etj/articles/confidence.pdf))\u4e2d\u7b2c15\u4e2a\u4f8b\u5b50\uff0c\u4ed6\u7528\u4e86\u4e00\u4e2a\u622a\u65ad\u5206\u5e03\u3002\u4ed6\u662f\u8fd9\u4e48\u8bf4\u7684\uff1a\n",
      "\n",
      "> \u4e00\u4e2a\u8bbe\u5907\uff0c\u56e0\u4e3a\u6ce8\u5165\u4e86\u4e00\u79cd\u9632\u62a4\u6027\u5316\u5b66\u8bd5\u5242(protective chemical inhibitor)\uff0c\u6240\u4ee5\u5728$\\theta$\u65f6\u95f4\u5185\u8fd0\u884c\u6b63\u5e38\uff1b\u4f46\u662f\u5728$\\theta$\u65f6\u95f4\u4e4b\u540e\uff0c\u5316\u5b66\u8bd5\u5242\u7528\u5149\u4e86\uff0c\u95ee\u9898\u5c31\u51fa\u73b0\u4e86\uff0c\u800c\u4e14\u5931\u8d25\u6b21\u6570\u5448\u6307\u6570\u5206\u5e03\u3002\u6ca1\u6709\u529e\u6cd5\u76f4\u63a5\u89c2\u5bdf\u5316\u5b66\u8bd5\u5242\u6d88\u8017\u7684\u60c5\u51b5\uff1b\u53ea\u80fd\u89c2\u5bdf\u5230\u5931\u8d25\u7684\u7ed3\u679c\u3002\u4ece\u5b9e\u9645\u89c2\u5bdf\u6570\u636e\u4e2d\uff0c\u4f30\u8ba1$\\theta$\u65f6\u95f4\u4ee5\u786e\u4fdd\u8fd0\u884c\u5b89\u5168......\n",
      "\n",
      "\u4ece\u4e0b\u9762\u7684\u6a21\u578b\u53ef\u4ee5\u83b7\u5f97\u4e00\u4e2a\u6570\u636e$D$\uff1a\n",
      "\n",
      "$$\n",
      "p(x~|~\\theta) = \\left\\{\n",
      "\\begin{array}{lll}\n",
      "\\exp(\\theta - x) &,& x > \\theta\\\\\n",
      "0                &,& x < \\theta\n",
      "\\end{array}\n",
      "\\right\\}\n",
      "$$\n",
      "\n",
      "\u8fd9\u91cc$p(x~|~\\theta)$\u8868\u793a\u65f6\u95f4$x$\u5931\u8d25\u7684\u6982\u7387\uff0c\u5316\u5b66\u8bd5\u5242\u53ef\u7528\u65f6\u95f4$\\theta$\u3002\n",
      "\u89c2\u5bdf\u6570\u636e$D = \\{x_i\\}$\uff0c\u6211\u4eec\u7684\u76ee\u6807\u662f\u4f30\u8ba1$\\theta$\u3002\n",
      "\n",
      "\u6211\u4eec\u5148\u4e3a$\\theta=10$\u753b\u4e2a\u56fe\u770b\u770b\uff1a"
     ]
    },
    {
     "cell_type": "code",
     "collapsed": false,
     "input": [
      "%matplotlib inline\n",
      "import numpy as np\n",
      "import matplotlib.pyplot as plt\n",
      "\n",
      "def p(x, theta):\n",
      "    return (x > theta) * np.exp(theta - x)\n",
      "\n",
      "x = np.linspace(5, 18, 1000)\n",
      "plt.fill(x, p(x, 10), alpha=0.3)\n",
      "plt.ylim(0, 1.2)\n",
      "plt.xlabel('x')\n",
      "plt.ylabel('p(x)');"
     ],
     "language": "python",
     "metadata": {},
     "outputs": [
      {
       "metadata": {},
       "output_type": "display_data",
       "png": "[encoded data removed]",
       "text": [
        "<matplotlib.figure.Figure at 0x7fdcc5d94d90>"
       ]
      }
     ],
     "prompt_number": 8
    },
    {
     "cell_type": "markdown",
     "metadata": {},
     "source": [
      "\u73b0\u5728\u6211\u4eec\u7684\u89c2\u5bdf\u6570\u636e\u662f$D = \\{10, 12, 15\\}$\uff0c\u6211\u4eec\u60f3\u4ece\u8fd9\u4e9b\u6570\u636e\u4e2d\u63a8\u65ad$\\theta$\u3002\u4e0b\u9762\u7528\u56db\u79cd\u65b9\u6cd5\u6765\u63a2\u7d22\u3002"
     ]
    },
    {
     "cell_type": "heading",
     "level": 2,
     "metadata": {},
     "source": [
      "1. \u5e38\u8bc6(Common Sense)\u65b9\u6cd5"
     ]
    },
    {
     "cell_type": "markdown",
     "metadata": {},
     "source": [
      "\u6211\u8ba4\u4e3a\uff1a\u9047\u5230\u95ee\u9898\uff0c\u8ba1\u7b97\u4e4b\u524d\uff0c\u5148\u60f3\u60f3\u600e\u4e48\u4e0b\u624b\uff0c\u5e76\u731c\u4e00\u731c\u7ed3\u679c\u3002\u6211\u4eec\u73b0\u5728\u5f00\u59cb\u3002\u60f3\u60f3\u8fd9\u4e2a\u95ee\u9898\uff0c\u4ece\u6982\u7387\u5206\u5e03\u7684\u622a\u65ad\u53ef\u4ee5\u5f97\u51fa\u4e00\u4e2a\u7b80\u5355\u7684\u89c2\u5bdf\u7ed3\u679c\uff1a**$\\theta$\u5fc5\u987b\u5c0f\u4e8e\u89c2\u5bdf\u503c\u7684\u6700\u5c0f\u503c**\u3002\n",
      "\n",
      "\u8fd9\u662f\u663e\u800c\u6613\u89c1\u7684\uff1a\u770b\u5230\u4e00\u4e2a\u5c0f\u4e8e$\\theta$\u7684\u89c2\u5bdf\u503c\u6982\u7387\u4e3a0\u3002\u56e0\u6b64\uff0c\u5047\u5982\u6211\u4eec\u5047\u8bbe\u6b63\u786e\uff0c\u90a3\u4e48\u4e00\u4e2a$\\theta$\u5927\u4e8e\u4efb\u4f55\u89c2\u5bdf\u503c\u7684\u6a21\u578b\u662f\u4e0d\u53ef\u80fd\u51fa\u73b0\u7684\u3002\u8d1d\u53f6\u65af\u4e3b\u4e49\u548c\u9891\u7387\u4e3b\u4e49\u7684\u57fa\u672c\u5047\u8bbe\u90fd\u662f\u6a21\u578b\u6b63\u786e\uff0c\u56e0\u6b64\u6211\u4eec\u53ef\u4ee5\u76f4\u63a5\u5199\u51fa\u5e38\u8bc6\u6761\u4ef6\uff1a\n",
      "\n",
      "$$\n",
      "\\theta < \\min(D)\n",
      "$$\n",
      "\n",
      "\u6216\u8005\uff0c\u7279\u522b\u5730\uff0c$D = \\{10, 12, 15\\}$,\n",
      "\n",
      "$$\n",
      "\\theta < 10\n",
      "$$\n",
      "\n",
      "\u8fd9\u7ec4\u6570\u636e\u4e2d\uff0c$\\theta$\u7684\u6bcf\u4e00\u4e2a\u5408\u7406\u7ea6\u675f\u90fd\u5e94\u8be5\u6ee1\u8db3\u4ee5\u4e0a\u6761\u4ef6\u3002\u5e26\u7740\u8fd9\u6761\u89c4\u5219\uff0c\u6211\u4eec\u7ee7\u7eed\u7528\u8d1d\u53f6\u65af\u4e3b\u4e49\u548c\u9891\u7387\u4e3b\u4e49\u8fdb\u884c\u5b9a\u91cf\u5206\u6790\u3002"
     ]
    },
    {
     "cell_type": "heading",
     "level": 2,
     "metadata": {},
     "source": [
      "2. \u9891\u7387\u8bba\u65b9\u6cd5 #1\uff1a\u6b63\u6001\u5206\u5e03\u8fd1\u4f3c\u7684\u6837\u672c\u5206\u5e03"
     ]
    },
    {
     "cell_type": "markdown",
     "metadata": {},
     "source": [
      "\u5728\u9891\u7387\u8bba\u65b9\u6cd5\u4e2d\uff0c\u6211\u4eec\u8981\u8ba1\u7b97$\\theta$\u7684\u7f6e\u4fe1\u533a\u95f4\uff0c\u53ef\u4ee5\u901a\u8fc7\u89c2\u5bdf\u503c\u7684\u8ba1\u7b97\u5747\u503c\u5f00\u59cb\n",
      "\n",
      "$$\n",
      "\\begin{array}{ll}\n",
      "E(x) &= \\int_0^\\infty xp(x)dx\\\\\n",
      "     &= \\theta + 1\n",
      "     \\end{array}\n",
      "$$\n",
      "\n",
      "\u56e0\u6b64\uff0c\u7528\u6837\u672c\u5747\u503c\u4f5c\u4e3a$E(x)$\u7684\u70b9\u4f30\u8ba1\u503c\uff0c \u5c31\u5f97\u5230$\\theta$\u7684\u65e0\u504f\u4f30\u8ba1(unbiased estimator)\n",
      "\n",
      "$$\n",
      "\\hat{\\theta} = \\frac{1}{N} \\sum_{i=1}^N x_i - 1\n",
      "$$\n",
      "\n",
      "\u6307\u6570\u5206\u5e03\u7684\u6807\u51c6\u5dee\u4e3a1\uff0c\u6240\u4ee5\u5f53$N$\u7ec4\u591f\u5927\uff0c\u6211\u4eec\u5c31\u53ef\u4ee5\u7528\u5747\u503c\u7684\u6807\u51c6\u5dee\u6765\u8868\u793a$\\hat{\\theta}$\u7684\u6837\u672c\u5206\u5e03\u60c5\u51b5\uff0c\u5c06\u6ee1\u8db3\u65b9\u5dee$\\sigma^2 = 1 / N$\u7684\u6b63\u6001\u5206\u5e03\u3002\u56e0\u6b64\uff0c\u6211\u4eec\u53ef\u4ee5\u5199\u51fa95% (\u5c31\u662f2$\\sigma$)\u7684\u7f6e\u4fe1\u533a\u95f4\u4e3a\n",
      "\n",
      "$$\n",
      "CI_{\\rm large~N} = \\left(\\hat{\\theta} - 2 N^{-1/2},~\\hat{\\theta} + 2 N^{-1/2}\\right)\n",
      "$$\n",
      "\n",
      "\u5199\u6210\u51fd\u6570\u4ee3\u7801\u5982\u4e0b\uff1a"
     ]
    },
    {
     "cell_type": "code",
     "collapsed": false,
     "input": [
      "from scipy.special import erfinv\n",
      "\n",
      "def approx_CI(D, sig=0.95):\n",
      "    \"\"\"Approximate truncated exponential confidence interval\"\"\"\n",
      "    # use erfinv to convert percentage to number of sigma\n",
      "    Nsigma = np.sqrt(2) * erfinv(sig)\n",
      "    D = np.asarray(D)\n",
      "    N = D.size\n",
      "    theta_hat = np.mean(D) - 1\n",
      "    return [theta_hat - Nsigma / np.sqrt(N),\n",
      "            theta_hat + Nsigma / np.sqrt(N)]"
     ],
     "language": "python",
     "metadata": {},
     "outputs": [],
     "prompt_number": 9
    },
    {
     "cell_type": "code",
     "collapsed": false,
     "input": [
      "D = [10, 12, 15]\n",
      "print(\"approximate CI: ({0:.1f}, {1:.1f})\".format(*approx_CI(D)))"
     ],
     "language": "python",
     "metadata": {},
     "outputs": [
      {
       "output_type": "stream",
       "stream": "stdout",
       "text": [
        "approximate CI: (10.2, 12.5)\n"
       ]
      }
     ],
     "prompt_number": 10
    },
    {
     "cell_type": "markdown",
     "metadata": {},
     "source": [
      "\u8fd9\u91cc\u6709\u4e2a\u95ee\u9898\u3002\u901a\u8fc7\u6211\u4eec\u7b80\u5355\u7684\u5e38\u8bc6\uff0c\u6211\u4eec\u8ba4\u4e3a$\\theta$\u4e0d\u53ef\u80fd\u5927\u4e8e10\uff0c\u4f46\u662f\u4e0a\u9762\u7684\u8303\u56f4\u4f9d\u7136\u662f95%\u7f6e\u4fe1\u533a\u95f4\u3002\u53ef\u80fd\u89c2\u5bdf\u6570\u636e\u5e94\u8be5\u592a\u5c11\u4e86\uff1a \u4e0a\u9762\u7684\u8ba1\u7b97\u5e94\u8be5\u57fa\u4e8e\u4e00\u4e2a\u5927\u7684$N$ \uff0c\u800c\u6211\u4eec\u7528\u7684\u662f\u4e00\u4e2a\u5f88\u5c0f\u7684$N = 3$\u3002\u6211\u4eec\u7528\u66f4\u591a\u7684\u8ba1\u7b97\u6765\u8bd5\u8bd5\u770b\uff1a"
     ]
    },
    {
     "cell_type": "heading",
     "level": 2,
     "metadata": {},
     "source": [
      "3. \u9891\u7387\u8bba\u65b9\u6cd5 #2\uff1a\u7cbe\u786e\u7684\u6837\u672c\u5206\u5e03"
     ]
    },
    {
     "cell_type": "markdown",
     "metadata": {},
     "source": [
      "\u7528\u7cbe\u786e\u7684\u6837\u672c\u5206\u5e03\u8ba1\u7b97\u7f6e\u4fe1\u533a\u95f4\u9700\u8981\u8d39\u4e00\u756a\u529f\u592b\uff1a\n",
      "\n",
      "\u5bf9\u8f83\u5c0f\u7684$N$\uff0c\u6b63\u6001\u5206\u5e03\u8fd1\u4f3c\u662f\u4e0d\u80fd\u7528\u7684\uff0c\u6211\u4eec\u5fc5\u987b\u7528\u771f\u5b9e\u7684\u6837\u672c\u5206\u5e03\u8ba1\u7b97\u7f6e\u4fe1\u533a\u95f4\uff0c\u5c31\u662f$N$\u4e2a\u53d8\u91cf\u7684\u5747\u503c\u7684\u5206\u5e03\u53d6\u51b3\u4e8e$p(\\theta)$\u3002\u968f\u673a\u53d8\u91cf\u7684\u548c\u670d\u4ece\u5355\u4e2a\u53d8\u91cf\u7684\u5206\u5e03\u7684\u5377\u79ef(convolution)\uff0c\u56e0\u6b64\u6211\u4eec\u53ef\u4ee5\u770b\u770b[\u5377\u79ef\u7406\u8bba(convolution theorem)](http://en.wikipedia.org/wiki/Convolution_theorem)\uff0c\u518d\u4f7f\u7528[\u7279\u5f81\u65b9\u7a0b(characteristic functions)](http://en.wikipedia.org/wiki/Characteristic_function_(probability_theory)\uff0c\u6765\u627e\u5230\u53d6\u51b3\u4e8e$p(x~|~\\theta)$\u7684$N$\u4e2a\u53d8\u91cf\u7684\u548c\u6837\u672c\u5206\u5e03\uff1a\n",
      "\n",
      "$$\n",
      "f(\\theta~|~D) \\propto\n",
      "\\left\\{\n",
      "\\begin{array}{lll}\n",
      "z^{N - 1}\\exp(-z) &,& z > 0\\\\\n",
      "0 &,& z < 0\n",
      "\\end{array}\n",
      "\\right\\}\n",
      ";~ z = N(\\hat{\\theta} + 1 - \\theta)\n",
      "$$"
     ]
    },
    {
     "cell_type": "markdown",
     "metadata": {},
     "source": [
      "\u8981\u8ba1\u7b9795%\u7f6e\u4fe1\u533a\u95f4\uff0c\u6211\u4eec\u8981\u7b97\u7d2f\u8ba1\u5206\u522b\u51fd\u6570\uff1a\u6c42$f(\\theta~|~D)$\u4ece$0$\u5230$\\theta$\u7684\u79ef\u5206\u3002\u5982\u679c\u6211\u4eec\u4f7f\u7528[\u4e0d\u5b8c\u5168Gamma\u65b9\u7a0b(incomplete gamma function)](http://en.wikipedia.org/wiki/Incomplete_gamma_function)\u4f1a\u5bb9\u6613\u70b9\uff1a\n",
      "\n",
      "$$\n",
      "\\Gamma(a, x) = \\int_x^\\infty t^{a - 1}e^{-t} dt\n",
      "$$\n",
      "\n",
      "\u770b\u8d77\u6765\u548c$f(\\theta)$\u975e\u5e38\u7684\u50cf\u3002\n",
      "\n",
      "\u7b97\u51fa\u79ef\u5206\uff0c\u6211\u4eec\u5c31\u53ef\u4ee5\u5f97\u51fa\u7d2f\u8ba1\u5206\u5e03\u51fd\u6570\u662f\uff1a\n",
      "\n",
      "$$\n",
      "F(\\theta~|~D) = \\frac{1}{\\Gamma(N)}\\left[ \\Gamma\\left(N, \\max[0, N(\\hat{\\theta} + 1 - \\theta)]\\right) - \\Gamma\\left(N,~N(\\hat{\\theta} + 1)\\right)\\right]\n",
      "$$"
     ]
    },
    {
     "cell_type": "markdown",
     "metadata": {},
     "source": [
      "\u4e00\u4e2a\u8fde\u7eed\u768495%\u7f6e\u4fe1\u533a\u95f4$(\\theta_1, \\theta_2)$\u6ee1\u8db3\u4e0b\u5217\u65b9\u7a0b\uff1a\n",
      "\n",
      "$$\n",
      "F(\\theta_2~|~D) - F(\\theta_1~|~D) = 0.95\n",
      "$$\n",
      "\n",
      "\u5b9e\u9645\u4e0a\u6709\u65e0\u9650\u591a\u7ec4\u89e3\uff0c\u6211\u4eec\u8981\u7684\u662f\u6700\u77ed\u7684\u533a\u95f4\u3002\u6211\u4eec\u53ef\u4ee5\u589e\u52a0\u4e24\u8fb9\u6982\u7387\u5bc6\u5ea6\u76f8\u7b49\u7684\u7ea6\u675f\uff1a\n",
      "\n",
      "$$\n",
      "f(\\theta_2~|~D) = f(\\theta_1~|~D)\n",
      "$$\n",
      "\n",
      "(Jaynes\u8ba4\u4e3a\u8fd9\u4e00\u6761\u786e\u4fdd\u533a\u95f4\u662f\u6700\u77ed\u7684\uff0c\u4f46\u662f\u6211(\u4f5c\u8005)\u4e0d\u660e\u767d\u600e\u4e48\u8bc1\u660e)\u3002\u5176\u5b9e\u56e0\u4e3a\u6b63\u6001\u5206\u5e03\u949f\u5f62\u66f2\u7ebf\u7684\u5bf9\u79f0\u6027\uff0c\u5982\u679c\u8981\u8fbe\u5230\u540c\u6837\u768495%\u7f6e\u4fe1\u6c34\u5e73(\u6982\u7387)\uff0c\u4e5f\u5c31\u662f\u540c\u6837\u7684\u9762\u79ef\uff0c\u5219\u8d8a\u5f80\u4e2d\u95f4\u5219\u9762\u79ef\u8d8a\u5927\uff0c\u533a\u95f4\u8d8a\u5c0f\u3002\u90a3\u4e48\u5bf9\u79f0\u7684\u533a\u95f4\u7684\u957f\u5ea6\u4e00\u5b9a\u6bd4\u540c\u9762\u79ef\u7684\u975e\u5bf9\u79f0\u533a\u95f4\u7684\u957f\u5ea6\u90fd\u77ed\u3002\n",
      "\n",
      "\u89e3\u51b3\u8fd9\u4e24\u4e2a\u975e\u7ebf\u6027\u65b9\u7a0b\u7684\u7cfb\u7edf\u5c31\u53ef\u4ee5\u5f97\u51fa\u7f6e\u4fe1\u533a\u95f4\u3002\u8ba1\u7b97\u8fc7\u7a0b\u5982\u4e0b\uff1a"
     ]
    },
    {
     "cell_type": "code",
     "collapsed": false,
     "input": [
      "from scipy.special import gammaincc\n",
      "from scipy import optimize\n",
      "\n",
      "\n",
      "def exact_CI(D, frac=0.95):\n",
      "    \"\"\"Exact truncated exponential confidence interval\"\"\"\n",
      "    D = np.asarray(D)\n",
      "    N = D.size\n",
      "    theta_hat = np.mean(D) - 1\n",
      "\n",
      "    def f(theta, D):\n",
      "        z = theta_hat + 1 - theta\n",
      "        return (z > 0) * z ** (N - 1) * np.exp(-N * z)\n",
      "\n",
      "    def F(theta, D):\n",
      "        return gammaincc(N, np.maximum(0, N * (theta_hat + 1 - theta))) - gammaincc(N, N * (theta_hat + 1))\n",
      "    \n",
      "    def eqns(CI, D):\n",
      "        \"\"\"Equations which should be equal to zero\"\"\"\n",
      "        theta1, theta2 = CI\n",
      "        return (F(theta2, D) - F(theta1, D) - frac,\n",
      "                f(theta2, D) - f(theta1, D))\n",
      "    \n",
      "    guess = approx_CI(D, 0.68) # use 1-sigma interval as a guess\n",
      "    result = optimize.root(eqns, guess, args=(D,))\n",
      "    if not result.success:\n",
      "        print \"warning: CI result did not converge!\"\n",
      "    return result.x"
     ],
     "language": "python",
     "metadata": {},
     "outputs": [],
     "prompt_number": 11
    },
    {
     "cell_type": "markdown",
     "metadata": {},
     "source": [
      "\u4e3a\u4e86\u4fdd\u8bc1\u5408\u7406\u6027(sanity check)\uff0c\u786e\u4fdd\u7cbe\u786e\u7684\u4e0e\u8fd1\u4f3c\u7684\u7f6e\u4fe1\u533a\u95f4\u5728\u5927\u91cf\u6570\u636e\u4e0b\u662f\u4e00\u81f4\u7684\uff1a"
     ]
    },
    {
     "cell_type": "code",
     "collapsed": false,
     "input": [
      "np.random.seed(0)\n",
      "Dlarge = 10 + np.random.random(500)\n",
      "print \"approx: ({0:.3f}, {1:.3f})\".format(*approx_CI(Dlarge))\n",
      "print \"exact: ({0:.3f}, {1:.3f})\".format(*exact_CI(Dlarge))"
     ],
     "language": "python",
     "metadata": {},
     "outputs": [
      {
       "output_type": "stream",
       "stream": "stdout",
       "text": [
        "approx: (9.409, 9.584)\n",
        "exact: (9.408, 9.584)\n"
       ]
      }
     ],
     "prompt_number": 12
    },
    {
     "cell_type": "markdown",
     "metadata": {},
     "source": [
      "\u786e\u5b9e\uff0c\u5728\u8f83\u5927\u7684$N$\u89e3\u51fa\u7684\u7cbe\u786e\u533a\u95f4\u4e0e\u8fd1\u4f3c\u533a\u95f4\u4e00\u81f4\uff0c\u8fd9\u8ba9\u6211\u4eec\u786e\u4fe1\u6211\u4eec\u7684\u8ba1\u7b97\u662f\u6b63\u786e\u7684\u3002\n",
      "\n",
      "\u8ba9\u6211\u4eec\u56de\u5230\u4e4b\u524d3\u4e2a\u70b9\u7684\u6570\u636e\u96c6\u770b\u770b\u7ed3\u679c\uff1a"
     ]
    },
    {
     "cell_type": "code",
     "collapsed": false,
     "input": [
      "print(\"approximate CI: ({0:.1f}, {1:.1f})\".format(*approx_CI(D)))\n",
      "print(\"exact CI:       ({0:.1f}, {1:.1f})\".format(*exact_CI(D)))"
     ],
     "language": "python",
     "metadata": {},
     "outputs": [
      {
       "output_type": "stream",
       "stream": "stdout",
       "text": [
        "approximate CI: (10.2, 12.5)\n",
        "exact CI:       (10.2, 12.2)\n"
       ]
      }
     ],
     "prompt_number": 13
    },
    {
     "cell_type": "markdown",
     "metadata": {},
     "source": [
      "\u7cbe\u786e\u7684\u7f6e\u4fe1\u533a\u95f4\u4e0e\u8fd1\u4f3c\u7f6e\u4fe1\u533a\u95f4\u7a0d\u6709\u4e0d\u540c\uff0c\u4f46\u662f\u53cd\u6620\u4e86\u540c\u6837\u7684\u95ee\u9898\uff1a**\u6211\u4eec\u4ece\u5e38\u8bc6\u63a8\u65ad$\\theta$\u4e0d\u80fd\u5927\u4e8e10\uff0c\u800c95%\u7684\u7f6e\u4fe1\u533a\u95f4\u5b8c\u5168\u5904\u4e8e\u5927\u4e8e10\u7684\u533a\u95f4\u5185**\u3002\u8fd9\u4e2a\u7f6e\u4fe1\u533a\u95f4\u770b\u8d77\u6765\u4e0d\u592a\u9760\u8c31\u3002\n",
      "\n",
      "\u540e\u9762\u6211\u4eec\u4f1a\u4ed4\u7ec6\u7814\u7a76\uff0c\u73b0\u5728\u6211\u4eec\u770b\u770b\u8d1d\u53f6\u65af\u7684\u89e3\u51b3\u65b9\u6cd5\u662f\u4e0d\u662f\u66f4\u597d\u3002"
     ]
    },
    {
     "cell_type": "heading",
     "level": 2,
     "metadata": {},
     "source": [
      "4. \u8d1d\u53f6\u65af\u53ef\u4fe1\u8303\u56f4"
     ]
    },
    {
     "cell_type": "markdown",
     "metadata": {},
     "source": [
      "\u9996\u5148\u6211\u4eec\u7528\u8d1d\u53f6\u65af\u5b9a\u7406\uff1a\n",
      "\n",
      "$$\n",
      "p(\\theta~|~D) = \\frac{p(D~|~\\theta)p(\\theta)}{P(D)}\n",
      "$$\n",
      "\n",
      "\u7528\u4e00\u4e2a\u5e38\u91cf\u7684$p(\\theta)$\uff0c\u5b83\u7684\u4f3c\u7136\u4f30\u8ba1\u4e3a\n",
      "\n",
      "$$\n",
      "p(D~|~\\theta) = \\prod_{i=1}^N p(x~|~\\theta)\n",
      "$$\n",
      "\n",
      "\u53ef\u4ee5\u5f97\u51fa\n",
      "\n",
      "$$\n",
      "p(\\theta~|~D) \\propto \\left\\{\n",
      "\\begin{array}{lll}\n",
      "N\\exp\\left[N(\\theta - \\min(D))\\right] &,& \\theta < \\min(D)\\\\\n",
      "0                &,& \\theta > \\min(D)\n",
      "\\end{array}\n",
      "\\right\\}\n",
      "$$\n",
      "\n",
      "\u5176\u4e2d\uff0c$\\min(D)$\u662f$D$\u7684\u6700\u5c0f\u503c\uff0c \u4e4b\u6240\u4ee5\u51fa\u73b0\u662f\u56e0\u4e3a$p(x~|~\\theta)$\u7684\u622a\u65ad\u3002\n",
      "\u56e0\u4e3a$p(\\theta~|~D)$\u4f1a\u6307\u6570\u589e\u957f\u5230\u622a\u65ad\u4f4d\u7f6e(cutoff)\uff0c\u6240\u4ee5\u6700\u77ed\u768495%\u7f6e\u4fe1\u533a\u95f4$(\\theta_1, \\theta_2)$\u5c31\u662f\n",
      "\n",
      "$$\n",
      "\\theta_2 = \\min(D)\n",
      "$$\n",
      "\n",
      "\u800c$\\theta_1$\u5c31\u662f\u4e0b\u9762\u65b9\u7a0b\u7684\u89e3\n",
      "\n",
      "$$\n",
      "\\int_{\\theta_1}^{\\theta_2} N\\exp[N(\\theta - \\theta_2)]d\\theta = f\n",
      "$$\n",
      "\n",
      "\u7b97\u79ef\u5206\u53ef\u4ee5\u6c42\u89e3\u65b9\u7a0b\n",
      "\n",
      "$$\n",
      "\\theta_1 = \\theta_2 + \\frac{\\log(1 - f)}{N}\n",
      "$$\n",
      "\n",
      "\u89e3\u6cd5\u5982\u4e0b\u6240\u793a\uff1a"
     ]
    },
    {
     "cell_type": "code",
     "collapsed": false,
     "input": [
      "def bayes_CR(D, frac=0.95):\n",
      "    \"\"\"Bayesian Credibility Region\"\"\"\n",
      "    D = np.asarray(D)\n",
      "    N = float(D.size)\n",
      "    theta2 = D.min()\n",
      "    theta1 = theta2 + np.log(1. - frac) / N\n",
      "    return theta1, theta2"
     ],
     "language": "python",
     "metadata": {},
     "outputs": [],
     "prompt_number": 14
    },
    {
     "cell_type": "markdown",
     "metadata": {},
     "source": [
      "\u8d1d\u53f6\u65af\u65b9\u6cd5\u5c31\u641e\u5b9a\u4e86\uff0c\u4e0b\u9762\u6211\u4eec\u6765\u6bd4\u8f83\u4e00\u4e0b\u56db\u79cd\u65b9\u6cd5\uff1a"
     ]
    },
    {
     "cell_type": "code",
     "collapsed": false,
     "input": [
      "print(\"common sense:         theta < {0:.1f}\".format(np.min(D)))\n",
      "print(\"frequentism (approx): 95% CI = ({0:.1f}, {1:.1f})\".format(*approx_CI(D)))\n",
      "print(\"frequentism (exact):  95% CI = ({0:.1f}, {1:.1f})\".format(*exact_CI(D)))\n",
      "print(\"Bayesian:             95% CR = ({0:.1f}, {1:.1f})\".format(*bayes_CR(D)))"
     ],
     "language": "python",
     "metadata": {},
     "outputs": [
      {
       "output_type": "stream",
       "stream": "stdout",
       "text": [
        "common sense:         theta < 10.0\n",
        "frequentism (approx): 95% CI = (10.2, 12.5)\n",
        "frequentism (exact):  95% CI = (10.2, 12.2)\n",
        "Bayesian:             95% CR = (9.0, 10.0)\n"
       ]
      }
     ],
     "prompt_number": 15
    },
    {
     "cell_type": "markdown",
     "metadata": {},
     "source": [
      "\u6211\u4eec\u4f1a\u53d1\u73b0\u8d1d\u53f6\u65af\u65b9\u6cd5\u4e0e\u5e38\u8bc6\u662f\u4e00\u81f4\u7684\uff0c\u800c\u9891\u7387\u8bba\u4e0d\u9760\u8c31\u3002\u95ee\u9898\u5c31\u662f**\u9891\u7387\u4e3b\u4e49\u4e00\u76f4\u56de\u7b54\u9519\u8bef\u7684\u95ee\u9898**\u3002\u4e0b\u9762\u6211\u4f1a\u8be6\u8c08\uff0c\u9996\u5148\u6211\u4eec\u901a\u8fc7\u4eff\u771f\u6765\u9a8c\u8bc1CI\u548cCR\u7684\u6b63\u786e\u6027\u3002"
     ]
    },
    {
     "cell_type": "heading",
     "level": 2,
     "metadata": {},
     "source": [
      "\u6570\u503c\u65b9\u6cd5\u9a8c\u8bc1"
     ]
    },
    {
     "cell_type": "markdown",
     "metadata": {},
     "source": [
      "\u4e3a\u4e86\u6d88\u9664\u5bf9\u6570\u5b66\u7684\u62c5\u5fe7\uff0c\u6211\u60f3\u91cd\u590d\u4e4b\u524d\u505a\u8fc7\u7684\u4e8b\u60c5\uff0c\u8bf4\u660e*\u524d\u9762\u7684\u7f6e\u4fe1\u533a\u95f4\u5176\u5b9e\u662f\u6b63\u786e\u7684*\u3002\u6211\u4eec\u5c06\u7528\u524d\u9762\u63d0\u5230\u7684\u65b9\u6cd5\uff0c\u5047\u8bbe\u8fd9\u4e2a*\u771f\u5b9e*\u7684$\\theta$\u548c\u5177\u6709\u540c\u6837\u5206\u5e03\u7684\u6837\u672c\u6570\u636e\uff1a"
     ]
    },
    {
     "cell_type": "code",
     "collapsed": false,
     "input": [
      "from scipy.stats import expon\n",
      "\n",
      "Nsamples = 1000\n",
      "N = 3\n",
      "theta = 10\n",
      "\n",
      "np.random.seed(42)\n",
      "data = expon(theta).rvs((Nsamples, N))\n",
      "CIs = np.array([exact_CI(Di) for Di in data])\n",
      "\n",
      "# find which confidence intervals contain the mean\n",
      "contains_theta = (CIs[:, 0] < theta) & (theta < CIs[:, 1])\n",
      "print \"Fraction of Confidence Intervals containing theta: {0:.3f}\".format(contains_theta.sum() * 1. / contains_theta.size)"
     ],
     "language": "python",
     "metadata": {},
     "outputs": [
      {
       "output_type": "stream",
       "stream": "stdout",
       "text": [
        "Fraction of Confidence Intervals containing theta: 0.953\n"
       ]
      }
     ],
     "prompt_number": 16
    },
    {
     "cell_type": "markdown",
     "metadata": {},
     "source": [
      "\u6309\u7167\u9891\u7387\u4e3b\u4e49\u7684\u89c2\u70b9\uff0c\u8ba1\u7b97\u51fa\u6765\u7684\u7f6e\u4fe1\u533a\u95f4\u768495%\u53ef\u80fd\u662f\u5305\u542b\u771f\u5b9e\u503c\u7684\u3002\u6211\u4eec\u8ba1\u7b97\u7f6e\u4fe1\u533a\u95f4\u7684\u7a0b\u5e8f\u5b9e\u9645\u662f\u6b63\u786e\u7684\uff1a\u6570\u636e\u5176\u5b9e\u662f\u5728\u53e6\u5916\u76845%\u91cc\u9762\u3002\u4f46\u662f\uff1a**\u6211\u4eec\u4ece\u6570\u636e\u672c\u8eab\u51fa\u53d1\uff0c\u53d1\u73b0\u6211\u4eec\u771f\u5904\u4e8e\u8ba9CI\u5931\u8d25\u76845%\u6570\u636e\u4e2d**\u3002\u6807\u51c6\u7684\u9891\u7387\u8bba\u7f6e\u4fe1\u533a\u95f4\u7406\u8bba\u5ffd\u7565\u4e86\u8fd9\u6837\u7684\u4e8b\u5b9e\uff0c\u90a3\u5c31\u662f\u5728\u5904\u7406\u4efb\u4f55\u95ee\u9898\u65f6\uff0c\u5e38\u8bc6\u90fd\u5e94\u8be5\u8ba9\u4f60\u505c\u6b62\u5bf9\u7f6e\u4fe1\u533a\u95f4\u7684\u76f2\u76ee\u4f9d\u8d56\u3002\n",
      "\n",
      "\u8ba9\u6211\u4eec\u68c0\u67e5\u4e00\u4e0b\u8d1d\u53f6\u65af\u53ef\u4fe1\u533a\u57df\u7684\u6d4b\u8bd5\u7ed3\u679c\uff1a"
     ]
    },
    {
     "cell_type": "code",
     "collapsed": false,
     "input": [
      "np.random.seed(42)\n",
      "N = 1E7\n",
      "eps = 0.1\n",
      "\n",
      "theta = 9 + 2 * np.random.random(N)\n",
      "data = (theta + expon().rvs((3, N))).T\n",
      "data.sort(1)\n",
      "D.sort()\n",
      "i_good = np.all(abs(data - D) < eps, 1)\n",
      "\n",
      "print(\"Number of good samples: {0}\".format(i_good.sum()))"
     ],
     "language": "python",
     "metadata": {},
     "outputs": [
      {
       "output_type": "stream",
       "stream": "stdout",
       "text": [
        "Number of good samples: 65\n"
       ]
      }
     ],
     "prompt_number": 17
    },
    {
     "cell_type": "code",
     "collapsed": false,
     "input": [
      "theta_good = theta[i_good]\n",
      "theta1, theta2 = bayes_CR(D)\n",
      "\n",
      "within_CR = (theta1 < theta_good) & (theta_good < theta2)\n",
      "print(\"Fraction of thetas in Credible Region: {0:.3f}\".format(within_CR.sum() * 1. / within_CR.size))"
     ],
     "language": "python",
     "metadata": {},
     "outputs": [
      {
       "output_type": "stream",
       "stream": "stdout",
       "text": [
        "Fraction of thetas in Credible Region: 0.954\n"
       ]
      }
     ],
     "prompt_number": 18
    },
    {
     "cell_type": "markdown",
     "metadata": {},
     "source": [
      "\u770b\uff0c\u786e\u5b9e\u5982\u6b64\uff0c~95%\u7684$\\theta$\u7684\u6570\u503c\u843d\u5728\u6211\u4eec\u901a\u8fc7\u5355\u4e2a\u6570\u636e\u6837\u672c\u8ba1\u7b97\u7684\u53ef\u4fe1\u8303\u56f4\u5185\u3002"
     ]
    },
    {
     "cell_type": "heading",
     "level": 1,
     "metadata": {},
     "source": [
      "\u9891\u7387\u4e3b\u4e49\u56de\u7b54\u9519\u8bef\u95ee\u9898"
     ]
    },
    {
     "cell_type": "markdown",
     "metadata": {},
     "source": [
      "\u5728\u4f8b\u4e8c\u4e2d\uff0c\u6211\u4eec\u6f14\u793a\u4e86\u9891\u7387\u8bba\u65b9\u6cd5\u662f*\u6280\u672f\u6b63\u786e\u7684*\uff0c\u4f46\u662f\u5b83\u8fdd\u80cc\u6211\u4eec\u7684\u5e38\u8bc6\u3002\u5230\u5e95\u662f\u548b\u56de\u4e8b\u513f\uff1f\n",
      "\n",
      "\u95ee\u9898\u7684\u5173\u952e\u662f\uff1a**\u9891\u7387\u8bba\u7f6e\u4fe1\u533a\u95f4\u7ed9\u51fa\u6b63\u786e\u7b54\u6848\u7684\u540c\u65f6\uff0c\u901a\u5e38\u662f\u5728\u56de\u7b54\u9519\u8bef\u7684\u95ee\u9898**\u3002\u9519\u8bef\u7684\u95ee\u9898\u5c31\u662f\u9891\u7387\u8bba\u7684*\u57fa\u7840*\u2014\u2014\u6982\u7387\u5b9a\u4e49\u3002\n",
      "\n",
      "\u56de\u60f3\u4e0a\u9762\u6211\u5bf9\u7f6e\u4fe1\u533a\u95f4\u548c\u53ef\u4fe1\u8303\u56f4\u7684\u8bba\u8ff0\u3002\u8d1d\u53f6\u65af\u4e3b\u4e49\u8bf4\uff1a\n",
      "\n",
      "> \"\u4ece\u89c2\u5bdf\u5230\u7684\u6570\u636e\u6765\u770b\uff0c$\\theta$\u7684\u771f\u5b9e\u503c\u670995%\u7684\u53ef\u80fd\u6027\u843d\u5728\u53ef\u4fe1\u8303\u56f4\u5185\" - \u8d1d\u53f6\u65af\u4e3b\u4e49\n",
      "\n",
      "\u800c\u9891\u7387\u4e3b\u4e49\u8bf4\uff1a\n",
      "\n",
      "> \"\u5f53\u6211\u7528\u8fd9\u7ec4\u6570\u636e\u8ba1\u7b97\u7f6e\u4fe1\u533a\u95f4\u65f6\uff0c$\\theta$\u670995%\u7684\u53ef\u80fd\u5728\u533a\u95f4\u5185\" - \u9891\u7387\u4e3b\u4e49\n",
      "\n",
      "\u60f3\u60f3\u770b\uff0c\u5047\u5982\u4f60\u53d1\u73b0\u8bbe\u5907\u5b95\u673a\u4e863\u6b21\uff0c\u4f60\u60f3\u4f30\u8ba1$\\theta$\u3002\u6211\u8ba4\u4e3a\"\u8fd9\u79cd\u6570\u636e\"\u4e0d\u662f\u4f60\u7684\u76ee\u6807\uff1a\u4f60\u5e94\u8be5\u5173\u5fc3\u7684\u662f\u4f60\u53ef\u4ee5\u4ece**\u8fd9\u4e09\u6b21\u89c2\u5bdf**\u4e2d\u53d1\u73b0\u4ec0\u4e48\u95ee\u9898\uff0c\u800c\u975e\u89c2\u5bdf\u7684\u6574\u4e2a\u5047\u8bbe\u7a7a\u95f4(not the entire hypothetical space of observations like them)\u3002\u5982\u524d\u6240\u8ff0\uff0c\u5982\u679c\u4f60\u6b65\u9891\u7387\u8bba\u540e\u5c18\u53bb\u8003\u8651\"\u8fd9\u79cd\u6570\u636e\"\uff0c\u4f60\u5c31\u7f6e\u8eab\u83b7\u5f97\u7b54\u6848\u7684\u7edd\u5883\uff0c\u4ece\u4f60\u89c2\u5bdf\u5230\u7684\u7279\u6b8a\u60c5\u51b5\u4e2d\u5f97\u4e0d\u5230\u4efb\u4f55\u4ef7\u503c\u3002\n",
      "\n",
      "\u5047\u5982\u4f60\u60f3\u6539\u53d8\u77e5\u9053*\u4ece\u4f60\u89c2\u5bdf\u5230\u7684\u6570\u636e\u4e2d*\uff0c\u9891\u7387\u8bba\u7f6e\u4fe1\u533a\u95f4\u53ef\u4ee5\u544a\u8bc9\u4f60\u4ec0\u4e48\u3002\u8fd9\u5c31\u662f\u7b54\u6848\uff1a\n",
      "\n",
      "> \"*\u4ece\u89c2\u5bdf\u5230\u7684\u6570\u636e\u6765\u770b*\uff0c$\\theta$\u7684\u771f\u5b9e\u503c\u8981\u4e48\u5728\u7f6e\u4fe1\u533a\u95f4\u91cc\uff0c\u8981\u4e48\u4e0d\u5728\u91cc\u9762\" - \u9891\u7387\u4e3b\u4e49\n",
      "\n",
      "\u8fd9\u5c31\u662f\u5bf9\u4f60\u89c2\u5bdf\u5230\u7684**\u8fd9\u4e9b\u6570\u636e**\u7f6e\u4fe1\u533a\u95f4\u60f3\u8bf4\u7684\uff0c\u4e5f\u80fd\u8bf4\u7684\u5185\u5bb9\u3002\u5f53\u7136\uff0c\u8fd9\u770b\u8d77\u6765\u6709\u70b9\u5570\u55e6\uff0c\u90a3\u4e48\u7cbe\u7b80\u4e00\u70b9\u7684\u8bf4\u6cd5\u5c31\u662f:\n",
      "\n",
      "> \"*\u4ece\u89c2\u5bdf\u5230\u7684\u6570\u636e\u6765\u770b*\uff0c\u6211\u65e0\u6cd5\u786e\u5b9a$\\theta$\u503c\u7684\u8303\u56f4\" - \u9891\u7387\u4e3b\u4e49\n",
      "\n",
      "\u5982\u679c\u4f60\u60f3\u4ece\u4f60\u89c2\u5bdf\u5230\u7684\u6570\u636e\u4e2d\u5f97\u5230\u7b54\u6848\uff0c\u9891\u7387\u4e3b\u4e49\u662f\u4e0d\u9760\u8c31\u7684\u3002"
     ]
    },
    {
     "cell_type": "heading",
     "level": 3,
     "metadata": {},
     "source": [
      "\u518d\u575a\u6301\u4e0b\u54c8... \u8fd9\u662f\u4e0d\u662f\u6709\u70b9\u8fc7\u5206\u82db\u8d23\uff1f"
     ]
    },
    {
     "cell_type": "markdown",
     "metadata": {},
     "source": [
      "\u8fd9\u4e48\u8bf4\u53ef\u80fd\u6709\u70b9\u82db\u523b\uff0c\u4f46\u662f\u6211\u60f3\u8bf4\u8fd9\u4e0d\u662f\u4fe1\u53e3\u96cc\u9ec4\uff1b\u8fd9\u662f\u5173\u4e8e\u9891\u7387\u4e3b\u4e49\u7684\u54f2\u5b66\u7acb\u573a\u548c\u7f6e\u4fe1\u533a\u95f4\u7684\u5b9a\u4e49\u7684\u4e00\u4e2a\u4e0d\u4e89\u7684\u4e8b\u5b9e\u3002\u5982\u679c\u4f60\u60f3\u4ece\u89c2\u5bdf\u5230\u7684\u6570\u636e\u4e2d\u83b7\u5f97\u9760\u8c31\u7684\u7ed3\u8bba(\u5982\u7f6e\u4fe1\u533a\u95f4\u548c\u76f8\u5173\u7cfb\u6570$p$\u503c)\uff0c\u9891\u7387\u4e3b\u4e49\u662f\u76f8\u5f53\u4e0d\u9760\u8c31\u7684\u3002\n",
      "\n",
      "\u4e0d\u5e78\u7684\u662f\uff0c\u6574\u5929\u5728\u7528\u9891\u7387\u8bba\u65b9\u6cd5\u7684\u5f88\u591a\u4eba\u90fd\u6ca1\u6709\u610f\u8bc6\u5230\u8fd9\u4e9b\u3002\u6211\u4ece\u5929\u6587\u5b66\u7684\u6848\u4f8b\u4e2d\u6307\u660e\u4e86\u8fd9\u4e9b\uff0c\u4f46\u662f\u6211\u5e76\u975e\u8981\u8ba9\u5927\u5bb6\u96be\u582a(\u4ed6\u4eec\u5f88\u5bb9\u6613\u77e5\u9053\u73b0\u5728\u4f60\u8981\u627e\u4ec0\u4e48)\u3002\u5f88\u591a\u79d1\u5b66\u5bb6\u628a\u7f6e\u4fe1\u533a\u95f4\u5f53\u4f5c\u8d1d\u53f6\u65af\u53ef\u4fe1\u8303\u56f4\uff0c**\u4f46\u8fd9\u660e\u663e\u662f\u9519\u7684**\u3002\u7edf\u8ba1\u5b66\u5916\u884c\u53ef\u80fd\u4f1a\u539f\u8c05\u5bf9\u8fd9\u4e00\u89c2\u70b9\u7684\u5ffd\u7565\uff0c\u4f46\u662f\u4e13\u4e1a\u7684\u7edf\u8ba1\u5b66\u5bb6\u4eec\u4e5f\u7ecf\u5e38\u9519\u8bef\u5730\u89e3\u91ca\u7f6e\u4fe1\u533a\u95f4\u3002\n",
      "\n",
      "\u6211\u8ba4\u4e3a\u8fd9\u4e2a\u9519\u8bef\u5982\u6b64\u666e\u904d\u7684\u7406\u7531\uff0c\u662f\u56e0\u4e3a\u5728\u5f88\u591a\u5c0f\u95ee\u9898(\u5982\u524d\u6240\u8ff0)\u4e2d\uff0c\u7f6e\u4fe1\u533a\u95f4\u4e0e\u53ef\u4fe1\u8303\u56f4\u6070\u597d\u4e00\u81f4\u3002\u8fd9\u65f6\uff0c\u9891\u7387\u4e3b\u4e49\u6b63\u786e\u5730\u56de\u7b54\u4e86\u4f60\u7684\u95ee\u9898\uff0c**\u4f46\u662f\u4ec5\u4ec5\u56e0\u4e3a\u8d1d\u53f6\u65af\u4e3b\u4e49\u4e5f\u7ed9\u51fa\u4e86\u76f8\u540c\u7684\u7ed3\u679c**\u3002(\u5982\u679c\u8d1d\u53f6\u65af\u7684\u7ed3\u679c\u4e0d\u4e00\u6837\uff0c\u9891\u7387\u8bba\u5c31\u9519\u4e86\u3002)\n",
      "\n",
      "\u6211\u7edd\u975e\u7b2c\u4e00\u4e2a\u8fd9\u4e48\u8bf4\u7684\u4eba\u3002\u7269\u7406\u5b66\u5bb6[E.T. Jaynes](http://en.wikipedia.org/wiki/Edwin_Thompson_Jaynes)\u662f\u516c\u8ba4\u7684\u8d1d\u53f6\u65af\u634d\u536b\u8005\uff1b \u6211\u7684\u4e00\u4e2a\u7075\u611f\u6765\u81ea\u4ed61976\u7684\u8bba\u6587*Confidence Intervals vs. Bayesian Intervals* ([pdf](http://bayes.wustl.edu/etj/articles/confidence.pdf))\u3002\u6700\u8fd1\uff0c\u6301\u540c\u6837\u89c2\u70b9\u7684\uff0c\u8fd8\u6709\u7edf\u8ba1\u5b66\u5bb6\u4e0e\u535a\u4e3b[W.M. Briggs](http://wmbriggs.com/) \u5728arX\u53d1\u8868\u7684\u535a\u6587[*\u518d\u4e5f\u522b\u7ed9\u975e\u7edf\u8ba1\u5b66\u4eba\u58eb\u8bb2\u9891\u7387\u4e3b\u4e49\u4e86(It's Time To Stop Teaching Frequentism to Non-Statisticians)*](http://arxiv.org/abs/1201.2590)\u3002\u8fd8\u6709[Savage](http://en.wikipedia.org/wiki/Leonard_Jimmie_Savage)\uff0c [Cornfield](http://en.wikipedia.org/wiki/Jerome_Cornfield)\uff0c\u4ee5\u53ca20\u4e16\u7eaa\u7684\u8d1d\u53f6\u65af\u5b9e\u8df5\u8005\u4eec\u5927\u91cf\u7684\u8457\u4f5c\u8a00\u8bba\u3002\n",
      "\n",
      "\u90a3\u4e48\uff0c\u4f60\u8fd8\u60f3\u7528\u7f6e\u4fe1\u533a\u95f4\u5417\uff1f\u53ef\u80fd\u5728\u591a\u4e2a\u6570\u636e\u83b7\u53d6\u53ef\u4ee5\u5b9e\u73b0\u7684\u60c5\u51b5\u4e0b(\u5982\u5206\u6790\u8d4c\u535a\u8d54\u7387)\uff0c\u9891\u7387\u4e3b\u4e49\u662f\u6709\u610f\u4e49\u7684\u3002\u4f46\u662f\u5728\u5927\u591a\u6570\u79d1\u5b66\u5e94\u7528\u4e2d\uff0c\u5f53\u4f60\u5173\u5fc3\u7684\u662f\u76ee\u524d\u83b7\u53d6\u7684\u6570\u636e\u53ef\u4ee5\u544a\u8bc9\u6211\u4eec\u4ec0\u4e48\u65f6\uff0c**\u9891\u7387\u4e3b\u4e49\u53ea\u4f1a\u56de\u7b54\u9519\u8bef\u7684\u95ee\u9898**\u3002"
     ]
    },
    {
     "cell_type": "heading",
     "level": 1,
     "metadata": {},
     "source": [
      "\u672c\u6587\u7684\u5bd3\u610f\uff1a\u9891\u7387\u4e3b\u4e49\u4e0d\u80fd\u4e0e\u79d1\u5b66\u6df7\u4e3a\u4e00\u8c08"
     ]
    },
    {
     "cell_type": "markdown",
     "metadata": {},
     "source": [
      "\u672c\u6587\u7684\u5bd3\u610f\u5c31\u662f\u9891\u7387\u4e3b\u4e49\u4e0d\u80fd\u4e0e\u79d1\u5b66\u6df7\u4e3a\u4e00\u8c08\u3002*\u5728\u79d1\u5b66\u5de5\u4f5c\u4e2d\uff0c\u4f60\u8981\u8d28\u7591\u5bf9\u9891\u7387\u8bba\u7684\u7f6e\u4fe1\u533a\u95f4\u548cp\u503c\u7684\u4f7f\u7528*\u3002\u5728\u79d1\u5b66\u7814\u7a76\u65f6\uff0c\u7f6e\u4fe1\u533a\u95f4\u548c\u76f8\u5173\u7cfb\u6570p\u503c\uff0c\u4e3a\u9519\u8bef\u7684\u95ee\u9898\u63d0\u4f9b\u4e86\u6b63\u786e\u7684\u7b54\u6848\u3002\u5c24\u5176\u662f\u5f53\u4f60\u53d1\u73b0\u6709\u4eba\u8bf495%\u7f6e\u4fe1\u533a\u95f4\u5c31\u662f\u5bf9\u76ee\u6807\u53c2\u657095%\u7684\u786e\u5b9a\u65f6\uff0c**\u4e0d\u8981\u76f8\u4fe1\u4ed6\u4eec\u7684\u89e3\u91ca\u548c\u7ed3\u8bba**\u3002\u5982\u679c\u4f60\u662f\u8bba\u6587\u5ba1\u7a3f\u4eba,**\u76f4\u63a5\u62d2\u7edd**\u3002\u4ed6\u4eec\u7684\u6570\u636e\u4e0d\u80fd\u652f\u6491\u5176\u7ed3\u8bba\u3002\n",
      "\n",
      "\u5982\u679c\u4f60\u575a\u6301\u5230\u8fd9\u91cc\uff0c\u6211\u975e\u5e38\u611f\u8c22\u4f60\uff01\u6211\u5e0c\u671b\u8fd9\u4e9b\u89e3\u91ca\u6210\u529f\u5730\u9610\u8ff0\u4e86\u9891\u7387\u4e3b\u4e49\u4e0e\u8d1d\u53f6\u65af\u4e3b\u4e49\u7684\u54f2\u5b66\u5047\u8bbe\u5bf9\u5b9e\u9645\u7684\u6570\u636e\u5206\u6790\u548c\u89e3\u91ca\u7684\u5dee\u5f02\u3002\u5982\u679c\u672c\u6587\u8ba9\u4e00\u4e2a\u7814\u7a76\u8005\u4e0d\u518d\u7528\u9891\u7387\u8bba\u7f6e\u4fe1\u533a\u95f4\u505a\u79d1\u5b66\u7814\u7a76\uff0c\u90a3\u4e48\u6211\u5c31\u8ba4\u4e3a\u6211\u6210\u529fl\u3002\n",
      "\n",
      "<small>\n",
      "\u8fd9\u7bc7\u535a\u5ba2\u662fIPython notebook\u5199\u7684\u3002\u53ef\u4ee5[\u4e0b\u8f7d](http://jakevdp.github.io/downloads/notebooks/FreqBayes3.ipynb)\uff0c\u6216\u8005\u770b[nbviewer](http://nbviewer.ipython.org/url/jakevdp.github.io/downloads/notebooks/FreqBayes3.ipynb)\u9759\u6001\u7f51\u9875\u3002\n",
      "\u5341\u5206\u611f\u8c22David W. Hogg\u5bf9\u672c\u6587\u63d0\u51fa\u7684\u5efa\u8bae\u3002\n",
      "</small>"
     ]
    }
   ],
   "metadata": {}
  }
 ]
}