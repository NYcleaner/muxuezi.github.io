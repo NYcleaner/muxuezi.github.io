{
 "cells": [
  {
   "cell_type": "markdown",
   "metadata": {},
   "source": [
    "# LARS正则化"
   ]
  },
  {
   "cell_type": "markdown",
   "metadata": {},
   "source": [
    "如果斯坦福大学的Bradley Efron, Trevor Hastie, Iain Johnstone和Robert Tibshirani没有发现它的话[1]，LARS(Least Angle Regression，最小角回归)可能有一天会被你想出来，它借用了[威廉·吉尔伯特·斯特朗（William Gilbert Strang）](https://en.wikipedia.org/wiki/Gilbert_Strang)介绍过的高斯消元法（Gaussian elimination）的灵感。\n",
    "\n",
    "<!-- TEASER_END -->"
   ]
  },
  {
   "cell_type": "markdown",
   "metadata": {},
   "source": [
    "## Getting ready"
   ]
  },
  {
   "cell_type": "markdown",
   "metadata": {},
   "source": [
    "LARS是一种回归手段，适用于解决高维问题，也就是$p >> n$的情况，其中$p$表示列或者特征变量，$n$表示样本数量。"
   ]
  },
  {
   "cell_type": "markdown",
   "metadata": {},
   "source": [
    "## How to do it..."
   ]
  },
  {
   "cell_type": "markdown",
   "metadata": {},
   "source": [
    "首先让我们导入必要的对象。这里我们用的数据集是200个数据，500个特征。我们还设置了一个低噪声，和少量提供信息的（informative）特征："
   ]
  },
  {
   "cell_type": "code",
   "execution_count": null,
   "metadata": {
    "collapsed": true
   },
   "outputs": [],
   "source": [
    "import numpy as np\n",
    "from sklearn.datasets import make_regression\n",
    "reg_data, reg_target = make_regression(n_samples=200,n_features=500, n_informative=10, noise=2)"
   ]
  },
  {
   "cell_type": "markdown",
   "metadata": {},
   "source": [
    "由于我们用了10个信息特征，因此我们还要为LARS设置10个非0的相关系数。我们事先可能不知道信息特征的准确数量，但是出于试验的目的是可行的："
   ]
  },
  {
   "cell_type": "code",
   "execution_count": 2,
   "metadata": {
    "collapsed": false
   },
   "outputs": [
    {
     "data": {
      "text/plain": [
       "Lars(copy_X=True, eps=2.2204460492503131e-16, fit_intercept=True,\n",
       "   fit_path=True, n_nonzero_coefs=10, normalize=True, precompute='auto',\n",
       "   verbose=False)"
      ]
     },
     "execution_count": 2,
     "metadata": {},
     "output_type": "execute_result"
    }
   ],
   "source": [
    "from sklearn.linear_model import Lars\n",
    "lars = Lars(n_nonzero_coefs=10)\n",
    "lars.fit(reg_data, reg_target)"
   ]
  },
  {
   "cell_type": "markdown",
   "metadata": {},
   "source": [
    "我们可以检验一下看看LARS的非0相关系数的和："
   ]
  },
  {
   "cell_type": "code",
   "execution_count": 4,
   "metadata": {
    "collapsed": false
   },
   "outputs": [
    {
     "data": {
      "text/plain": [
       "10"
      ]
     },
     "execution_count": 4,
     "metadata": {},
     "output_type": "execute_result"
    }
   ],
   "source": [
    "np.sum(lars.coef_ != 0)"
   ]
  },
  {
   "cell_type": "markdown",
   "metadata": {},
   "source": [
    "问题在于为什么少量的特征反而变得更加有效。要证明这一点，让我们用一半数量来训练两个LARS模型，一个用12个非零相关系数，另一个非零相关系数用默认值。这里用12个是因为我们对重要特征的数量有个估计，但是可能无法确定准确的数量："
   ]
  },
  {
   "cell_type": "code",
   "execution_count": 14,
   "metadata": {
    "collapsed": false
   },
   "outputs": [
    {
     "data": {
      "text/plain": [
       "Lars(copy_X=True, eps=2.2204460492503131e-16, fit_intercept=True,\n",
       "   fit_path=True, n_nonzero_coefs=12, normalize=True, precompute='auto',\n",
       "   verbose=False)"
      ]
     },
     "execution_count": 14,
     "metadata": {},
     "output_type": "execute_result"
    }
   ],
   "source": [
    "train_n = 100\n",
    "lars_12 = Lars(n_nonzero_coefs=12)\n",
    "lars_12.fit(reg_data[:train_n], reg_target[:train_n])"
   ]
  },
  {
   "cell_type": "code",
   "execution_count": 13,
   "metadata": {
    "collapsed": false
   },
   "outputs": [
    {
     "data": {
      "text/plain": [
       "Lars(copy_X=True, eps=2.2204460492503131e-16, fit_intercept=True,\n",
       "   fit_path=True, n_nonzero_coefs=500, normalize=True, precompute='auto',\n",
       "   verbose=False)"
      ]
     },
     "execution_count": 13,
     "metadata": {},
     "output_type": "execute_result"
    }
   ],
   "source": [
    "lars_500 = Lars() #默认就是500\n",
    "lars_500.fit(reg_data[:train_n], reg_target[:train_n])"
   ]
  },
  {
   "cell_type": "markdown",
   "metadata": {},
   "source": [
    "现在，让我们看看拟合数据的效果如何，如下所示："
   ]
  },
  {
   "cell_type": "code",
   "execution_count": 19,
   "metadata": {
    "collapsed": false
   },
   "outputs": [
    {
     "data": {
      "text/plain": [
       "18.607806437043894"
      ]
     },
     "execution_count": 19,
     "metadata": {},
     "output_type": "execute_result"
    }
   ],
   "source": [
    "np.mean(np.power(reg_target[train_n:] - lars.predict(reg_data[train_n:]), 2))"
   ]
  },
  {
   "cell_type": "code",
   "execution_count": 18,
   "metadata": {
    "collapsed": false
   },
   "outputs": [
    {
     "data": {
      "text/plain": [
       "529.97993250189643"
      ]
     },
     "execution_count": 18,
     "metadata": {},
     "output_type": "execute_result"
    }
   ],
   "source": [
    "np.mean(np.power(reg_target[train_n:] - lars_12.predict(reg_data[train_n:]), 2))"
   ]
  },
  {
   "cell_type": "code",
   "execution_count": 17,
   "metadata": {
    "collapsed": false
   },
   "outputs": [
    {
     "data": {
      "text/plain": [
       "2.3236770314162846e+34"
      ]
     },
     "execution_count": 17,
     "metadata": {},
     "output_type": "execute_result"
    }
   ],
   "source": [
    "np.mean(np.power(reg_target[train_n:] - lars_500.predict(reg_data[train_n:]), 2))"
   ]
  },
  {
   "cell_type": "markdown",
   "metadata": {},
   "source": [
    "仔细看看这组结果；测试集的误差明显高很多。高维数据集问题就在于此；通常面对大量的特征时，想找出一个对训练集拟合很好的模型并不难，但是拟合过度却是更大的问题。"
   ]
  },
  {
   "cell_type": "markdown",
   "metadata": {},
   "source": [
    "## How it works..."
   ]
  },
  {
   "cell_type": "markdown",
   "metadata": {},
   "source": [
    "LARS通过重复选择与残存变化相关的特征。从图上看，相关性实际上就是特征与残差之间的最小角度；这就是LARS名称的由来。\n",
    "\n",
    "选择第一个特征之后，LARS会继续沿着最小角的方向移动，直到另一个特征与残差有同样数量的相关性。然后，LARS会沿着两个特征组合的角度移动。如下图所示："
   ]
  },
  {
   "cell_type": "code",
   "execution_count": 24,
   "metadata": {
    "collapsed": false
   },
   "outputs": [
    {
     "data": {
      "image/png": "[encoded data removed]",
      "text/plain": [
       "<matplotlib.figure.Figure at 0x84dc3c8>"
      ]
     },
     "metadata": {},
     "output_type": "display_data"
    }
   ],
   "source": [
    "%matplotlib inline\n",
    "import matplotlib.pyplot as plt\n",
    "def unit(*args):\n",
    "    squared = map(lambda x: x**2, args)\n",
    "    distance = sum(squared) ** (.5)\n",
    "    return map(lambda x: x / distance, args)\n",
    "\n",
    "f, ax = plt.subplots(nrows=3, figsize=(5, 10))\n",
    "plt.tight_layout()\n",
    "ax[0].set_ylim(0, 1.1)\n",
    "ax[0].set_xlim(0, 1.1)\n",
    "\n",
    "x, y = unit(1, 0.02)\n",
    "ax[0].arrow(0, 0, x, y, edgecolor='black', facecolor='black')\n",
    "ax[0].text(x + .05, y + .05, r\"$x_1$\")\n",
    "\n",
    "x, y = unit(.5, 1)\n",
    "ax[0].arrow(0, 0, x, y, edgecolor='black', facecolor='black')\n",
    "ax[0].text(x + .05, y + .05, r\"$x_2$\")\n",
    "\n",
    "x, y = unit(1, .45)\n",
    "ax[0].arrow(0, 0, x, y, edgecolor='black', facecolor='black')\n",
    "ax[0].text(x + .05, y + .05, r\"$y$\")\n",
    "\n",
    "ax[0].set_title(\"No steps\")\n",
    "\n",
    "#step 1\n",
    "ax[1].set_title(\"Step 1\")\n",
    "ax[1].set_ylim(0, 1.1)\n",
    "ax[1].set_xlim(0, 1.1)\n",
    "\n",
    "x, y = unit(1, 0.02)\n",
    "ax[1].arrow(0, 0, x, y, edgecolor='black', facecolor='black')\n",
    "ax[1].text(x + .05, y + .05, r\"$x_1$\")\n",
    "\n",
    "x, y = unit(.5, 1)\n",
    "ax[1].arrow(0, 0, x, y, edgecolor='black', facecolor='black')\n",
    "ax[1].text(x + .05, y + .05, r\"$x_2$\")\n",
    "\n",
    "x, y = unit(.5, 1)\n",
    "ax[1].arrow(.5, 0.01, x, y, ls='dashed', edgecolor='black', facecolor='black')\n",
    "ax[1].text(x + .5 + .05, y + .01 + .05, r\"$x_2$\")\n",
    "\n",
    "ax[1].arrow(0, 0, .47, .01, width=.0015, edgecolor='black', facecolor='black')\n",
    "ax[1].text(.47-.15, .01 + .03, \"Step 1\")\n",
    "\n",
    "x, y = unit(1, .45)\n",
    "ax[1].arrow(0, 0, x, y, edgecolor='black', facecolor='black')\n",
    "ax[1].text(x + .05, y + .05, r\"$y$\")\n",
    "\n",
    "#step 2\n",
    "ax[2].set_title(\"Step 2\")\n",
    "ax[2].set_ylim(0, 1.1)\n",
    "ax[2].set_xlim(0, 1.1)\n",
    "\n",
    "x, y = unit(1, 0.02)\n",
    "ax[2].arrow(0, 0, x, y, edgecolor='black', facecolor='black')\n",
    "ax[2].text(x + .05, y + .05, r\"$x_1$\")\n",
    "\n",
    "x, y = unit(.5, 1)\n",
    "ax[2].arrow(0, 0, x, y, edgecolor='black', facecolor='black')\n",
    "ax[2].text(x + .05, y + .05, r\"$x_2$\")\n",
    "\n",
    "x, y = unit(.5, 1)\n",
    "ax[2].arrow(.5, 0.01, x, y, ls='dashed', edgecolor='black', facecolor='black')\n",
    "ax[2].text(x + .5 + .05, y + .01 + .05, r\"$x_2$\")\n",
    "\n",
    "ax[2].arrow(0, 0, .47, .01, width=.0015, edgecolor='black', facecolor='black')\n",
    "ax[2].text(.47-.15, .01 + .03, \"Step 1\")\n",
    "\n",
    "## step 2\n",
    "x, y = unit(1, .45)\n",
    "ax[2].arrow(.5, .02, .4, .35, width=.0015, edgecolor='black', facecolor='black')\n",
    "ax[2].text(x, y - .1, \"Step 2\")\n",
    "\n",
    "x, y = unit(1, .45)\n",
    "ax[2].arrow(0, 0, x, y, edgecolor='black', facecolor='black')\n",
    "ax[2].text(x + .05, y + .05, r\"$y$\");"
   ]
  },
  {
   "cell_type": "markdown",
   "metadata": {},
   "source": [
    "具体过程是，我们把$x2$沿着$x1$方向移动到一个位置：$x1$与$y$的点积与$x1$与$y$的点积相同。到了这个位置之后，我们再沿着$x1$和$x2$夹角的一半的方向移动。"
   ]
  },
  {
   "cell_type": "markdown",
   "metadata": {},
   "source": [
    "## There's more..."
   ]
  },
  {
   "cell_type": "markdown",
   "metadata": {},
   "source": [
    "和我们前面用交叉检验来优化领回归模型一样，我们可以对LARS做交叉检验："
   ]
  },
  {
   "cell_type": "code",
   "execution_count": 9,
   "metadata": {
    "collapsed": false
   },
   "outputs": [
    {
     "name": "stderr",
     "output_type": "stream",
     "text": [
      "d:\\Miniconda3\\lib\\site-packages\\sklearn\\linear_model\\least_angle.py:285: ConvergenceWarning: Regressors in active set degenerate. Dropping a regressor, after 168 iterations, i.e. alpha=2.278e-02, with an active set of 132 regressors, and the smallest cholesky pivot element being 6.144e-08\n",
      "  ConvergenceWarning)\n",
      "d:\\Miniconda3\\lib\\site-packages\\sklearn\\linear_model\\least_angle.py:285: ConvergenceWarning: Regressors in active set degenerate. Dropping a regressor, after 168 iterations, i.e. alpha=2.105e-02, with an active set of 132 regressors, and the smallest cholesky pivot element being 9.771e-08\n",
      "  ConvergenceWarning)\n"
     ]
    },
    {
     "data": {
      "text/plain": [
       "LarsCV(copy_X=True, cv=None, eps=2.2204460492503131e-16, fit_intercept=True,\n",
       "    max_iter=500, max_n_alphas=1000, n_jobs=1, normalize=True,\n",
       "    precompute='auto', verbose=False)"
      ]
     },
     "execution_count": 9,
     "metadata": {},
     "output_type": "execute_result"
    }
   ],
   "source": [
    "from sklearn.linear_model import LarsCV\n",
    "lcv = LarsCV()\n",
    "lcv.fit(reg_data, reg_target)"
   ]
  },
  {
   "cell_type": "markdown",
   "metadata": {},
   "source": [
    "用交叉检验可以帮助我们确定需要使用的非零相关系数的最佳数量。验证如下所示："
   ]
  },
  {
   "cell_type": "code",
   "execution_count": 10,
   "metadata": {
    "collapsed": false
   },
   "outputs": [
    {
     "data": {
      "text/plain": [
       "43"
      ]
     },
     "execution_count": 10,
     "metadata": {},
     "output_type": "execute_result"
    }
   ],
   "source": [
    "np.sum(lcv.coef_ != 0)"
   ]
  },
  {
   "cell_type": "markdown",
   "metadata": {},
   "source": [
    "说实话，LARS的精髓还没有领会，抽空会把原文译出来，看各种解释不如看原文。"
   ]
  },
  {
   "cell_type": "markdown",
   "metadata": {},
   "source": [
    "[1] Efron, Bradley; Hastie, Trevor; Johnstone, Iain and Tibshirani, Robert(2004). \"[Least Angle Regression](https://www.google.com/url?sa=t&rct=j&q=&esrc=s&source=web&cd=1&cad=rja&uact=8&ved=0CB4QFjAAahUKEwjJ3I3ljbDHAhWJlYgKHU2iApA&url=http%3A%2F%2Fweb.stanford.edu%2F~hastie%2FPapers%2FLARS%2FLeastAngle_2002.pdf&ei=ItLRVcnDEImrogTNxIqACQ&usg=AFQjCNFDP4Zjp-cPndzpNhq_8WOwrrui7g&sig2=eNxVG-ZIjnsme93zOTFROw&bvm=bv.99804247,d.cGU)\". Annals of Statistics 32(2): pp. 407–499.doi:10.1214/009053604000000067. MR 2060166."
   ]
  }
 ],
 "metadata": {
  "kernelspec": {
   "display_name": "Python 3",
   "language": "python",
   "name": "python3"
  },
  "language_info": {
   "codemirror_mode": {
    "name": "ipython",
    "version": 3
   },
   "file_extension": ".py",
   "mimetype": "text/x-python",
   "name": "python",
   "nbconvert_exporter": "python",
   "pygments_lexer": "ipython3",
   "version": "3.4.3"
  }
 },
 "nbformat": 4,
 "nbformat_minor": 0
}
