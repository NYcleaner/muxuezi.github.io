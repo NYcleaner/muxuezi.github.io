{
 "metadata": {
  "name": "",
  "signature": "sha256:5abd2540498013177788d8f75c202eec93b8c91d03e9042ba48fe6935f6e0bf7"
 },
 "nbformat": 3,
 "nbformat_minor": 0,
 "worksheets": [
  {
   "cells": [
    {
     "cell_type": "heading",
     "level": 1,
     "metadata": {},
     "source": [
      "\u9891\u7387\u4e3b\u4e49\u4e0e\u8d1d\u53f6\u65af\u4e3b\u4e49 IV\uff1aPython\u7684\u8d1d\u53f6\u65af\u5de5\u5177"
     ]
    },
    {
     "cell_type": "markdown",
     "metadata": {},
     "source": [
      "*\u8fd9\u4e2anotebook\u51fa\u81ea[Pythonic Perambulations](http://jakevdp.github.io)\u7684[\u535a\u6587](http://jakevdp.github.io/blog/2014/06/14/frequentism-and-bayesianism-4-bayesian-in-python/)\u3002The content is BSD licensed.*"
     ]
    },
    {
     "cell_type": "markdown",
     "metadata": {},
     "source": [
      "*\u8fd9\u4e2a\u7cfb\u5217\u51714\u4e2a\u90e8\u5206\uff1a\u4e2d\u6587\u7248[Part I](http://muxuezi.github.io/posts/frequentism-and-bayesianism-chs)  [Part II](http://muxuezi.github.io/posts/frequentism-and-bayesianism-chs-ii)  [Part III](http://muxuezi.github.io/posts/frequentism-and-bayesianism-chs-iii)  [Part IV](http://muxuezi.github.io/posts/frequentism-and-bayesianism-chs-iv)\uff0c\u82f1\u6587\u7248[Part I](http://jakevdp.github.io/blog/2014/03/11/frequentism-and-bayesianism-a-practical-intro/)  [Part II](http://jakevdp.github.io/blog/2014/06/06/frequentism-and-bayesianism-2-when-results-differ/)  [Part III](http://jakevdp.github.io/blog/2014/06/12/frequentism-and-bayesianism-3-confidence-credibility/)  [Part IV](http://jakevdp.github.io/blog/2014/06/14/frequentism-and-bayesianism-4-bayesian-in-python/)*\n",
      "\n",
      "<!-- TEASER_END -->"
     ]
    },
    {
     "cell_type": "markdown",
     "metadata": {},
     "source": [
      "\u6211\u4e4b\u524d\u82b1\u4e86\u4e00\u5806\u65f6\u95f4\u6765\u5206\u4eab\u8fd9\u4e24\u79cd\u601d\u60f3\u3002\n",
      "\n",
      "- [\u9891\u7387\u4e3b\u4e49\u4e0e\u8d1d\u53f6\u65af\u4e3b\u4e49 I: \u5b9e\u7528\u4ecb\u7ecd](http://jakevdp.github.io/blog/2014/03/11/frequentism-and-bayesianism-a-practical-intro/) \uff0c\u8bba\u8ff0\u4e86\u9891\u7387\u4e3b\u4e49\u548c\u8d1d\u53f6\u65af\u4e3b\u4e49\u5728\u79d1\u5b66\u8ba1\u7b97\u65b9\u9762\u7684\u5dee\u5f02\uff0c\u5728\u7b80\u5355\u95ee\u9898\u7684\u5904\u7406\u65b9\u9762\u4e24\u8005\u57fa\u672c\u7b49\u4ef7\uff0c\u4f1a\u5f97\u5230\u76f8\u540c\u7684\u70b9\u4f30\u8ba1(point estimates)\u7ed3\u679c\u3002\n",
      "- [\u9891\u7387\u4e3b\u4e49 vs \u8d1d\u53f6\u65af\u4e3b\u4e49 II\uff1a\u5f53\u7ed3\u679c\u4e0d\u540c\u65f6](http://jakevdp.github.io/blog/2014/06/06/frequentism-and-bayesianism-2-when-results-differ/)\uff0c\u8fdb\u4e00\u6b65\u4ecb\u7ecd\u4e24\u8005\u7684\u5dee\u5f02\uff0c\u5c24\u5176\u662f\u5904\u7406\u5197\u4f59\u53c2\u6570\u65b9\u9762\u7684\u5dee\u5f02\u3002\n",
      "- [\u9891\u7387\u4e3b\u4e49 vs \u8d1d\u53f6\u65af\u4e3b\u4e49 III\uff1a\u7f6e\u4fe1\u4e0e\u53ef\u4fe1\uff0c\u9891\u7387\u4e3b\u4e49\u4e0e\u79d1\u5b66\uff0c\u4e0d\u80fd\u6df7\u4e3a\u4e00\u8c08](http://jakevdp.github.io/blog/2014/06/12/frequentism-and-bayesianism-3-confidence-credibility/)\uff0c\u4ecb\u7ecd\u4e86\u9891\u7387\u4e3b\u4e49\u7f6e\u4fe1\u533a\u95f4\u4e0e\u8d1d\u53f6\u65af\u4e3b\u4e49\u53ef\u4fe1\u8303\u56f4\u7684\u5dee\u5f02\uff0c\u6307\u51fa\u5728\u79d1\u5b66\u7814\u7a76\u4e2d\u9891\u7387\u4e3b\u4e49\u53ea\u4f1a\u56de\u7b54\u9519\u8bef\u7684\u95ee\u9898\u3002\n",
      "\n",
      "\u8fd9\u4e00\u7bc7\u6587\u7ae0\uff0c\u6211\u6253\u7b97\u6487\u5f00\u54ea\u4e9b\u4e89\u8bba\uff0c\u8c08\u8c08Python\u5b9e\u73b0\u8d1d\u53f6\u65af\u7814\u7a76\u7684\u5de5\u5177\u3002\n",
      "\u73b0\u4ee3\u8d1d\u53f6\u65af\u4e3b\u4e49\u7684\u6838\u5fc3\u662f[\u9a6c\u5c14\u53ef\u592b\u94fe\u8499\u7279\u5361\u7f57\u7b97\u6cd5\uff0cMCMC](http://en.wikipedia.org/wiki/Markov_chain_Monte_Carlo)\uff0c\u6837\u672c\u540e\u9a8c\u5206\u5e03(sample posterior distributions)\u7684\u9ad8\u6548\u7b97\u6cd5\u3002\n",
      "\n",
      "\u4e0b\u9762\u6211\u5c31\u7528Python\u7684\u4e09\u4e2a\u5305\u6765\u6f14\u793aMCMC:\n",
      "\n",
      "- [emcee](http://dan.iel.fm/emcee): the MCMC Hammer\n",
      "- [pymc](http://pymc-devs.github.io/pymc/): Bayesian Statistical Modeling in Python\n",
      "- [pystan](https://pystan.readthedocs.org/en/latest/): The Python Interface to Stan\n",
      "\n",
      "\u6211\u4e0d\u4f1a\u592a\u5173\u5fc3\u5b83\u4eec\u7684\u6027\u80fd\uff0c\u4e5f\u4e0d\u4f1a\u6bd4\u8f83\u5404\u81ea\u7684API\u3002\u8fd9\u7bc7\u6587\u7ae0\u4e5f\u4e0d\u662f\u6559\u7a0b\uff1b\u8fd9\u4e09\u4e2a\u5305\u90fd\u6709\u5f88\u5b8c\u6574\u7684\u6587\u6863\u548c\u6559\u7a0b\u3002\u6211\u8981\u505a\u7684\u662f\u6bd4\u8f83\u4e00\u4e0b\u4e09\u8005\u7684\u7528\u6cd5\u3002\u7528\u4e00\u4e2a\u76f8\u5bf9\u7b80\u5355\u7684\u4f8b\u5b50\uff0c\u6f14\u793a\u4e09\u4e2a\u5305\u7684\u89e3\u6cd5\uff0c\u5e0c\u671b\u5bf9\u4f60\u6709\u6240\u5e2e\u52a9\u3002"
     ]
    },
    {
     "cell_type": "heading",
     "level": 1,
     "metadata": {},
     "source": [
      "\u6d4b\u8bd5\u6848\u4f8b\uff1a\u7ebf\u6027\u62df\u5408\u6700\u4f18\u89e3"
     ]
    },
    {
     "cell_type": "markdown",
     "metadata": {},
     "source": [
      "\u4e3a\u4e86\u89e3\u51b3\u95ee\u9898\uff0c\u6211\u4eec\u505a\u4e00\u4e2a\u4e09\u53c2\u6570\u6a21\u578b\u6765\u627e\u6570\u636e\u7684\u7ebf\u6027\u62df\u5408\u89e3\u3002\u53c2\u6570\u662f\u659c\u7387\uff0c\u622a\u8ddd\u548c\u76f8\u5173\u6027(scatter about the line)\uff1b\u8fd9\u4e2a\u76f8\u5173\u6027\u53ef\u4ee5\u5f53\u4f5c\u5197\u4f59\u53c2\u6570"
     ]
    },
    {
     "cell_type": "heading",
     "level": 2,
     "metadata": {},
     "source": [
      "\u6570\u636e"
     ]
    },
    {
     "cell_type": "markdown",
     "metadata": {},
     "source": [
      "\u5148\u6765\u5b9a\u4e49\u4e00\u4e9b\u6570\u636e"
     ]
    },
    {
     "cell_type": "code",
     "collapsed": false,
     "input": [
      "%matplotlib inline\n",
      "import matplotlib.pyplot as plt\n",
      "import numpy as np\n",
      "\n",
      "np.random.seed(42)\n",
      "theta_true = (25, 0.5)\n",
      "xdata = 100 * np.random.random(20)\n",
      "ydata = theta_true[0] + theta_true[1] * xdata\n",
      "\n",
      "# add scatter to points\n",
      "xdata = np.random.normal(xdata, 10)\n",
      "ydata = np.random.normal(ydata, 10)"
     ],
     "language": "python",
     "metadata": {},
     "outputs": [],
     "prompt_number": 1
    },
    {
     "cell_type": "code",
     "collapsed": false,
     "input": [
      "plt.plot(xdata, ydata, 'ok')\n",
      "plt.xlabel('x')\n",
      "plt.ylabel('y');"
     ],
     "language": "python",
     "metadata": {},
     "outputs": [
      {
       "metadata": {},
       "output_type": "display_data",
       "png": "[encoded data removed]",
       "text": [
        "<matplotlib.figure.Figure at 0x7f6ea3fdf1d0>"
       ]
      }
     ],
     "prompt_number": 2
    },
    {
     "cell_type": "markdown",
     "metadata": {},
     "source": [
      "\u6570\u636e\u660e\u663e\u5177\u6709\u76f8\u5173\u6027\uff0c\u6211\u4eec\u5047\u8bbe\u6211\u4eec\u4e0d\u77e5\u9053\u8bef\u5dee\u3002\u8ba9\u6211\u4eec\u6784\u5efa\u4e00\u6761\u76f4\u7ebf\u6765\u62df\u5408\u3002"
     ]
    },
    {
     "cell_type": "heading",
     "level": 2,
     "metadata": {},
     "source": [
      "\u6a21\u578b\uff1a\u659c\u7387\uff0c\u622a\u8ddd\u548c\u672a\u77e5\u76f8\u5173\u7cfb\u6570"
     ]
    },
    {
     "cell_type": "markdown",
     "metadata": {},
     "source": [
      "\u7531\u8d1d\u53f6\u65af\u5b9a\u4e49\u53ef\u5f97\n",
      "\n",
      "$$\n",
      "P(\\theta~|~D) \\propto P(D~|~\\theta) P(\\theta)\n",
      "$$\n",
      "\n",
      "\u5176\u4e2d\uff0c$D$\u8868\u793a\u89c2\u5bdf\u6570\u636e\uff0c$\\theta$\u8868\u793a\u6a21\u578b"
     ]
    },
    {
     "cell_type": "markdown",
     "metadata": {},
     "source": [
      "\u5047\u8bbe\u7ebf\u6027\u6a21\u578b\u6709\u659c\u7387$\\beta$\uff0cy\u8f74\u622a\u8ddd$\\alpha$\uff1a\n",
      "\n",
      "$$\n",
      "\\hat{y}(x_i~|~\\alpha,\\beta) = \\alpha + \\beta x_i\n",
      "$$\n",
      "\n",
      "\u5047\u8bbey\u8f74\u5750\u6807\u5177\u6709\u6b63\u6001\u5206\u5e03\u8bef\u5dee\uff0c \u90a3\u4e48\u6a21\u578b\u4e0b\u7684\u4efb\u4f55\u6570\u636e\u70b9\u7684\u6982\u7387\u4e3a\uff1a\n",
      "\n",
      "$$\n",
      "P(x_i, y_i~|~\\alpha, \\beta, \\sigma) = \\frac{1}{\\sqrt{2\\pi\\sigma^2}} \\exp\\left[\\frac{-[y_i - \\hat{y}(x_i~|~\\alpha, \\beta)]^2}{2\\sigma^2}\\right]\n",
      "$$\n",
      "\n",
      "\u5176\u4e2d\uff0c$\\sigma$\u662f\u672a\u77e5\u6d4b\u91cf\u8bef\u5dee\uff0c\u4e3a\u5197\u4f59\u53c2\u6570\u3002\n",
      "\n",
      "\u6240\u4ee5$i$\u7684\u4f3c\u7136\u4f30\u8ba1\u7684\u4e58\u79ef\u4e3a\uff1a\n",
      "\n",
      "$$\n",
      "P(\\{x_i\\}, \\{y_i\\}~|~\\alpha, \\beta, \\sigma) \\propto (2\\pi\\sigma^2)^{-N/2} \\exp\\left[- \\frac{1}{2\\sigma^2} \\sum_{i-1}^N [y_i - \\hat{y}(x_i~|~\\alpha,\\beta)]^2\\right]\n",
      "$$"
     ]
    },
    {
     "cell_type": "heading",
     "level": 2,
     "metadata": {},
     "source": [
      "\u5148\u9a8c\u6761\u4ef6"
     ]
    },
    {
     "cell_type": "markdown",
     "metadata": {},
     "source": [
      "\u8fd9\u91cc\u6211\u4eec\u6bd4\u4e4b\u524d\u7684\u66f4\u4ed4\u7ec6\u5730\u9009\u62e9\u5148\u9a8c\u6761\u4ef6\u3002\u6211\u4eec\u53ef\u4ee5\u7b80\u5355\u7684\u8ba4\u4e3a$\\alpha$\uff0c$\\beta$\uff0c\u548c$\\sigma$\u90fd\u662fflat priors(\u6241\u5e73\u5148\u9a8c)\uff0c\u4f46\u662f\u6211\u4eec\u5fc5\u987b\u8bb0\u4f4f**\u6241\u5e73\u5148\u9a8c\u5e76\u975e\u90fd\u65e0\u4fe1\u606f\u5148\u9a8c(uninformative priors)!**Jeffreys\u5148\u9a8c\u53ef\u80fd\u662f\u66f4\u597d\u7684\u9009\u62e9\uff0c\u7528\u5bf9\u79f0\u7684\u6700\u5927\u71b5(symmetry and/or maximum entropy)\u6765\u9009\u62e9\u6700\u5927\u5316\u7684\u65e0\u4fe1\u606f\u5148\u9a8c(maximally noninformative priors)\u3002\u867d\u7136\u8fd9\u79cd\u505a\u6cd5\u88ab\u9891\u7387\u8bba\u8ba4\u4e3a\u592a\u4e3b\u89c2\uff0c\u4f46\u662f\u8fd9\u4e48\u505a\u662f\u53ef\u4ee5\u4ece\u4fe1\u606f\u7406\u8bba\u4e2d\u627e\u5230\u7406\u8bba\u4f9d\u636e\u7684\u3002\n",
      "\n",
      "\u4e3a\u4ec0\u4e48flat prior\u53ef\u80fd\u4ea7\u751f\u574f\u7684\u9009\u62e9\uff1f\u770b\u770b\u659c\u7387\u5c31\u660e\u767d\u4e86\u3002\u8ba9\u6211\u4eec\u6765\u6f14\u793a\u4e00\u4e0b\u659c\u7387\u4ece0-10\u7684\u76f4\u7ebf\u53d8\u5316\u60c5\u51b5\uff1b"
     ]
    },
    {
     "cell_type": "code",
     "collapsed": false,
     "input": [
      "fig, ax = plt.subplots(subplot_kw=dict(aspect='equal'))\n",
      "x = np.linspace(-1, 1)\n",
      "\n",
      "for slope in np.arange(0, 10, 0.1):\n",
      "    plt.plot(x, slope * x, '-k')\n",
      "\n",
      "ax.axis([-1, 1, -1, 1], aspect='equal');"
     ],
     "language": "python",
     "metadata": {},
     "outputs": [
      {
       "metadata": {},
       "output_type": "display_data",
       "png": "[encoded data removed]",
       "text": [
        "<matplotlib.figure.Figure at 0x7f6e97103a10>"
       ]
      }
     ],
     "prompt_number": 3
    },
    {
     "cell_type": "markdown",
     "metadata": {},
     "source": [
      "\u8fd9\u4e9b\u7ebf\u63090.1\u7684\u659c\u7387\u95f4\u9694\u8fdb\u884c\u5206\u5e03\uff0c\u9ad8\u659c\u7387\u533a\u57df\u7684\u7ebf\u5341\u5206\u5bc6\u96c6\u3002\u56e0\u4e3a\u662f\u6241\u5e73\u5148\u9a8c\uff0c\u4f60\u80af\u5b9a\u4f1a\u8ba4\u4e3a\u8fd9\u4e9b\u659c\u7387\u5f7c\u6b64\u65e0\u5dee\u5f02\u3002\u7531\u4e0a\u9762\u7684\u5bc6\u96c6\u533a\u57df\u663e\u7136\u53ef\u4ee5\u770b\u51fa\uff0c\u659c\u7387\u7684\u6241\u5e73\u5148\u9a8c\u6ee1\u8db3\u90a3\u4e9b\u5f88\u9661\u7684\u659c\u7387\u3002\u659c\u7387\u7684\u6241\u5e73\u5148\u9a8c\u4e0d\u662f\u4e00\u4e2a\u6700\u5c0f\u5316\u7684\u65e0\u4fe1\u606f\u5148\u9a8c(minimally informative prior)\uff0c\u53ef\u80fd\u662f\u6700\u7ec8\u4f7f\u4f60\u7684\u7ed3\u679c\u6709\u504f\u5dee(\u5c3d\u7ba1\u6709\u8db3\u591f\u591a\u7684\u6570\u636e\uff0c\u7ed3\u679c\u53ef\u80fd\u51e0\u4e4e\u662f0)\u3002\n",
      "\n",
      "\u4f60\u53ef\u80fd\u60f3\u52a8\u624b\u505a\u51fa\u4e00\u4e2a\u66f4\u597d\u7684\u65b9\u6848(\u53ef\u80fd\u5728\u76f4\u7ebf\u4e0ex\u8f74\u7684\u5939\u89d2$\\theta$\u4e0a\u7528\u6241\u5e73\u5148\u9a8c)\uff0c\u4f46\u662f\u6211\u4eec\u6709\u66f4\u4e25\u8c28\u7684\u65b9\u6848\u3002\u8fd9\u4e2a\u95ee\u9898\u5728\u8d1d\u53f6\u65af\u6587\u732e\u4e2d\u5df2\u7ecf\u6709\u4e86\u7b54\u6848\uff1b\u6211\u627e\u5230\u7684\u6700\u4f73\u65b9\u6848\u6765\u81eaJaynes\u7684\u8bba\u6587*\u76f4\u7ebf\u62df\u5408\uff1a\u8d1d\u53f6\u65af\u65b9\u6cd5(Straight Line Fitting: A Bayesian Solution)* [(pdf)](http://exordio.qfb.umich.mx/archivos%20pdf%20de%20trabajo%20umsnh/aphilosofia/bayesian%20importantes/leapz.pdf)"
     ]
    },
    {
     "cell_type": "heading",
     "level": 3,
     "metadata": {},
     "source": [
      "\u659c\u7387\u548c\u622a\u8ddd\u7684\u5148\u9a8c"
     ]
    },
    {
     "cell_type": "markdown",
     "metadata": {},
     "source": [
      "\u5047\u8bbe\u6a21\u578b\u4e3a\n",
      "\n",
      "$$\n",
      "y = \\alpha + \\beta x\n",
      "$$\n",
      "\n",
      "\u90a3\u4e48\u6784\u5efa\u53c2\u6570\u7a7a\u95f4(parameter-space)\uff0c\u5176\u6982\u7387\u5143\u7d20\u4e3a$P(\\alpha, \\beta) ~d\\alpha ~d\\beta$\n",
      "\n",
      "\u56e0\u4e3a$x$\u548c$y$\u662f\u5bf9\u79f0\u7684\uff0c\u6211\u4eec\u5c31\u53ef\u4ee5\u8fdb\u884c\u53c2\u6570\u4ea4\u4e92\n",
      "\n",
      "$$\n",
      "x = \\alpha^\\prime + \\beta^\\prime y\n",
      "$$\n",
      "\n",
      "\u5176\u6982\u7387\u5143\u7d20\u4e3a$Q(\\alpha^\\prime, \\beta^\\prime)d\\alpha^\\prime d\\beta^\\prime$\uff0c\u7531\u6b64\u53ef\u5f97\n",
      "\n",
      "$$\n",
      "(\\alpha^\\prime,~\\beta^\\prime) = (- \\beta^{-1}\\alpha,~\\beta^{-1}).\n",
      "$$\n",
      "\n",
      "\u901a\u8fc7\u96c5\u53ef\u6bd4\u53d8\u6362(the Jacobian of the transformation)\uff0c\u53ef\u5f97\n",
      "\n",
      "$$\n",
      "Q(\\alpha^\\prime, \\beta^\\prime) = \\beta^3 P(\\alpha, \\beta).\n",
      "$$\n",
      "\n",
      "\u4e3a\u4e86\u4fdd\u6301\u5bf9\u79f0\u6027\uff0c\u9700\u8981\u4fdd\u8bc1\u53d8\u91cf\u7684\u6539\u53d8\u4e0d\u4f1a\u5f71\u54cd\u5148\u9a8c\u6982\u7387\uff0c\u56e0\u6b64\u6709\uff1a\n",
      "\n",
      "$$\n",
      "\\beta^3 P(\\alpha, \\beta) = P(- \\beta^{-1}\\alpha, \\beta^{-1}).\n",
      "$$\n",
      "\n",
      "\u6b64\u51fd\u6570\u6ee1\u8db3\uff1a\n",
      "\n",
      "$$\n",
      "P(\\alpha, \\beta) \\propto (1 + \\beta^2)^{-3/2}.\n",
      "$$\n",
      "\n",
      "\u5373$\\alpha$\u670d\u4ece\u5747\u5300\u5206\u5e03\uff0c$\\beta$\u670d\u4ece\u53c2\u6570\u4e3a$\\sin\\theta$\u7684\u5747\u5300\u5206\u5e03\uff0c\u5176\u4e2d\uff0c$\\theta = \\tan^{-1}\\beta$\u3002\n",
      "\n",
      "\u4f60\u53ef\u80fd\u4f1a\u5947\u602a\uff0c\u659c\u7387\u7684\u5206\u5e03\u670d\u4ece\u53c2\u6570\u4e3a$\\sin\\theta$\u7684\u5747\u5300\u5206\u5e03\uff0c\u800c\u975e$\\theta$\u3002$\\sin\\theta$\u53ef\u4ee5\u88ab\u8ba4\u4e3a\u662f\u6e90\u81ea\u622a\u8ddd\u3002\u5982\u679c\u628a\u53d8\u91cf$\\alpha$\u6539\u4e3a$\\alpha_\\perp = \\alpha\\cos\\theta$\uff0c\u90a3\u4e48\u5747\u5300\u5206\u5e03\u5c31\u53d8\u4e3a$(\\alpha_\\perp,~\\theta)$\u3002\u5728\u7528PyStan\u6c42\u89e3\u65f6\u6211\u4eec\u4f1a\u7528\u8fd9\u4e2a\u3002"
     ]
    },
    {
     "cell_type": "heading",
     "level": 3,
     "metadata": {},
     "source": [
      "$\\sigma$\u7684\u5148\u9a8c"
     ]
    },
    {
     "cell_type": "markdown",
     "metadata": {},
     "source": [
      "\u540c\u7406\uff0c\u6211\u4eec\u5e0c\u671b$\\sigma$\u7684\u5148\u9a8c\u4e0e\u95ee\u9898\u7684\u89c4\u6a21\u53d8\u5316\u65e0\u5173(\u5982\uff0c\u6539\u53d8\u70b9\u7684\u6570\u636e)\u3002\u56e0\u6b64\u5176\u6982\u7387\u5fc5\u987b\u6ee1\u8db3\n",
      "\n",
      "$$\n",
      "P(\\sigma)d\\sigma = P(\\sigma / c)d\\sigma / c.\n",
      "$$\n",
      "\n",
      "\u65b9\u7a0b\u7b49\u4ef7\u4e8e\n",
      "\n",
      "$$\n",
      "P(\\sigma) \\propto 1 / \\sigma.\n",
      "$$\n",
      "\n",
      "\u8fd9\u5c31\u662fHarold Jeffreys\u63d0\u51fa\u7684[Jeffreys\u5148\u9a8c](http://en.wikipedia.org/wiki/Jeffreys_prior)\u3002"
     ]
    },
    {
     "cell_type": "heading",
     "level": 3,
     "metadata": {},
     "source": [
      "\u628a\u5148\u9a8c\u653e\u4e00\u8d77"
     ]
    },
    {
     "cell_type": "markdown",
     "metadata": {},
     "source": [
      "\u628a\u5b83\u4eec\u653e\u5230\u4e00\u8d77\uff0c\u6211\u4eec\u7528\u8fd9\u4e9b\u5bf9\u79f0\u6027\u53c2\u6570\u63a8\u5bfc\u51fa\u6a21\u578b\u7684\u6700\u5c0f\u65e0\u4fe1\u606f\u5148\u9a8c\uff1a\n",
      "\n",
      "$$\n",
      "P(\\alpha, \\beta, \\sigma) \\propto \\frac{1}{\\sigma}(1 + \\beta^2)^{-3/2}\n",
      "$$\n",
      "\n",
      "\u7efc\u4e0a\u6240\u8ff0\uff0c\u4f60\u53ef\u80fd\u7528\u6241\u5e73\u5148\u9a8c\u505a\u53c2\u6570\u53d8\u6362$(\\alpha, \\beta, \\sigma) \\to (\\alpha_\\perp, \\theta, \\log\\sigma)$\uff0c\u6765\u89e3\u51b3\u8fd9\u4e2a\u95ee\u9898\uff0c\n",
      "\u4f46\u6211\u8ba4\u4e3a\u5bf9\u79f0/\u6700\u5927\u71b5(symmetry/maximum entropy)\u65b9\u6cd5\u66f4\u7b80\u6d01\u660e\u4e86\u2014\u2014\u800c\u4e14\u8ba9\u6211\u4eec\u80fd\u770b\u5230\u4e09\u4e2aPython\u5305\u6f14\u793a\u8fd9\u4e2a\u5148\u9a8c\u7684\u5185\u6db5\u3002"
     ]
    },
    {
     "cell_type": "heading",
     "level": 1,
     "metadata": {},
     "source": [
      "\u7528Python\u89e3\u51b3\u95ee\u9898"
     ]
    },
    {
     "cell_type": "markdown",
     "metadata": {},
     "source": [
      "\u73b0\u5728\u6709\u4e86\u6570\u636e\uff0c\u4f3c\u7136\u4f30\u8ba1\u548c\u5148\u9a8c\uff0c\u8ba9\u6211\u4eec\u7528Python\u7684emcee\uff0cPyMC\u548cPyStan\u6765\u6f14\u793a\u3002\u9996\u5148\uff0c\u8ba9\u6211\u4eec\u505a\u4e00\u4e9b\u8f85\u52a9\u5de5\u4f5c\u6765\u53ef\u89c6\u5316\u6570\u636e\uff1a"
     ]
    },
    {
     "cell_type": "code",
     "collapsed": false,
     "input": [
      "# Create some convenience routines for plotting\n",
      "\n",
      "def compute_sigma_level(trace1, trace2, nbins=20):\n",
      "    \"\"\"From a set of traces, bin by number of standard deviations\"\"\"\n",
      "    L, xbins, ybins = np.histogram2d(trace1, trace2, nbins)\n",
      "    L[L == 0] = 1E-16\n",
      "    logL = np.log(L)\n",
      "\n",
      "    shape = L.shape\n",
      "    L = L.ravel()\n",
      "\n",
      "    # obtain the indices to sort and unsort the flattened array\n",
      "    i_sort = np.argsort(L)[::-1]\n",
      "    i_unsort = np.argsort(i_sort)\n",
      "\n",
      "    L_cumsum = L[i_sort].cumsum()\n",
      "    L_cumsum /= L_cumsum[-1]\n",
      "    \n",
      "    xbins = 0.5 * (xbins[1:] + xbins[:-1])\n",
      "    ybins = 0.5 * (ybins[1:] + ybins[:-1])\n",
      "\n",
      "    return xbins, ybins, L_cumsum[i_unsort].reshape(shape)\n",
      "\n",
      "\n",
      "def plot_MCMC_trace(ax, xdata, ydata, trace, scatter=False, **kwargs):\n",
      "    \"\"\"Plot traces and contours\"\"\"\n",
      "    xbins, ybins, sigma = compute_sigma_level(trace[0], trace[1])\n",
      "    ax.contour(xbins, ybins, sigma.T, levels=[0.683, 0.955], **kwargs)\n",
      "    if scatter:\n",
      "        ax.plot(trace[0], trace[1], ',k', alpha=0.1)\n",
      "    ax.set_xlabel(r'$\\alpha$')\n",
      "    ax.set_ylabel(r'$\\beta$')\n",
      "    \n",
      "    \n",
      "def plot_MCMC_model(ax, xdata, ydata, trace):\n",
      "    \"\"\"Plot the linear model and 2sigma contours\"\"\"\n",
      "    ax.plot(xdata, ydata, 'ok')\n",
      "\n",
      "    alpha, beta = trace[:2]\n",
      "    xfit = np.linspace(-20, 120, 10)\n",
      "    yfit = alpha[:, None] + beta[:, None] * xfit\n",
      "    mu = yfit.mean(0)\n",
      "    sig = 2 * yfit.std(0)\n",
      "\n",
      "    ax.plot(xfit, mu, '-k')\n",
      "    ax.fill_between(xfit, mu - sig, mu + sig, color='lightgray')\n",
      "\n",
      "    ax.set_xlabel('x')\n",
      "    ax.set_ylabel('y')\n",
      "\n",
      "\n",
      "def plot_MCMC_results(xdata, ydata, trace, colors='k'):\n",
      "    \"\"\"Plot both the trace and the model together\"\"\"\n",
      "    fig, ax = plt.subplots(1, 2, figsize=(10, 4))\n",
      "    plot_MCMC_trace(ax[0], xdata, ydata, trace, True, colors=colors)\n",
      "    plot_MCMC_model(ax[1], xdata, ydata, trace)"
     ],
     "language": "python",
     "metadata": {},
     "outputs": [],
     "prompt_number": 4
    },
    {
     "cell_type": "markdown",
     "metadata": {},
     "source": [
      "\u4e0b\u9762\uff0c\u5c31\u8ba9\u6211\u4eec\u6765\u89e3\u51b3MCMC\u3002"
     ]
    },
    {
     "cell_type": "heading",
     "level": 1,
     "metadata": {},
     "source": [
      "Emcee"
     ]
    },
    {
     "cell_type": "markdown",
     "metadata": {},
     "source": [
      "[emcee](http://dan.iel.fm/emcee/current/)(\u5c31\u662fPython\u5386\u53f2\u4e0a\u8457\u540d\u7684MCMC Hammer)\u662f\u5929\u6587\u5b66\u5bb6[Dan Foreman-Mackey](http://dan.iel.fm/)\u5199\u7684\u7eafPython\u5305\u3002\u8fd9\u4e2a\u7b80\u6d01\u7684\u5305\u5b9e\u73b0\u4e86\u590d\u6742\u7684\u4eff\u5c04\u65e0\u5173\u54c8\u5bc6\u987f(Affine-invariant Hamiltonian)MCMC\u3002\u56e0\u4e3a\u662f\u7eafPython\uff0c\u6240\u4ee5\u5305\u5f88\u5bb9\u6613\u5b89\u88c5\uff1a\n",
      "\n",
      "```\n",
      "[~]$ pip install emcee\n",
      "```\n",
      "Emcee\u6ca1\u6709\u5f88\u591a\u5f15\u7528\u4ee3\u7801\uff1b\u53ea\u8981\u4f20\u5165Python\u51fd\u6570\u5c31\u4f1a\u8fd4\u56de\u4e0e\u5bf9\u6570\u540e\u9a8c\u6982\u7387\u5339\u914d\u7684\u503c\u548c\u540e\u9a8c\u6837\u672c\u3002\u4e0b\u9762\u7528``emcee``\u6f14\u793a\u4e00\u4e0b\uff1a"
     ]
    },
    {
     "cell_type": "code",
     "collapsed": false,
     "input": [
      "import emcee\n",
      "print(emcee.__version__)"
     ],
     "language": "python",
     "metadata": {},
     "outputs": [
      {
       "output_type": "stream",
       "stream": "stdout",
       "text": [
        "2.1.0\n"
       ]
      }
     ],
     "prompt_number": 5
    },
    {
     "cell_type": "code",
     "collapsed": false,
     "input": [
      "# Define our posterior using Python functions\n",
      "# for clarity, I've separated-out the prior and likelihood\n",
      "# but this is not necessary. Note that emcee requires log-posterior\n",
      "\n",
      "# \u7528Python\u51fd\u6570\u5b9a\u4e49\u540e\u9a8c\uff0c\u6211\u628a\u5148\u9a8c\u548c\u4f3c\u7136\u4f30\u8ba1\u5206\u5f00\u5199\u4e86\uff0c\u5176\u5b9e\u6ca1\u5fc5\u8981\uff0c\u4e3b\u8981\u662f\u663e\u5f97\u66f4\u7b80\u6d01\u3002\n",
      "# \u6ce8\u610femcee\u9700\u8981\u5bf9\u6570\u540e\u9a8c\u8bc1\n",
      "\n",
      "def log_prior(theta):\n",
      "    alpha, beta, sigma = theta\n",
      "    if sigma < 0:\n",
      "        return -np.inf  # log(0)\n",
      "    else:\n",
      "        return -1.5 * np.log(1 + beta ** 2) - np.log(sigma)\n",
      "\n",
      "def log_likelihood(theta, x, y):\n",
      "    alpha, beta, sigma = theta\n",
      "    y_model = alpha + beta * x\n",
      "    return -0.5 * np.sum(np.log(2 * np.pi * sigma ** 2) + (y - y_model) ** 2 / sigma ** 2)\n",
      "\n",
      "def log_posterior(theta, x, y):\n",
      "    return log_prior(theta) + log_likelihood(theta, x, y)"
     ],
     "language": "python",
     "metadata": {},
     "outputs": [],
     "prompt_number": 6
    },
    {
     "cell_type": "code",
     "collapsed": false,
     "input": [
      "# Here we'll set up the computation. emcee combines multiple \"walkers\",\n",
      "# each of which is its own MCMC chain. The number of trace results will\n",
      "# be nwalkers * nsteps\n",
      "\n",
      "# \u8bbe\u7f6e\u8ba1\u7b97\u53c2\u6570\u3002emcee\u7ec4\u5408\u4e86\u591a\u4e2a\"walkers\"\uff0c\u6bcf\u4e2a\u90fd\u6709\u81ea\u5df1\u7684MCMC\u94fe\u3002\n",
      "# \u8ddf\u8e2a\u7ed3\u679c\u7684\u6570\u91cf\u4e3anwalkers * nsteps\n",
      "\n",
      "ndim = 3  # number of parameters in the model\n",
      "nwalkers = 50  # number of MCMC walkers\n",
      "nburn = 1000  # \"burn-in\" period to let chains stabilize\n",
      "nsteps = 2000  # number of MCMC steps to take\n",
      "\n",
      "# set theta near the maximum likelihood, with \n",
      "np.random.seed(0)\n",
      "starting_guesses = np.random.random((nwalkers, ndim))"
     ],
     "language": "python",
     "metadata": {},
     "outputs": [],
     "prompt_number": 7
    },
    {
     "cell_type": "code",
     "collapsed": false,
     "input": [
      "# Here's the function call where all the work happens:\n",
      "# we'll time it using IPython's %time magic\n",
      "\n",
      "# \u8fd9\u5c31\u662f\u6240\u6709\u8c03\u7528\u5185\u5bb9\u3002\n",
      "# \u8fd9\u91cc\u7528IPythn\u7684%time\u65b9\u6cd5\u8ba1\u65f6\u3002\n",
      "\n",
      "sampler = emcee.EnsembleSampler(nwalkers, ndim, log_posterior, args=[xdata, ydata])\n",
      "%time sampler.run_mcmc(starting_guesses, nsteps)\n",
      "print(\"done\")"
     ],
     "language": "python",
     "metadata": {},
     "outputs": [
      {
       "output_type": "stream",
       "stream": "stdout",
       "text": [
        "CPU times: user 4.38 s, sys: 1.09 ms, total: 4.38 s\n",
        "Wall time: 4.38 s\n",
        "done\n"
       ]
      }
     ],
     "prompt_number": 8
    },
    {
     "cell_type": "code",
     "collapsed": false,
     "input": [
      "# sampler.chain is of shape (nwalkers, nsteps, ndim)\n",
      "# we'll throw-out the burn-in points and reshape:\n",
      "\n",
      "# sampler.chain\u8fd4\u56de\u6570\u7ec4\u7ef4\u5ea6\u4e3a(nwalkers, nsteps, ndim)\n",
      "\n",
      "sampler.chain\n",
      "emcee_trace = sampler.chain[:, nburn:, :].reshape(-1, ndim).T\n",
      "plot_MCMC_results(xdata, ydata, emcee_trace)"
     ],
     "language": "python",
     "metadata": {},
     "outputs": [
      {
       "metadata": {},
       "output_type": "display_data",
       "png": "[encoded data removed]",
       "text": [
        "<matplotlib.figure.Figure at 0x7f6e971e1c90>"
       ]
      }
     ],
     "prompt_number": 9
    },
    {
     "cell_type": "markdown",
     "metadata": {},
     "source": [
      "\u5de6\u56fe\uff0c\u6211\u4eec\u6f14\u793a\u4e86\u7531\u5197\u4f59\u53c2\u6570$\\sigma$\u8fb9\u7f18\u5316\u540e\u7684\u8ddf\u8e2a\u7ed3\u679c\u3002\u5728\u53f3\u4fa7\u663e\u793a\u4e862-$\\sigma$\u6700\u4f73\u62df\u5408\u7684\u4e0d\u786e\u5b9a\u533a\u57df\u3002\u8fd9\u5c31\u662f\u6211\u4eec\u4eceMCMC\u5f97\u5230\u7684\u7ed3\u679c\uff1a\u8fb9\u7f18\u5316\u7684\u4e0d\u786e\u5b9a\u8f6e\u5ed3\u63d0\u4f9b\u4e86\u4e00\u4e2a\u5f88\u597d\u7684\u62df\u5408\u7ed3\u679c\u3002"
     ]
    },
    {
     "cell_type": "heading",
     "level": 1,
     "metadata": {},
     "source": [
      "PyMC"
     ]
    },
    {
     "cell_type": "markdown",
     "metadata": {},
     "source": [
      "[PyMC](http://pymc-devs.github.io/pymc/)\u5305\u6bd4emcee\u6709\u66f4\u591a\u7684\u7279\u5f81\uff0c\u6709\u6548\u7684\u652f\u6301\u8bb8\u591a\u4e3b\u6d41\u5148\u9a8c\u5206\u5e03\u3002\n",
      "PyMC\u9ed8\u8ba4\u4f7f\u7528\u7ecf\u5178\u7684[Metropolis-Hastings](http://en.wikipedia.org/wiki/Metropolis%E2%80%93Hastings_algorithm)\u53d6\u6837\u5668\uff0c\u6700\u65e9\u7684MCMC\u7b97\u6cd5\u3002\u6027\u80fd\u65b9\u9762\uff0c\u4f7f\u7528\u4e86Fortran\u5e93\uff0c\u56e0\u6b64\u7528pip\u5b89\u88c5\u5c31\u6709\u70b9\u590d\u6742\u3002\u5148\u5b89\u88c5Fortran\u7f16\u8bd1\u5668\uff0c``pip install pymc``\u53ef\u4ee5\u4e86\u3002\u5982\u679c\u6ca1\u88c5Fortran\u7f16\u8bd1\u5668\uff0c\u53ef\u4ee5\u901a\u8fc7[conda](https://conda.binstar.org/pymc)\u5b89\u88c5\u3002\n",
      "\n",
      "\u636e\u8bf4[PyMC\u7b2c\u4e09\u7248](https://github.com/pymc-devs/pymc)\u8981\u79fb\u9664Fortran\u4f9d\u8d56\uff0c\u5b89\u88c5\u5c31\u5bb9\u6613\u4e86\u3002\u800c\u4e14PyMC 3\u7684API\u66f4\u7b80\u6d01\uff0c\u6027\u80fd\u66f4\u597d\u3002\u4f46\u662f\u76ee\u524d\u4ecd\u662falpha\u7248\u672c\uff0c\u6240\u4ee5\u73b0\u5728\u7528\u5c31\u7248\u672c\uff1a"
     ]
    },
    {
     "cell_type": "code",
     "collapsed": false,
     "input": [
      "import pymc\n",
      "print(pymc.__version__)"
     ],
     "language": "python",
     "metadata": {},
     "outputs": [
      {
       "output_type": "stream",
       "stream": "stdout",
       "text": [
        "2.3.3\n"
       ]
      }
     ],
     "prompt_number": 10
    },
    {
     "cell_type": "code",
     "collapsed": false,
     "input": [
      "# Define the variables needed for the routine, with their prior distributions\n",
      "alpha = pymc.Uniform('alpha', -100, 100)\n",
      "\n",
      "@pymc.stochastic(observed=False)\n",
      "def beta(value=0):\n",
      "    return -1.5 * np.log(1 + value ** 2)\n",
      "\n",
      "@pymc.stochastic(observed=False)\n",
      "def sigma(value=1):\n",
      "    return -np.log(abs(value))\n",
      "\n",
      "# Define the form of the model and likelihood\n",
      "@pymc.deterministic\n",
      "def y_model(x=xdata, alpha=alpha, beta=beta):\n",
      "    return alpha + beta * x\n",
      "\n",
      "y = pymc.Normal('y', mu=y_model, tau=1. / sigma ** 2, observed=True, value=ydata)\n",
      "\n",
      "# package the full model in a dictionary\n",
      "model1 = dict(alpha=alpha, beta=beta, sigma=sigma,\n",
      "              y_model=y_model, y=y)"
     ],
     "language": "python",
     "metadata": {},
     "outputs": [],
     "prompt_number": 11
    },
    {
     "cell_type": "code",
     "collapsed": false,
     "input": [
      "# run the basic MCMC: we'll do 100000 iterations to match emcee above\n",
      "S = pymc.MCMC(model1)\n",
      "S.sample(iter=100000, burn=50000)"
     ],
     "language": "python",
     "metadata": {},
     "outputs": [
      {
       "output_type": "stream",
       "stream": "stdout",
       "text": [
        "\r",
        " [                  0%                  ] 494 of 100000 complete in 0.5 sec"
       ]
      },
      {
       "output_type": "stream",
       "stream": "stdout",
       "text": [
        "\r",
        " [                  1%                  ] 1020 of 100000 complete in 1.0 sec"
       ]
      },
      {
       "output_type": "stream",
       "stream": "stdout",
       "text": [
        "\r",
        " [                  1%                  ] 1543 of 100000 complete in 1.5 sec"
       ]
      },
      {
       "output_type": "stream",
       "stream": "stdout",
       "text": [
        "\r",
        " [                  2%                  ] 2103 of 100000 complete in 2.0 sec"
       ]
      },
      {
       "output_type": "stream",
       "stream": "stdout",
       "text": [
        "\r",
        " [-                 2%                  ] 2966 of 100000 complete in 2.5 sec"
       ]
      },
      {
       "output_type": "stream",
       "stream": "stdout",
       "text": [
        "\r",
        " [-                 3%                  ] 3875 of 100000 complete in 3.0 sec"
       ]
      },
      {
       "output_type": "stream",
       "stream": "stdout",
       "text": [
        "\r",
        " [-                 4%                  ] 4766 of 100000 complete in 3.5 sec"
       ]
      },
      {
       "output_type": "stream",
       "stream": "stdout",
       "text": [
        "\r",
        " [--                5%                  ] 5596 of 100000 complete in 4.0 sec"
       ]
      },
      {
       "output_type": "stream",
       "stream": "stdout",
       "text": [
        "\r",
        " [--                6%                  ] 6402 of 100000 complete in 4.5 sec"
       ]
      },
      {
       "output_type": "stream",
       "stream": "stdout",
       "text": [
        "\r",
        " [--                7%                  ] 7222 of 100000 complete in 5.0 sec"
       ]
      },
      {
       "output_type": "stream",
       "stream": "stdout",
       "text": [
        "\r",
        " [---               8%                  ] 8147 of 100000 complete in 5.5 sec"
       ]
      },
      {
       "output_type": "stream",
       "stream": "stdout",
       "text": [
        "\r",
        " [---               9%                  ] 9045 of 100000 complete in 6.0 sec"
       ]
      },
      {
       "output_type": "stream",
       "stream": "stdout",
       "text": [
        "\r",
        " [---              10%                  ] 10007 of 100000 complete in 6.5 sec"
       ]
      },
      {
       "output_type": "stream",
       "stream": "stdout",
       "text": [
        "\r",
        " [----             10%                  ] 10964 of 100000 complete in 7.0 sec"
       ]
      },
      {
       "output_type": "stream",
       "stream": "stdout",
       "text": [
        "\r",
        " [----             11%                  ] 11931 of 100000 complete in 7.5 sec"
       ]
      },
      {
       "output_type": "stream",
       "stream": "stdout",
       "text": [
        "\r",
        " [----             12%                  ] 12902 of 100000 complete in 8.0 sec"
       ]
      },
      {
       "output_type": "stream",
       "stream": "stdout",
       "text": [
        "\r",
        " [-----            13%                  ] 13874 of 100000 complete in 8.5 sec"
       ]
      },
      {
       "output_type": "stream",
       "stream": "stdout",
       "text": [
        "\r",
        " [-----            14%                  ] 14828 of 100000 complete in 9.0 sec"
       ]
      },
      {
       "output_type": "stream",
       "stream": "stdout",
       "text": [
        "\r",
        " [-----            15%                  ] 15789 of 100000 complete in 9.5 sec"
       ]
      },
      {
       "output_type": "stream",
       "stream": "stdout",
       "text": [
        "\r",
        " [------           16%                  ] 16755 of 100000 complete in 10.0 sec"
       ]
      },
      {
       "output_type": "stream",
       "stream": "stdout",
       "text": [
        "\r",
        " [------           17%                  ] 17739 of 100000 complete in 10.5 sec"
       ]
      },
      {
       "output_type": "stream",
       "stream": "stdout",
       "text": [
        "\r",
        " [-------          18%                  ] 18718 of 100000 complete in 11.0 sec"
       ]
      },
      {
       "output_type": "stream",
       "stream": "stdout",
       "text": [
        "\r",
        " [-------          19%                  ] 19687 of 100000 complete in 11.5 sec"
       ]
      },
      {
       "output_type": "stream",
       "stream": "stdout",
       "text": [
        "\r",
        " [-------          20%                  ] 20667 of 100000 complete in 12.0 sec"
       ]
      },
      {
       "output_type": "stream",
       "stream": "stdout",
       "text": [
        "\r",
        " [--------         21%                  ] 21648 of 100000 complete in 12.5 sec"
       ]
      },
      {
       "output_type": "stream",
       "stream": "stdout",
       "text": [
        "\r",
        " [--------         22%                  ] 22622 of 100000 complete in 13.0 sec"
       ]
      },
      {
       "output_type": "stream",
       "stream": "stdout",
       "text": [
        "\r",
        " [--------         23%                  ] 23595 of 100000 complete in 13.5 sec"
       ]
      },
      {
       "output_type": "stream",
       "stream": "stdout",
       "text": [
        "\r",
        " [---------        24%                  ] 24561 of 100000 complete in 14.0 sec"
       ]
      },
      {
       "output_type": "stream",
       "stream": "stdout",
       "text": [
        "\r",
        " [---------        25%                  ] 25527 of 100000 complete in 14.5 sec"
       ]
      },
      {
       "output_type": "stream",
       "stream": "stdout",
       "text": [
        "\r",
        " [----------       26%                  ] 26490 of 100000 complete in 15.0 sec"
       ]
      },
      {
       "output_type": "stream",
       "stream": "stdout",
       "text": [
        "\r",
        " [----------       27%                  ] 27461 of 100000 complete in 15.5 sec"
       ]
      },
      {
       "output_type": "stream",
       "stream": "stdout",
       "text": [
        "\r",
        " [----------       28%                  ] 28428 of 100000 complete in 16.0 sec"
       ]
      },
      {
       "output_type": "stream",
       "stream": "stdout",
       "text": [
        "\r",
        " [-----------      29%                  ] 29403 of 100000 complete in 16.5 sec"
       ]
      },
      {
       "output_type": "stream",
       "stream": "stdout",
       "text": [
        "\r",
        " [-----------      30%                  ] 30377 of 100000 complete in 17.0 sec"
       ]
      },
      {
       "output_type": "stream",
       "stream": "stdout",
       "text": [
        "\r",
        " [-----------      31%                  ] 31350 of 100000 complete in 17.5 sec"
       ]
      },
      {
       "output_type": "stream",
       "stream": "stdout",
       "text": [
        "\r",
        " [------------     32%                  ] 32315 of 100000 complete in 18.0 sec"
       ]
      },
      {
       "output_type": "stream",
       "stream": "stdout",
       "text": [
        "\r",
        " [------------     33%                  ] 33273 of 100000 complete in 18.5 sec"
       ]
      },
      {
       "output_type": "stream",
       "stream": "stdout",
       "text": [
        "\r",
        " [-------------    34%                  ] 34239 of 100000 complete in 19.0 sec"
       ]
      },
      {
       "output_type": "stream",
       "stream": "stdout",
       "text": [
        "\r",
        " [-------------    35%                  ] 35201 of 100000 complete in 19.5 sec"
       ]
      },
      {
       "output_type": "stream",
       "stream": "stdout",
       "text": [
        "\r",
        " [-------------    36%                  ] 36150 of 100000 complete in 20.0 sec"
       ]
      },
      {
       "output_type": "stream",
       "stream": "stdout",
       "text": [
        "\r",
        " [--------------   37%                  ] 37107 of 100000 complete in 20.5 sec"
       ]
      },
      {
       "output_type": "stream",
       "stream": "stdout",
       "text": [
        "\r",
        " [--------------   38%                  ] 38060 of 100000 complete in 21.0 sec"
       ]
      },
      {
       "output_type": "stream",
       "stream": "stdout",
       "text": [
        "\r",
        " [--------------   39%                  ] 39017 of 100000 complete in 21.5 sec"
       ]
      },
      {
       "output_type": "stream",
       "stream": "stdout",
       "text": [
        "\r",
        " [---------------  39%                  ] 39970 of 100000 complete in 22.0 sec"
       ]
      },
      {
       "output_type": "stream",
       "stream": "stdout",
       "text": [
        "\r",
        " [---------------  40%                  ] 40930 of 100000 complete in 22.5 sec"
       ]
      },
      {
       "output_type": "stream",
       "stream": "stdout",
       "text": [
        "\r",
        " [---------------  41%                  ] 41881 of 100000 complete in 23.0 sec"
       ]
      },
      {
       "output_type": "stream",
       "stream": "stdout",
       "text": [
        "\r",
        " [---------------- 42%                  ] 42832 of 100000 complete in 23.5 sec"
       ]
      },
      {
       "output_type": "stream",
       "stream": "stdout",
       "text": [
        "\r",
        " [---------------- 43%                  ] 43781 of 100000 complete in 24.0 sec"
       ]
      },
      {
       "output_type": "stream",
       "stream": "stdout",
       "text": [
        "\r",
        " [---------------- 44%                  ] 44727 of 100000 complete in 24.5 sec"
       ]
      },
      {
       "output_type": "stream",
       "stream": "stdout",
       "text": [
        "\r",
        " [-----------------45%                  ] 45687 of 100000 complete in 25.0 sec"
       ]
      },
      {
       "output_type": "stream",
       "stream": "stdout",
       "text": [
        "\r",
        " [-----------------46%                  ] 46646 of 100000 complete in 25.5 sec"
       ]
      },
      {
       "output_type": "stream",
       "stream": "stdout",
       "text": [
        "\r",
        " [-----------------47%                  ] 47612 of 100000 complete in 26.0 sec"
       ]
      },
      {
       "output_type": "stream",
       "stream": "stdout",
       "text": [
        "\r",
        " [-----------------48%                  ] 48573 of 100000 complete in 26.5 sec"
       ]
      },
      {
       "output_type": "stream",
       "stream": "stdout",
       "text": [
        "\r",
        " [-----------------49%                  ] 49526 of 100000 complete in 27.0 sec"
       ]
      },
      {
       "output_type": "stream",
       "stream": "stdout",
       "text": [
        "\r",
        " [-----------------50%                  ] 50443 of 100000 complete in 27.5 sec"
       ]
      },
      {
       "output_type": "stream",
       "stream": "stdout",
       "text": [
        "\r",
        " [-----------------51%                  ] 51325 of 100000 complete in 28.0 sec"
       ]
      },
      {
       "output_type": "stream",
       "stream": "stdout",
       "text": [
        "\r",
        " [-----------------52%                  ] 52224 of 100000 complete in 28.5 sec"
       ]
      },
      {
       "output_type": "stream",
       "stream": "stdout",
       "text": [
        "\r",
        " [-----------------53%                  ] 53116 of 100000 complete in 29.0 sec"
       ]
      },
      {
       "output_type": "stream",
       "stream": "stdout",
       "text": [
        "\r",
        " [-----------------54%                  ] 54009 of 100000 complete in 29.5 sec"
       ]
      },
      {
       "output_type": "stream",
       "stream": "stdout",
       "text": [
        "\r",
        " [-----------------54%                  ] 54897 of 100000 complete in 30.0 sec"
       ]
      },
      {
       "output_type": "stream",
       "stream": "stdout",
       "text": [
        "\r",
        " [-----------------55%-                 ] 55791 of 100000 complete in 30.5 sec"
       ]
      },
      {
       "output_type": "stream",
       "stream": "stdout",
       "text": [
        "\r",
        " [-----------------56%-                 ] 56664 of 100000 complete in 31.0 sec"
       ]
      },
      {
       "output_type": "stream",
       "stream": "stdout",
       "text": [
        "\r",
        " [-----------------57%-                 ] 57518 of 100000 complete in 31.5 sec"
       ]
      },
      {
       "output_type": "stream",
       "stream": "stdout",
       "text": [
        "\r",
        " [-----------------58%--                ] 58374 of 100000 complete in 32.0 sec"
       ]
      },
      {
       "output_type": "stream",
       "stream": "stdout",
       "text": [
        "\r",
        " [-----------------59%--                ] 59206 of 100000 complete in 32.5 sec"
       ]
      },
      {
       "output_type": "stream",
       "stream": "stdout",
       "text": [
        "\r",
        " [-----------------60%--                ] 60063 of 100000 complete in 33.0 sec"
       ]
      },
      {
       "output_type": "stream",
       "stream": "stdout",
       "text": [
        "\r",
        " [-----------------60%---               ] 60902 of 100000 complete in 33.5 sec"
       ]
      },
      {
       "output_type": "stream",
       "stream": "stdout",
       "text": [
        "\r",
        " [-----------------61%---               ] 61754 of 100000 complete in 34.0 sec"
       ]
      },
      {
       "output_type": "stream",
       "stream": "stdout",
       "text": [
        "\r",
        " [-----------------62%---               ] 62599 of 100000 complete in 34.5 sec"
       ]
      },
      {
       "output_type": "stream",
       "stream": "stdout",
       "text": [
        "\r",
        " [-----------------63%----              ] 63345 of 100000 complete in 35.0 sec"
       ]
      },
      {
       "output_type": "stream",
       "stream": "stdout",
       "text": [
        "\r",
        " [-----------------64%----              ] 64219 of 100000 complete in 35.5 sec"
       ]
      },
      {
       "output_type": "stream",
       "stream": "stdout",
       "text": [
        "\r",
        " [-----------------65%----              ] 65099 of 100000 complete in 36.0 sec"
       ]
      },
      {
       "output_type": "stream",
       "stream": "stdout",
       "text": [
        "\r",
        " [-----------------65%-----             ] 65984 of 100000 complete in 36.5 sec"
       ]
      },
      {
       "output_type": "stream",
       "stream": "stdout",
       "text": [
        "\r",
        " [-----------------66%-----             ] 66775 of 100000 complete in 37.0 sec"
       ]
      },
      {
       "output_type": "stream",
       "stream": "stdout",
       "text": [
        "\r",
        " [-----------------67%-----             ] 67656 of 100000 complete in 37.5 sec"
       ]
      },
      {
       "output_type": "stream",
       "stream": "stdout",
       "text": [
        "\r",
        " [-----------------68%------            ] 68531 of 100000 complete in 38.0 sec"
       ]
      },
      {
       "output_type": "stream",
       "stream": "stdout",
       "text": [
        "\r",
        " [-----------------69%------            ] 69407 of 100000 complete in 38.5 sec"
       ]
      },
      {
       "output_type": "stream",
       "stream": "stdout",
       "text": [
        "\r",
        " [-----------------70%------            ] 70282 of 100000 complete in 39.0 sec"
       ]
      },
      {
       "output_type": "stream",
       "stream": "stdout",
       "text": [
        "\r",
        " [-----------------71%-------           ] 71151 of 100000 complete in 39.5 sec"
       ]
      },
      {
       "output_type": "stream",
       "stream": "stdout",
       "text": [
        "\r",
        " [-----------------72%-------           ] 72030 of 100000 complete in 40.0 sec"
       ]
      },
      {
       "output_type": "stream",
       "stream": "stdout",
       "text": [
        "\r",
        " [-----------------72%-------           ] 72905 of 100000 complete in 40.5 sec"
       ]
      },
      {
       "output_type": "stream",
       "stream": "stdout",
       "text": [
        "\r",
        " [-----------------73%--------          ] 73784 of 100000 complete in 41.0 sec"
       ]
      },
      {
       "output_type": "stream",
       "stream": "stdout",
       "text": [
        "\r",
        " [-----------------74%--------          ] 74662 of 100000 complete in 41.5 sec"
       ]
      },
      {
       "output_type": "stream",
       "stream": "stdout",
       "text": [
        "\r",
        " [-----------------75%--------          ] 75531 of 100000 complete in 42.0 sec"
       ]
      },
      {
       "output_type": "stream",
       "stream": "stdout",
       "text": [
        "\r",
        " [-----------------76%---------         ] 76409 of 100000 complete in 42.5 sec"
       ]
      },
      {
       "output_type": "stream",
       "stream": "stdout",
       "text": [
        "\r",
        " [-----------------77%---------         ] 77285 of 100000 complete in 43.0 sec"
       ]
      },
      {
       "output_type": "stream",
       "stream": "stdout",
       "text": [
        "\r",
        " [-----------------78%---------         ] 78166 of 100000 complete in 43.5 sec"
       ]
      },
      {
       "output_type": "stream",
       "stream": "stdout",
       "text": [
        "\r",
        " [-----------------79%----------        ] 79037 of 100000 complete in 44.0 sec"
       ]
      },
      {
       "output_type": "stream",
       "stream": "stdout",
       "text": [
        "\r",
        " [-----------------79%----------        ] 79914 of 100000 complete in 44.5 sec"
       ]
      },
      {
       "output_type": "stream",
       "stream": "stdout",
       "text": [
        "\r",
        " [-----------------80%----------        ] 80786 of 100000 complete in 45.0 sec"
       ]
      },
      {
       "output_type": "stream",
       "stream": "stdout",
       "text": [
        "\r",
        " [-----------------81%-----------       ] 81666 of 100000 complete in 45.5 sec"
       ]
      },
      {
       "output_type": "stream",
       "stream": "stdout",
       "text": [
        "\r",
        " [-----------------82%-----------       ] 82547 of 100000 complete in 46.0 sec"
       ]
      },
      {
       "output_type": "stream",
       "stream": "stdout",
       "text": [
        "\r",
        " [-----------------83%-----------       ] 83423 of 100000 complete in 46.5 sec"
       ]
      },
      {
       "output_type": "stream",
       "stream": "stdout",
       "text": [
        "\r",
        " [-----------------84%------------      ] 84298 of 100000 complete in 47.0 sec"
       ]
      },
      {
       "output_type": "stream",
       "stream": "stdout",
       "text": [
        "\r",
        " [-----------------85%------------      ] 85191 of 100000 complete in 47.5 sec"
       ]
      },
      {
       "output_type": "stream",
       "stream": "stdout",
       "text": [
        "\r",
        " [-----------------86%------------      ] 86090 of 100000 complete in 48.0 sec"
       ]
      },
      {
       "output_type": "stream",
       "stream": "stdout",
       "text": [
        "\r",
        " [-----------------86%-------------     ] 86991 of 100000 complete in 48.5 sec"
       ]
      },
      {
       "output_type": "stream",
       "stream": "stdout",
       "text": [
        "\r",
        " [-----------------87%-------------     ] 87884 of 100000 complete in 49.0 sec"
       ]
      },
      {
       "output_type": "stream",
       "stream": "stdout",
       "text": [
        "\r",
        " [-----------------88%-------------     ] 88777 of 100000 complete in 49.5 sec"
       ]
      },
      {
       "output_type": "stream",
       "stream": "stdout",
       "text": [
        "\r",
        " [-----------------89%--------------    ] 89672 of 100000 complete in 50.0 sec"
       ]
      },
      {
       "output_type": "stream",
       "stream": "stdout",
       "text": [
        "\r",
        " [-----------------90%--------------    ] 90570 of 100000 complete in 50.5 sec"
       ]
      },
      {
       "output_type": "stream",
       "stream": "stdout",
       "text": [
        "\r",
        " [-----------------91%--------------    ] 91474 of 100000 complete in 51.0 sec"
       ]
      },
      {
       "output_type": "stream",
       "stream": "stdout",
       "text": [
        "\r",
        " [-----------------92%---------------   ] 92379 of 100000 complete in 51.5 sec"
       ]
      },
      {
       "output_type": "stream",
       "stream": "stdout",
       "text": [
        "\r",
        " [-----------------93%---------------   ] 93280 of 100000 complete in 52.0 sec"
       ]
      },
      {
       "output_type": "stream",
       "stream": "stdout",
       "text": [
        "\r",
        " [-----------------94%---------------   ] 94183 of 100000 complete in 52.5 sec"
       ]
      },
      {
       "output_type": "stream",
       "stream": "stdout",
       "text": [
        "\r",
        " [-----------------95%----------------  ] 95080 of 100000 complete in 53.0 sec"
       ]
      },
      {
       "output_type": "stream",
       "stream": "stdout",
       "text": [
        "\r",
        " [-----------------95%----------------  ] 95974 of 100000 complete in 53.5 sec"
       ]
      },
      {
       "output_type": "stream",
       "stream": "stdout",
       "text": [
        "\r",
        " [-----------------96%----------------  ] 96870 of 100000 complete in 54.0 sec"
       ]
      },
      {
       "output_type": "stream",
       "stream": "stdout",
       "text": [
        "\r",
        " [-----------------97%----------------- ] 97767 of 100000 complete in 54.5 sec"
       ]
      },
      {
       "output_type": "stream",
       "stream": "stdout",
       "text": [
        "\r",
        " [-----------------98%----------------- ] 98665 of 100000 complete in 55.0 sec"
       ]
      },
      {
       "output_type": "stream",
       "stream": "stdout",
       "text": [
        "\r",
        " [-----------------99%----------------- ] 99555 of 100000 complete in 55.5 sec"
       ]
      },
      {
       "output_type": "stream",
       "stream": "stdout",
       "text": [
        "\r",
        " [-----------------100%-----------------] 100000 of 100000 complete in 55.8 sec"
       ]
      }
     ],
     "prompt_number": 12
    },
    {
     "cell_type": "code",
     "collapsed": false,
     "input": [
      "# extract the traces and plot the results\n",
      "pymc_trace = [S.trace('alpha')[:],\n",
      "              S.trace('beta')[:],\n",
      "              S.trace('sigma')[:]]\n",
      "\n",
      "plot_MCMC_results(xdata, ydata, pymc_trace)"
     ],
     "language": "python",
     "metadata": {},
     "outputs": [
      {
       "metadata": {},
       "output_type": "display_data",
       "png": "[encoded data removed]",
       "text": [
        "<matplotlib.figure.Figure at 0x7f6e97103ed0>"
       ]
      }
     ],
     "prompt_number": 13
    },
    {
     "cell_type": "markdown",
     "metadata": {},
     "source": [
      "\u7ed3\u679c\u548cemcee\u5f88\u76f8\u4f3c\u3002"
     ]
    },
    {
     "cell_type": "heading",
     "level": 1,
     "metadata": {},
     "source": [
      "PyStan"
     ]
    },
    {
     "cell_type": "markdown",
     "metadata": {},
     "source": [
      "[PyStan](http://mc-stan.org/pystan.html)\u9879\u76ee\u662fC++\u5b9e\u73b0\u7684[Stan](http://mc-stan.org/)\u6982\u7387\u7f16\u7a0b\u8bed\u8a00\u7684Python\u5c01\u88c5\u7248\u3002\u4f7f\u7528[No U-Turn\u53d6\u6837\u5668](http://arxiv.org/abs/1111.4246)\uff0c\u6bd4Metropolis-Hastings\u548cGibbs\u53d6\u6837\u66f4\u590d\u6742\u3002\u4e0d\u8003\u8651API\uff0cPyStan\u4e0eemcee\u548cPyMC\u7684\u5dee\u5f02\u662f\uff0c\u5b83\u8981\u6c42\u5728Python\u7a0b\u5e8f\u5185**\u7f16\u5199\u5e76\u7f16\u8bd1\u975ePython\u7f16\u7801**\u3002\n",
      "\n",
      "\u56e0\u4e3aPyStan\u4f9d\u8d56Stan\u5305\uff0c\u5b89\u88c5\u5f88\u56f0\u96be\u3002\u4e3a\u4e86\u7528Python\u5c01\u88c5\u7248\u9700\u8981\u5b89\u88c5\u5168\u90e8\u7684Stan\u5e93\u3002\u5982\u679c\u4f60\u6709C/C++\u7f16\u8bd1\u73af\u5883\uff0c\u76f4\u63a5``pip install pystan``\u5c31\u53ef\u4ee5\u641e\u5b9a\u3002\n",
      "\n",
      "\u597d\u50cfStan\u4e5f\u63d0\u4f9b\u5df2\u7ecf\u7f16\u8bd1\u7248\u672c\uff0c\u652f\u6301conda\u3002\u56e0\u6b64\uff0c\u5982\u679c\u4f60\u6ca1\u6709C/C++\u7f16\u8bd1\u73af\u5883\uff0c\u5b89\u88c5\u53ef\u80fd\u6bd4\u8f83\u9ebb\u70e6\u3002\n",
      "\n",
      "\u6211\u7528\u7684PyStan 2.5\u7248\u672c\uff1a"
     ]
    },
    {
     "cell_type": "code",
     "collapsed": false,
     "input": [
      "import pystan\n",
      "print(pystan.__version__)"
     ],
     "language": "python",
     "metadata": {},
     "outputs": [
      {
       "output_type": "stream",
       "stream": "stdout",
       "text": [
        "2.5.0.0\n"
       ]
      }
     ],
     "prompt_number": 14
    },
    {
     "cell_type": "markdown",
     "metadata": {},
     "source": [
      "\u8fd8\u6709\u4e00\u70b9\u8be1\u5f02\u7684\u662f\uff1aPyStan\u5728IPython notebook\u4e0a\u8fd0\u884c\u5bb9\u6613\u5d29\u6e83\uff0c\u76f4\u63a5\u6267\u884cPython\u6587\u4ef6\u5c31\u6ca1\u4e8b\u3002\u4e0d\u660e\u89c9\u5389\uff0c\u4f46\u662f[\u8fd9\u91cc](https://github.com/stan-dev/pystan/issues/3)\u53ef\u80fd\u662f\u89e3\u6cd5\u3002\u6240\u4ee5\uff0c\u5b89\u5168\u8d77\u89c1\uff0c\u6211\u76f4\u63a5\u5728\u547d\u4ee4\u884c\u8fd0\u884cPython\u6587\u4ef6\uff0c\u7ed3\u679c\u5199\u5728\u76d8\u91cc\uff1a"
     ]
    },
    {
     "cell_type": "code",
     "collapsed": false,
     "input": [
      "%%file pystan_example.py\n",
      "\n",
      "import numpy as np\n",
      "import pystan\n",
      "\n",
      "#---------------------------------------------\n",
      "# Generate data (same as used in the notebook)\n",
      "\n",
      "np.random.seed(42)\n",
      "theta_true = (25, 0.5)\n",
      "xdata = 100 * np.random.random(20)\n",
      "ydata = theta_true[0] + theta_true[1] * xdata\n",
      "\n",
      "# add scatter to points\n",
      "xdata = np.random.normal(xdata, 10)\n",
      "ydata = np.random.normal(ydata, 10)\n",
      "\n",
      "#----------------------------------------------\n",
      "# Create the Stan model\n",
      "#  this is done by defining a string of Stan code.\n",
      "\n",
      "fit_code = \"\"\"\n",
      "data {\n",
      "    int<lower=0> N; // number of points\n",
      "    real x[N]; // x values\n",
      "    real y[N]; // y values\n",
      "}\n",
      "\n",
      "parameters {\n",
      "    real alpha_perp;\n",
      "    real<lower=-pi()/2, upper=pi()/2> theta;\n",
      "    real log_sigma;\n",
      "}\n",
      "\n",
      "transformed parameters {\n",
      "    real alpha;\n",
      "    real beta;\n",
      "    real sigma;\n",
      "    real ymodel[N];\n",
      "    \n",
      "    alpha <- alpha_perp / cos(theta);\n",
      "    beta <- sin(theta);\n",
      "    sigma <- exp(log_sigma);\n",
      "    for (j in 1:N)\n",
      "    ymodel[j] <- alpha + beta * x[j];\n",
      "}\n",
      "\n",
      "model {\n",
      "    y ~ normal(ymodel, sigma);\n",
      "}\n",
      "\"\"\"\n",
      "\n",
      "# perform the fit\n",
      "fit_data = {'N': len(xdata), 'x': xdata, 'y': ydata}\n",
      "fit = pystan.stan(model_code=fit_code, data=fit_data, iter=25000, chains=4)\n",
      "\n",
      "# extract the traces\n",
      "traces = fit.extract()\n",
      "pystan_trace = [traces['alpha'], traces['beta'], traces['sigma']]\n",
      "\n",
      "# save the traces with numpy\n",
      "np.save(\"pystan_trace.npy\", pystan_trace)"
     ],
     "language": "python",
     "metadata": {},
     "outputs": [
      {
       "output_type": "stream",
       "stream": "stdout",
       "text": [
        "Writing pystan_example.py\n"
       ]
      }
     ],
     "prompt_number": 15
    },
    {
     "cell_type": "code",
     "collapsed": false,
     "input": [
      "# run the code we've created on the command-line\n",
      "!python pystan_example.py"
     ],
     "language": "python",
     "metadata": {},
     "outputs": [
      {
       "output_type": "stream",
       "stream": "stdout",
       "text": [
        "INFO:pystan:COMPILING THE C++ CODE FOR MODEL anon_model_c1dba2ed7f485b674d7ce5eb738ffe05 NOW.\r\n"
       ]
      },
      {
       "output_type": "stream",
       "stream": "stdout",
       "text": [
        "Iteration:     1 / 25000 [  0%]  (Warmup) (Chain 3)\r\n",
        "Iteration:     1 / 25000 [  0%]  (Warmup) (Chain 2)\r\n",
        "Iteration:     1 / 25000 [  0%]  (Warmup) (Chain 1)\r\n",
        "Iteration:     1 / 25000 [  0%]  (Warmup) (Chain 0)\r\n"
       ]
      },
      {
       "output_type": "stream",
       "stream": "stdout",
       "text": [
        "Iteration:  2500 / 25000 [ 10%]  (Warmup) (Chain 1)\r\n"
       ]
      },
      {
       "output_type": "stream",
       "stream": "stdout",
       "text": [
        "Iteration:  2500 / 25000 [ 10%]  (Warmup) (Chain 2)\r\n",
        "Iteration:  2500 / 25000 [ 10%]  (Warmup) (Chain 3)\r\n"
       ]
      },
      {
       "output_type": "stream",
       "stream": "stdout",
       "text": [
        "Iteration:  2500 / 25000 [ 10%]  (Warmup) (Chain 0)\r\n",
        "Iteration:  5000 / 25000 [ 20%]  (Warmup) (Chain 1)\r\n",
        "Iteration:  5000 / 25000 [ 20%]  (Warmup) (Chain 2)\r\n",
        "Iteration:  5000 / 25000 [ 20%]  (Warmup) (Chain 3)\r\n"
       ]
      },
      {
       "output_type": "stream",
       "stream": "stdout",
       "text": [
        "Iteration:  7500 / 25000 [ 30%]  (Warmup) (Chain 1)\r\n",
        "Iteration:  7500 / 25000 [ 30%]  (Warmup) (Chain 2)\r\n"
       ]
      },
      {
       "output_type": "stream",
       "stream": "stdout",
       "text": [
        "Iteration:  5000 / 25000 [ 20%]  (Warmup) (Chain 0)\r\n",
        "Iteration:  7500 / 25000 [ 30%]  (Warmup) (Chain 3)\r\n"
       ]
      },
      {
       "output_type": "stream",
       "stream": "stdout",
       "text": [
        "Iteration: 10000 / 25000 [ 40%]  (Warmup) (Chain 1)\r\n"
       ]
      },
      {
       "output_type": "stream",
       "stream": "stdout",
       "text": [
        "Iteration: 10000 / 25000 [ 40%]  (Warmup) (Chain 2)\r\n"
       ]
      },
      {
       "output_type": "stream",
       "stream": "stdout",
       "text": [
        "Iteration: 10000 / 25000 [ 40%]  (Warmup) (Chain 3)\r\n",
        "Iteration: 12500 / 25000 [ 50%]  (Warmup) (Chain 1)\r\n",
        "Iteration: 12501 / 25000 [ 50%]  (Sampling) (Chain 1)\r\n",
        "Iteration:  7500 / 25000 [ 30%]  (Warmup) (Chain 0)\r\n",
        "Iteration: 12500 / 25000 [ 50%]  (Warmup) (Chain 2)\r\n",
        "Iteration: 12501 / 25000 [ 50%]  (Sampling) (Chain 2)\r\n"
       ]
      },
      {
       "output_type": "stream",
       "stream": "stdout",
       "text": [
        "Iteration: 10000 / 25000 [ 40%]  (Warmup) (Chain 0)\r\n",
        "Iteration: 15000 / 25000 [ 60%]  (Sampling) (Chain 1)\r\n",
        "Iteration: 12500 / 25000 [ 50%]  (Warmup) (Chain 3)\r\n"
       ]
      },
      {
       "output_type": "stream",
       "stream": "stdout",
       "text": [
        "Iteration: 12501 / 25000 [ 50%]  (Sampling) (Chain 3)\r\n",
        "Iteration: 15000 / 25000 [ 60%]  (Sampling) (Chain 2)\r\n"
       ]
      },
      {
       "output_type": "stream",
       "stream": "stdout",
       "text": [
        "Iteration: 17500 / 25000 [ 70%]  (Sampling) (Chain 1)\r\n"
       ]
      },
      {
       "output_type": "stream",
       "stream": "stdout",
       "text": [
        "Iteration: 15000 / 25000 [ 60%]  (Sampling) (Chain 3)\r\n",
        "Iteration: 17500 / 25000 [ 70%]  (Sampling) (Chain 2)\r\n",
        "Iteration: 12500 / 25000 [ 50%]  (Warmup) (Chain 0)\r\n",
        "Iteration: 12501 / 25000 [ 50%]  (Sampling) (Chain 0)\r\n"
       ]
      },
      {
       "output_type": "stream",
       "stream": "stdout",
       "text": [
        "Iteration: 20000 / 25000 [ 80%]  (Sampling) (Chain 1)\r\n"
       ]
      },
      {
       "output_type": "stream",
       "stream": "stdout",
       "text": [
        "Iteration: 20000 / 25000 [ 80%]  (Sampling) (Chain 2)\r\n",
        "Iteration: 15000 / 25000 [ 60%]  (Sampling) (Chain 0)\r\n"
       ]
      },
      {
       "output_type": "stream",
       "stream": "stdout",
       "text": [
        "Iteration: 17500 / 25000 [ 70%]  (Sampling) (Chain 3)\r\n"
       ]
      },
      {
       "output_type": "stream",
       "stream": "stdout",
       "text": [
        "Iteration: 22500 / 25000 [ 90%]  (Sampling) (Chain 1)\r\n"
       ]
      },
      {
       "output_type": "stream",
       "stream": "stdout",
       "text": [
        "Iteration: 22500 / 25000 [ 90%]  (Sampling) (Chain 2)\r\n",
        "Iteration: 17500 / 25000 [ 70%]  (Sampling) (Chain 0)\r\n"
       ]
      },
      {
       "output_type": "stream",
       "stream": "stdout",
       "text": [
        "Iteration: 25000 / 25000 [100%]  (Sampling) (Chain 1)\r\n",
        "\r\n",
        "#  Elapsed Time: 0.608499 seconds (Warm-up)\r\n",
        "#                0.684071 seconds (Sampling)\r\n",
        "#                1.29257 seconds (Total)\r\n",
        "\r\n"
       ]
      },
      {
       "output_type": "stream",
       "stream": "stdout",
       "text": [
        "Iteration: 25000 / 25000 [100%]  (Sampling) (Chain 2)\r\n",
        "\r\n",
        "#  Elapsed Time: 0.620206 seconds (Warm-up)\r\n",
        "#                0.72414 seconds (Sampling)\r\n",
        "#                1.34435 seconds (Total)\r\n",
        "\r\n",
        "Iteration: 20000 / 25000 [ 80%]  (Sampling) (Chain 3)\r\n"
       ]
      },
      {
       "output_type": "stream",
       "stream": "stdout",
       "text": [
        "Iteration: 20000 / 25000 [ 80%]  (Sampling) (Chain 0)\r\n"
       ]
      },
      {
       "output_type": "stream",
       "stream": "stdout",
       "text": [
        "Iteration: 22500 / 25000 [ 90%]  (Sampling) (Chain 3)\r\n"
       ]
      },
      {
       "output_type": "stream",
       "stream": "stdout",
       "text": [
        "Iteration: 22500 / 25000 [ 90%]  (Sampling) (Chain 0)\r\n"
       ]
      },
      {
       "output_type": "stream",
       "stream": "stdout",
       "text": [
        "Iteration: 25000 / 25000 [100%]  (Sampling) (Chain 3)\r\n",
        "\r\n",
        "#  Elapsed Time: 0.610114 seconds (Warm-up)\r\n",
        "#                0.657225 seconds (Sampling)\r\n",
        "#                1.26734 seconds (Total)\r\n",
        "\r\n"
       ]
      },
      {
       "output_type": "stream",
       "stream": "stdout",
       "text": [
        "Iteration: 25000 / 25000 [100%]  (Sampling) (Chain 0)\r\n",
        "\r\n",
        "#  Elapsed Time: 0.616008 seconds (Warm-up)\r\n",
        "#                0.687802 seconds (Sampling)\r\n",
        "#                1.30381 seconds (Total)\r\n",
        "\r\n"
       ]
      }
     ],
     "prompt_number": 16
    },
    {
     "cell_type": "markdown",
     "metadata": {},
     "source": [
      "\u53ef\u4ee5\u770b\u5230\uff0c\u8fd0\u884c100,000\u6837\u672c\u7ea66\u79d2\u3002\u53e6\u5916\uff0c\u5728\u6211\u7684\u7535\u8111\u4e0a\uff0c\u6a21\u578b\u8fd0\u884c\u524d\u6709\u7ea620\u79d2\u51c6\u5907\u65f6\u95f4\u3002"
     ]
    },
    {
     "cell_type": "code",
     "collapsed": false,
     "input": [
      "# load the results from file; plot as above\n",
      "pystan_trace = np.load('pystan_trace.npy')\n",
      "plot_MCMC_results(xdata, ydata, pystan_trace)"
     ],
     "language": "python",
     "metadata": {},
     "outputs": [
      {
       "metadata": {},
       "output_type": "display_data",
       "png": "[encoded data removed]",
       "text": [
        "<matplotlib.figure.Figure at 0x7f6e73863b50>"
       ]
      }
     ],
     "prompt_number": 17
    },
    {
     "cell_type": "markdown",
     "metadata": {},
     "source": [
      "\u53ef\u89c1\uff0c\u7ed3\u679c\u548c\u4e0a\u9762\u90fd\u5dee\u4e0d\u591a\u3002"
     ]
    },
    {
     "cell_type": "heading",
     "level": 1,
     "metadata": {},
     "source": [
      "\u603b\u7ed3\uff1a\u7ed3\u679c\u6bd4\u8f83"
     ]
    },
    {
     "cell_type": "markdown",
     "metadata": {},
     "source": [
      "\u4e0b\u9762\u6211\u4eec\u753b\u56fe\u6765\u6bd4\u8f83\u4e00\u4e0b\u4e09\u4e2a\u7ed3\u679c\uff1a"
     ]
    },
    {
     "cell_type": "code",
     "collapsed": false,
     "input": [
      "fig, ax = plt.subplots(figsize=(8, 8))\n",
      "plot_MCMC_trace(ax, xdata, ydata, emcee_trace, True,\n",
      "                colors='blue', linewidths=2)\n",
      "plot_MCMC_trace(ax, xdata, ydata, pymc_trace,\n",
      "                colors='red', linewidths=2)\n",
      "plot_MCMC_trace(ax, xdata, ydata, pystan_trace,\n",
      "                colors='green', linewidths=2)\n",
      "ax.legend(ax.collections[::2], ['emcee', 'pymc', 'pystan'], fontsize=16);"
     ],
     "language": "python",
     "metadata": {},
     "outputs": [
      {
       "metadata": {},
       "output_type": "display_data",
       "png": "[encoded data removed]",
       "text": [
        "<matplotlib.figure.Figure at 0x7f6e73863cd0>"
       ]
      }
     ],
     "prompt_number": 18
    },
    {
     "cell_type": "markdown",
     "metadata": {},
     "source": [
      "\u5982\u6211\u6240\u6599\uff0c\u7ed3\u679c\u90fd\u5dee\u4e0d\u591a\uff01\u8fd9\u8868\u660e\u6211\u4eec\u5b9a\u4e49\u7684\u6a21\u578b\u5728\u8fd9\u4e09\u4e2a\u5305\u90fd\u4e00\u81f4\u3002\u53e6\u5916\uff0c\u6211\u4eec\u770b\u5230\u7528\u6765\u4ea7\u751f\u5206\u5e03\u7684\u201c\u771f\u201d\u503c(25, 0.5)\u843d\u57281-$\\sigma$\u7684\u692d\u5706\u533a\u57df\u5185\u3002"
     ]
    },
    {
     "cell_type": "heading",
     "level": 2,
     "metadata": {},
     "source": [
      "\u4e09\u4e2a\u5305\u6bd4\u8f83"
     ]
    },
    {
     "cell_type": "markdown",
     "metadata": {},
     "source": [
      "\u54ea\u4e2a\u5305\u597d\uff1f\u56e0\u5730\u5236\u5b9c\u3002\u4e0b\u8868\u662f\u6211\u81ea\u5df1\u7684\u603b\u7ed3\uff1a\n",
      "\n",
      "<table>\n",
      "<tr>\n",
      "<th></th>\n",
      "<th>\u590d\u6742\u6027</th>\n",
      "<th>\u6267\u884c\u65f6\u95f4(100,000\u6837\u672c\uff0c\u5305\u62ec\u51c6\u5907\u9636\u6bb5)</th>\n",
      "<th>\u5b89\u88c5\u7b80\u6613\u6027</th>\n",
      "<th>\u4f7f\u7528\u53cb\u597d\u7a0b\u5ea6</th>\n",
      "<th>\u7279\u6027\u4e30\u5bcc\u7a0b\u5ea6</th>\n",
      "</tr>\n",
      "\n",
      "<tr>\n",
      "<th>emcee</th>\n",
      "<td bgcolor='#CCFFCC'>\u8f7b\u91cf\u7248</td>\n",
      "<td bgcolor='#CCFFCC'>~6\u79d2</td>\n",
      "<td bgcolor='#CCFFCC'>\u7eafPython\uff1bpip\u5b89\u88c5\u7b80\u5355</td>\n",
      "<td bgcolor='#CCFFCC'>\u76f4\u622a\u4e86\u5f53 & Pythonic</td>\n",
      "<td bgcolor='#FFCCCC'>\u9664\u4e86MCMC\u53d6\u6837\u6ca1\u592a\u591a\u529f\u80fd</td>\n",
      "</tr>\n",
      "\n",
      "<tr>\n",
      "<th>pymc2</th>\n",
      "<td bgcolor='#FFFFCC'>\u5927\u91cf\u529f\u80fd & \u9009\u9879</td>\n",
      "<td bgcolor=\"#FFCCCC\">~17\u79d2</td>\n",
      "<td bgcolor=\"#EEFFCC\">\u8981\u6c42fortran\u7f16\u8bd1\u5668; \u53ef\u901a\u8fc7conda\u7f16\u8bd1</td>\n",
      "<td bgcolor=\"#FFFFCC\">Pythonic\uff0c\u4f46\u6709\u5927\u91cf\u7684pymc\u5f15\u7528\u6587\u4ef6</td>\n",
      "<td bgcolor='#CCFFCC'>\u5927\u91cf\u7684\u5185\u5efaPython\u529f\u80fd</td>\n",
      "</tr>\n",
      "\n",
      "<tr>\n",
      "<th>pystan</th>\n",
      "<td bgcolor='#FFCCCC'>\u5f88\u591a\u5305; \u8981\u6c42Stan\u8bed\u8a00\u7f16\u5199</td>\n",
      "<td bgcolor=\"#FFFFCC\">~20\u79d2\u7f16\u8bd1 + ~6\u79d2\u8ba1\u7b97</td>\n",
      "<td bgcolor=\"#FFCCCC\">\u8981\u6c42C\u7f16\u8bd1\u5668 + Stan\u5b89\u88c5; \u6ca1\u6709\u7f16\u8bd1\u597d\u7684\u6587\u4ef6</td>\n",
      "<td bgcolor=\"#FFCCCC\">\u4e0d\u662f\u7eafPython; \u5fc5\u987b\u5b66\u4e60Stan\u5efa\u6a21\u8bed\u8a00</td>\n",
      "<td bgcolor='#EEFFCC'>\u5927\u91cfStan\u529f\u80fd</td>\n",
      "</tr>\n",
      "\n",
      "</table>"
     ]
    },
    {
     "cell_type": "markdown",
     "metadata": {},
     "source": [
      "\u5570\u55e6\u51e0\u53e5\uff1a\n",
      "\n",
      "**emcee**\u53ef\u8c13\u77ed\u5c0f\u7cbe\u608d\u3002\u4f60\u8981\u505a\u7684\u6240\u6709\u5de5\u4f5c\u5c31\u662fPython\u5bf9\u6570\u540e\u9a8c\uff0c\u4e4b\u540eemcee\u5c31\u4f1a\u4ece\u5206\u5e03\u53d6\u6837\u4e86\u3002\u56e0\u4e3a\u662f\u7eafPython\u800c\u4e14\u6ca1\u6709\u8bb8\u591a\u5e38\u89c1\u7684\u5206\u5e03(\u5982\u5747\u5300\u5206\u5e03\uff0c\u6b63\u6001\u5206\u5e03\u7b49)\u3002\u6211\u89c9\u5f97\u5b83\u53ef\u80fd\u6bd4\u53e6\u4e24\u4e2a\u5305\u6162\uff0c\u4f46\u662f\u6027\u80fd\u5dee\u7684\u5e76\u4e0d\u591a\u3002\u53ef\u80fd\u662f\u53d6\u6837\u7b97\u6cd5\u76f8\u5bf9\u7b80\u5355\uff0c\u6240\u4ee5\u8dd1\u5206\u4e0d\u5dee\u3002\n",
      "\n",
      "**pymc**\u529f\u80fd\u5168\u9762\uff0c\u4e00\u65e6\u4f60\u660e\u767d\u4e86\u4fee\u9970\u5668\u8bed\u6cd5\uff0c\u5206\u5e03\u51fd\u6570\uff0c\u6d3e\u751f\u53d8\u91cf(derived quantities)\uff0c\u90a3\u4e48\u8fd8\u662f\u5bb9\u6613\u7528\u7684\u3002\u5b83\u7684\u6027\u80fd\u6bd4\u5176\u4ed6\u4e24\u4e2a\u90fd\u5dee\uff1a\u540c\u6837\u7684\u67e5\u8be2\u82b1\u66f4\u591a\u65f6\u95f4\uff0c\u5c3d\u7ba1\u4e0d\u540c\u7684\u5148\u9a8c\u53d6\u6837\u90fd\u4f18\u5316\u8fc7\u3002\u542c\u8bf4PyMC 3\u662f\u5b8c\u5168\u91cd\u5199\uff0c\u8fd8\u662f\u503c\u5f97\u671f\u5f85\u7684\u3002\n",
      "\n",
      "**pystan**\u662f\u6700\u96be\u7528\u7684\uff0c\u4f46\u90a3\u662f\u56e0\u4e3a\u4e0d\u662f\u771fPython\u5305\u3002\u6a21\u578b\u4e5f\u4e0d\u662fPython\u7684\uff0c\u662f\u4e00\u79cd\u7edf\u8ba1\u8bed\u8a00\u3002\u8fd9\u79cd\u8bed\u8a00\u5f88\u7ed9\u529b\uff0c\u4f46\u662f\u6709\u70b9\u96be\u5b66\u3002\u7ea620\u79d2\u7f16\u8bd1\u65f6\u95f4\u633a\u70e6\u4eba\uff0c\u4f46\u6211\u8ba4\u4e3a\u968f\u7740\u6837\u672c\u589e\u5927\u6a21\u578b\u4f1a\u66f4\u590d\u6742\uff0c\u8fd9\u70b9\u513f\u53ef\u4ee5\u5ffd\u7565\u3002Stan\u662f\u4e3a\u8fd9\u79cd\u5de5\u4f5c\u8bbe\u8ba1\u7684\uff0c\u6a21\u578b\u90fd\u88ab\u7f16\u8bd1\u6210\u5b57\u8282\u7801\uff0c\u5728\u505a\u5927case\u7684\u65f6\u5019\u662f\u4e2a\u4e0d\u9519\u7684\u9009\u62e9\u3002\n",
      "\n",
      "\u8fd9\u91cc\u5c31\u4e0d\u82b1\u592a\u591a\u65f6\u95f4\u4e86\uff1b\u524d\u9762\u8bf4\u8fc7\uff0c\u8fd9\u4e9b\u5305\u7528\u4e86\u4e0d\u540c\u7684\u53d6\u6837\u7b97\u6cd5\u6240\u4ee5\u65f6\u95f4\u662f\u4e0d\u53ef\u6bd4\u7684\u3002\u6bcf\u79cd\u53d6\u6837\u7b97\u6cd5\u90fd\u6709\u4f18\u7f3a\u70b9\uff0c\u4f60\u53ef\u4ee5\u53bb\u770b\u770b\u3002\n",
      "\n",
      "\u5e0c\u671b\u6211\u7684\u6bd4\u8f83\u662f\u516c\u6b63\u5408\u7406\u7684\u3002\u5f53\u7136\u6211\u4e0d\u662f\u8fd9\u4e9b\u5305\u7684\u5927\u725b\uff1b\u53ea\u662f\u7b80\u5355\u8bfb\u4e86\u4e00\u4e9b\u6587\u6863\uff0c\u7136\u540e\u628a\u6559\u7a0b\u7684\u4f8b\u5b50\u6539\u6539\u7f62\u4e86\u3002\u5982\u679c\u5927\u725b\u78b0\u5de7\u8bfb\u4e86\u8fd9\u4e9b\uff0c\u8f7b\u55b7\u54c8\u3002\u518d\u8bf4\u4e24\u4ef6\u4e8b\uff1a\n",
      "\n",
      "1. \u5982\u679c\u4f60\u7528\u7684\u66f4\u597d\uff0c\u5199\u70b9\u513f\u8bc4\u8bba\u54c8\uff01\n",
      "2. \u63d0\u9192\u4e00\u4e0b\u90a3\u4e9b*\u60f3\u7528\u8fd9\u5305\u89e3\u51b3\u95ee\u9898\u7684\u4e00\u822c\u7528\u6237*\uff1a\u8bfb\u8bfb\u6559\u7a0b\uff0c\u56e0\u5730\u5236\u5b9c\u3002\n",
      "\n",
      "\u611f\u8c22\u5fa1\u89c8\uff01\n",
      "\n",
      "<small>\n",
      "\u8fd9\u7bc7\u535a\u5ba2\u662fIPython notebook\u5199\u7684\u3002\u53ef\u4ee5[\u4e0b\u8f7d](http://jakevdp.github.io/downloads/notebooks/FreqBayes4.ipynb)\uff0c\u6216\u8005\u770b[nbviewer](http://nbviewer.ipython.org/url/jakevdp.github.io/downloads/notebooks/FreqBayes4.ipynb)\u9759\u6001\u7f51\u9875\u3002\n",
      "\u5341\u5206\u611f\u8c22David W. Hogg\u5bf9\u672c\u6587\u63d0\u51fa\u7684\u5efa\u8bae\u3002\n",
      "</small>"
     ]
    }
   ],
   "metadata": {}
  }
 ]
}