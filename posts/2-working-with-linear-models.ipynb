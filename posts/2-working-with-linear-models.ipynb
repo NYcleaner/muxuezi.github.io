{
 "cells": [
  {
   "cell_type": "markdown",
   "metadata": {},
   "source": [
    "#  处理线性模型"
   ]
  },
  {
   "cell_type": "markdown",
   "metadata": {},
   "source": [
    "本章包括以下主题：\n",
    "1. [线性回归模型](fitting-a-line-through-data.ipynb)\n",
    "1. [评估线性回归模型](evaluating-the-linear-regression-model.ipynb)\n",
    "1. [用岭回归弥补线性回归的不足](using-ridge-regression-to-overcome-linear-regression-shortfalls.ipynb)\n",
    "1. [优化岭回归参数](optimizing-the-ridge-regression-parameter.ipynb)\n",
    "1. [LASSO正则化](using-sparsity-to-regularize-models.ipynb)\n",
    "1. [LARS正则化](taking-a-more-fundamental-approach-to-regularization-with-lars.ipynb)\n",
    "1. [用线性方法处理分类问题——逻辑回归](using-linear-methods-for-classification-logistic-regression.ipynb)\n",
    "1. [贝叶斯岭回归](directly-applying-bayesian-ridge-regression.ipynb)\n",
    "1. [用梯度提升回归从误差中学习](using-boosting-to-learn-from-errors.ipynb)\n",
    "\n",
    "<!-- TEASER_END -->"
   ]
  },
  {
   "cell_type": "markdown",
   "metadata": {},
   "source": [
    "## 简介"
   ]
  },
  {
   "cell_type": "markdown",
   "metadata": {},
   "source": [
    "线性模型是统计学和机器学习的基础。很多方法都利用变量的线性组合描述数据之间的关系。通常都要花费很大精力做各种变换，目的就是为了让数据可以描述成一种线性组合形式。\n",
    "\n",
    "本章，我们将从最简单的数据直线拟合模型到分类模型，最后介绍贝叶斯岭回归。"
   ]
  }
 ],
 "metadata": {
  "kernelspec": {
   "display_name": "Python 3",
   "language": "python",
   "name": "python3"
  },
  "language_info": {
   "codemirror_mode": {
    "name": "ipython",
    "version": 3
   },
   "file_extension": ".py",
   "mimetype": "text/x-python",
   "name": "python",
   "nbconvert_exporter": "python",
   "pygments_lexer": "ipython3",
   "version": "3.4.3"
  }
 },
 "nbformat": 4,
 "nbformat_minor": 0
}
