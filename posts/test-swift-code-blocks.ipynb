{
 "metadata": {
  "name": "",
  "signature": "sha256:c7e787ae5b2dc963f2e6763eebd88642cce00528fcebededcf3769ee1d1bcf9e"
 },
 "nbformat": 3,
 "nbformat_minor": 0,
 "worksheets": [
  {
   "cells": [
    {
     "cell_type": "markdown",
     "metadata": {},
     "source": [
      "<link rel=\"stylesheet\" href=\"../assets/css/xcode.css\">\n",
      "<script src=\"../assets/js/highlight.pack.js\"></script>\n",
      "<script>hljs.initHighlightingOnLoad();</script>\n",
      "\n",
      "```swift\n",
      "class DataImporter {\n",
      "    /*\n",
      "    DataImporter is a class to import data from an external file.\n",
      "    The class is assumed to take a non-trivial amount of time to initialize.\n",
      "    */\n",
      "    var fileName = \"data.txt\"\n",
      "    // the DataImporter class would provide data importing functionality here\n",
      "}\n",
      " \n",
      "class DataManager {\n",
      "    lazy var importer = DataImporter()\n",
      "    var data = [String]()\n",
      "    // the DataManager class would provide data management functionality here\n",
      "}\n",
      " \n",
      "let manager = DataManager()\n",
      "manager.data.append(\"Some data\")\n",
      "manager.data.append(\"Some more data\")\n",
      "// the DataImporter instance for the importer property has not yet been created\n",
      "```"
     ]
    },
    {
     "cell_type": "code",
     "collapsed": false,
     "input": [],
     "language": "python",
     "metadata": {},
     "outputs": []
    }
   ],
   "metadata": {}
  }
 ]
}