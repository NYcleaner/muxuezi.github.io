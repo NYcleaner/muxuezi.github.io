{
 "metadata": {
  "name": "",
  "signature": "sha256:a677dacabd1ed23564ce337417606a4aad5b97b15e62e8659465a9042d14920c"
 },
 "nbformat": 3,
 "nbformat_minor": 0,
 "worksheets": [
  {
   "cells": [
    {
     "cell_type": "heading",
     "level": 1,
     "metadata": {},
     "source": [
      "[Kadane's Algorithm](http://www.algorithmist.com/index.php/Kadane's_Algorithm)"
     ]
    },
    {
     "cell_type": "markdown",
     "metadata": {},
     "source": [
      "**Kadane's Algorithm** is an _O_(_n_) algorithm for finding the maximum contiguous [subsequence](/index.php/Subsequence \"Subsequence\") in a one-dimensional [sequence](/index.php/Sequence \"Sequence\").\n",
      "\n",
      "\n",
      "**Kadane\u7b97\u6cd5**\u662f\u7528\u4e8e\u5bfb\u627e\u4e00\u7ef4[\u6570\u7ec4](/index.php/Sequence \"Sequence\")\u6700\u5927\u8fde\u7eed[\u5b50\u96c6](/index.php/Subsequence \"Subsequence\")\uff0c\u590d\u6742\u5ea6_O_(_n_)\u3002\n",
      "\n",
      "<!-- TEASER_END -->\n",
      "\n",
      "```\n",
      "begin\n",
      "    (maxSum, maxStartIndex, maxEndIndex) := (-INFINITY, 0, 0)\n",
      "    currentMaxSum := 0\n",
      "    currentStartIndex := 1\n",
      "    for currentEndIndex := 1 to n do\n",
      "        currentMaxSum := currentMaxSum + array[currentEndIndex]\n",
      "        if currentMaxSum > maxSum then\n",
      "            (maxSum, maxStartIndex, maxEndIndex) := (currentMaxSum, currentStartIndex, currentEndIndex)\n",
      "        endif\n",
      "\n",
      "        if currentMaxSum < 0 then\n",
      "            currentMaxSum := 0\n",
      "            currentStartIndex := currentEndIndex + 1\n",
      "        endif\n",
      "    endfor\n",
      "\n",
      "    return (maxSum, maxStartIndex, maxEndIndex)\n",
      "end\n",
      "```"
     ]
    },
    {
     "cell_type": "code",
     "collapsed": false,
     "input": [
      "def max_subarray(A):\n",
      "    maxSum, maxStartIndex, maxEndIndex = A[0], 0, 0\n",
      "    currentMaxSum = 0\n",
      "    currentStartIndex = 0\n",
      "    for currentEndIndex, item in enumerate(A):\n",
      "        currentMaxSum = currentMaxSum + A[currentEndIndex]\n",
      "        if currentMaxSum > maxSum:\n",
      "            maxSum, maxStartIndex, maxEndIndex = currentMaxSum, currentStartIndex, currentEndIndex\n",
      "        if currentMaxSum < 0:\n",
      "            currentMaxSum = 0\n",
      "            currentStartIndex = currentEndIndex + 1\n",
      "    return (maxSum, maxStartIndex, maxEndIndex, A[maxStartIndex:maxEndIndex+1])"
     ],
     "language": "python",
     "metadata": {},
     "outputs": [],
     "prompt_number": 1
    },
    {
     "cell_type": "code",
     "collapsed": false,
     "input": [
      "x = [-2, 1, -3, 4, -1, 2, 1, -5, 4]\n",
      "print u'\u6700\u5927\u8fde\u7eed\u5b50\u96c6\uff1a\\n\u548c\u4e3a{}\uff0c\u8d77\u6b62\u4e0b\u6807{}\uff0c{}\u3002\\n\u5b50\u96c6\u4e3a{}'.format(*max_subarray(x))"
     ],
     "language": "python",
     "metadata": {},
     "outputs": [
      {
       "output_type": "stream",
       "stream": "stdout",
       "text": [
        "\u6700\u5927\u8fde\u7eed\u5b50\u96c6\uff1a\n",
        "\u548c\u4e3a6\uff0c\u8d77\u6b62\u4e0b\u68073\uff0c6\u3002\n",
        "\u5b50\u96c6\u4e3a[4, -1, 2, 1]\n"
       ]
      }
     ],
     "prompt_number": 2
    },
    {
     "cell_type": "code",
     "collapsed": false,
     "input": [
      "from IPython.display import HTML\n",
      "HTML('<iframe width=\"800\" height=\"500\" frameborder=\"0\" src=\"http://pythontutor.com/iframe-embed.html#code=def+max_subarray(A)%3A%0D%0A++++maxSum,+maxStartIndex,+maxEndIndex+%3D+A%5B0%5D,+0,+0%0D%0A++++currentMaxSum+%3D+0%0D%0A++++currentStartIndex+%3D+0%0D%0A++++for+currentEndIndex,+item+in+enumerate(A)%3A%0D%0A++++++++currentMaxSum+%3D+currentMaxSum+%2B+A%5BcurrentEndIndex%5D%0D%0A++++++++if+currentMaxSum+%3E+maxSum%3A%0D%0A++++++++++++maxSum,+maxStartIndex,+maxEndIndex+%3D+currentMaxSum,+currentStartIndex,+currentEndIndex%0D%0A++++++++if+currentMaxSum+%3C+0%3A%0D%0A++++++++++++currentMaxSum+%3D+0%0D%0A++++++++++++currentStartIndex+%3D+currentEndIndex+%2B+1%0D%0A++++return+(maxSum,+maxStartIndex,+maxEndIndex,+A%5BmaxStartIndex%3AmaxEndIndex%2B1%5D)%0D%0A++++%0D%0Ax+%3D+%5B-2,+1,+-3,+4,+-1,+2,+1,+-5,+4%5D%0D%0A%0D%0Amax_subarray(x)&origin=opt-frontend.js&cumulative=false&heapPrimitives=false&drawParentPointers=false&textReferences=false&showOnlyOutputs=false&py=2&rawInputLstJSON=%5B%5D&curInstr=52&codeDivWidth=350&codeDivHeight=400\"> </iframe>')"
     ],
     "language": "python",
     "metadata": {},
     "outputs": [
      {
       "html": [
        "<iframe width=\"800\" height=\"500\" frameborder=\"0\" src=\"http://pythontutor.com/iframe-embed.html#code=def+max_subarray(A)%3A%0D%0A++++maxSum,+maxStartIndex,+maxEndIndex+%3D+A%5B0%5D,+0,+0%0D%0A++++currentMaxSum+%3D+0%0D%0A++++currentStartIndex+%3D+0%0D%0A++++for+currentEndIndex,+item+in+enumerate(A)%3A%0D%0A++++++++currentMaxSum+%3D+currentMaxSum+%2B+A%5BcurrentEndIndex%5D%0D%0A++++++++if+currentMaxSum+%3E+maxSum%3A%0D%0A++++++++++++maxSum,+maxStartIndex,+maxEndIndex+%3D+currentMaxSum,+currentStartIndex,+currentEndIndex%0D%0A++++++++if+currentMaxSum+%3C+0%3A%0D%0A++++++++++++currentMaxSum+%3D+0%0D%0A++++++++++++currentStartIndex+%3D+currentEndIndex+%2B+1%0D%0A++++return+(maxSum,+maxStartIndex,+maxEndIndex,+A%5BmaxStartIndex%3AmaxEndIndex%2B1%5D)%0D%0A++++%0D%0Ax+%3D+%5B-2,+1,+-3,+4,+-1,+2,+1,+-5,+4%5D%0D%0A%0D%0Amax_subarray(x)&origin=opt-frontend.js&cumulative=false&heapPrimitives=false&drawParentPointers=false&textReferences=false&showOnlyOutputs=false&py=2&rawInputLstJSON=%5B%5D&curInstr=52&codeDivWidth=350&codeDivHeight=400\"> </iframe>"
       ],
       "metadata": {},
       "output_type": "pyout",
       "prompt_number": 1,
       "text": [
        "<IPython.core.display.HTML at 0x7faf300476d0>"
       ]
      }
     ],
     "prompt_number": 1
    },
    {
     "cell_type": "code",
     "collapsed": false,
     "input": [],
     "language": "python",
     "metadata": {},
     "outputs": []
    }
   ],
   "metadata": {}
  }
 ]
}